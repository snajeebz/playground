{
 "cells": [
  {
   "cell_type": "markdown",
   "id": "b0c88063",
   "metadata": {
    "papermill": {
     "duration": 0.013316,
     "end_time": "2024-02-21T22:22:54.633729",
     "exception": false,
     "start_time": "2024-02-21T22:22:54.620413",
     "status": "completed"
    },
    "tags": []
   },
   "source": [
    "# [Multi-Class Prediction of Obesity Risk](https://www.kaggle.com/competitions/playground-series-s4e2)\n",
    "### Playground Series - Season 4, Episode 2\n",
    "\n",
    "_______________________________________________________________________ \n",
    "# Author Details:\n",
    "- Name: Najeeb Haider Zaidi\n",
    "- Email: zaidi.nh@gmail.com\n",
    "- Profiles: [Github](https://github.com/snajeebz)  [LinkedIn](https://www.linkedin.com/in/najeebz) [Kaggle](https://www.kaggle.com/najeebz)\n",
    "- Prepared for the submission to the competition.\n",
    "________________________________________________________________________\n",
    "# Attributions:\n",
    "\n",
    "\n",
    "[Walter Reade, Ashley Chow. (2024). Multi-Class Prediction of Obesity Risk. Kaggle.](https://www.kaggle.com/competitions/playground-series-s4e2)\n",
    "________________________________________________________________________\n",
    "​\n",
    "This Notebook is to be submitted to the competition so aims to start the process from the beginning to the creation of the submission csv file in proper format.\n",
    "__________________________________________________________________________\n",
    "# Code Execution and Versioning Repository: \n",
    "- [Execute the notebook in Kaggle](https://www.kaggle.com/najeebz/multi-class-prediction-obesity-risk-catboost)\n",
    "- [Github Repository](https://github.com/snajeebz/playground)\n",
    "​\n",
    "____________________________________________________________________\n",
    "# Citation:\n",
    "\n",
    "Najeeb Zaidi. (2024). Multi-Class Prediction of Obesity Risk. Competition Submission. Kaggle. https://www.kaggle.com/najeebz/multi-class-prediction-obesity-risk-catboost"
   ]
  },
  {
   "cell_type": "code",
   "execution_count": 1,
   "id": "fff1d4f7",
   "metadata": {
    "_cell_guid": "b1076dfc-b9ad-4769-8c92-a6c4dae69d19",
    "_uuid": "8f2839f25d086af736a60e9eeb907d3b93b6e0e5",
    "execution": {
     "iopub.execute_input": "2024-02-21T22:22:54.662369Z",
     "iopub.status.busy": "2024-02-21T22:22:54.661506Z",
     "iopub.status.idle": "2024-02-21T22:22:57.111171Z",
     "shell.execute_reply": "2024-02-21T22:22:57.109828Z"
    },
    "papermill": {
     "duration": 2.468387,
     "end_time": "2024-02-21T22:22:57.115150",
     "exception": false,
     "start_time": "2024-02-21T22:22:54.646763",
     "status": "completed"
    },
    "tags": []
   },
   "outputs": [
    {
     "name": "stdout",
     "output_type": "stream",
     "text": [
      "/kaggle/input/playground-series-s4e2/sample_submission.csv\n",
      "/kaggle/input/playground-series-s4e2/train.csv\n",
      "/kaggle/input/playground-series-s4e2/test.csv\n"
     ]
    }
   ],
   "source": [
    "# This Python 3 environment comes with many helpful analytics libraries installed\n",
    "# It is defined by the kaggle/python Docker image: https://github.com/kaggle/docker-python\n",
    "# For example, here's several helpful packages to load\n",
    "\n",
    "import numpy as np # linear algebra\n",
    "import pandas as pd # data processing, CSV file I/O (e.g. pd.read_csv)\n",
    "import matplotlib.pyplot as plt\n",
    "import seaborn as sns\n",
    "\n",
    "# Input data files are available in the read-only \"../input/\" directory\n",
    "# For example, running this (by clicking run or pressing Shift+Enter) will list all files under the input directory\n",
    "from warnings import filterwarnings;\n",
    "filterwarnings('ignore')\n",
    "import os\n",
    "for dirname, _, filenames in os.walk('/kaggle/input'):\n",
    "    for filename in filenames:\n",
    "        print(os.path.join(dirname, filename))\n",
    "\n",
    "# You can write up to 20GB to the current directory (/kaggle/working/) that gets preserved as output when you create a version using \"Save & Run All\" \n",
    "# You can also write temporary files to /kaggle/temp/, but they won't be saved outside of the current session"
   ]
  },
  {
   "cell_type": "code",
   "execution_count": 2,
   "id": "d290f759",
   "metadata": {
    "execution": {
     "iopub.execute_input": "2024-02-21T22:22:57.147851Z",
     "iopub.status.busy": "2024-02-21T22:22:57.146918Z",
     "iopub.status.idle": "2024-02-21T22:22:57.327315Z",
     "shell.execute_reply": "2024-02-21T22:22:57.326023Z"
    },
    "papermill": {
     "duration": 0.200622,
     "end_time": "2024-02-21T22:22:57.330343",
     "exception": false,
     "start_time": "2024-02-21T22:22:57.129721",
     "status": "completed"
    },
    "tags": []
   },
   "outputs": [],
   "source": [
    "df=pd.read_csv('/kaggle/input/playground-series-s4e2/train.csv')\n",
    "test=pd.read_csv('/kaggle/input/playground-series-s4e2/test.csv')\n"
   ]
  },
  {
   "cell_type": "code",
   "execution_count": 3,
   "id": "dfd71467",
   "metadata": {
    "execution": {
     "iopub.execute_input": "2024-02-21T22:22:57.360486Z",
     "iopub.status.busy": "2024-02-21T22:22:57.359348Z",
     "iopub.status.idle": "2024-02-21T22:22:57.388867Z",
     "shell.execute_reply": "2024-02-21T22:22:57.387618Z"
    },
    "papermill": {
     "duration": 0.047609,
     "end_time": "2024-02-21T22:22:57.391464",
     "exception": false,
     "start_time": "2024-02-21T22:22:57.343855",
     "status": "completed"
    },
    "tags": []
   },
   "outputs": [
    {
     "data": {
      "text/html": [
       "<div>\n",
       "<style scoped>\n",
       "    .dataframe tbody tr th:only-of-type {\n",
       "        vertical-align: middle;\n",
       "    }\n",
       "\n",
       "    .dataframe tbody tr th {\n",
       "        vertical-align: top;\n",
       "    }\n",
       "\n",
       "    .dataframe thead th {\n",
       "        text-align: right;\n",
       "    }\n",
       "</style>\n",
       "<table border=\"1\" class=\"dataframe\">\n",
       "  <thead>\n",
       "    <tr style=\"text-align: right;\">\n",
       "      <th></th>\n",
       "      <th>id</th>\n",
       "      <th>Gender</th>\n",
       "      <th>Age</th>\n",
       "      <th>Height</th>\n",
       "      <th>Weight</th>\n",
       "      <th>family_history_with_overweight</th>\n",
       "      <th>FAVC</th>\n",
       "      <th>FCVC</th>\n",
       "      <th>NCP</th>\n",
       "      <th>CAEC</th>\n",
       "      <th>SMOKE</th>\n",
       "      <th>CH2O</th>\n",
       "      <th>SCC</th>\n",
       "      <th>FAF</th>\n",
       "      <th>TUE</th>\n",
       "      <th>CALC</th>\n",
       "      <th>MTRANS</th>\n",
       "      <th>NObeyesdad</th>\n",
       "    </tr>\n",
       "  </thead>\n",
       "  <tbody>\n",
       "    <tr>\n",
       "      <th>0</th>\n",
       "      <td>0</td>\n",
       "      <td>Male</td>\n",
       "      <td>24.443011</td>\n",
       "      <td>1.699998</td>\n",
       "      <td>81.669950</td>\n",
       "      <td>yes</td>\n",
       "      <td>yes</td>\n",
       "      <td>2.000000</td>\n",
       "      <td>2.983297</td>\n",
       "      <td>Sometimes</td>\n",
       "      <td>no</td>\n",
       "      <td>2.763573</td>\n",
       "      <td>no</td>\n",
       "      <td>0.000000</td>\n",
       "      <td>0.976473</td>\n",
       "      <td>Sometimes</td>\n",
       "      <td>Public_Transportation</td>\n",
       "      <td>Overweight_Level_II</td>\n",
       "    </tr>\n",
       "    <tr>\n",
       "      <th>1</th>\n",
       "      <td>1</td>\n",
       "      <td>Female</td>\n",
       "      <td>18.000000</td>\n",
       "      <td>1.560000</td>\n",
       "      <td>57.000000</td>\n",
       "      <td>yes</td>\n",
       "      <td>yes</td>\n",
       "      <td>2.000000</td>\n",
       "      <td>3.000000</td>\n",
       "      <td>Frequently</td>\n",
       "      <td>no</td>\n",
       "      <td>2.000000</td>\n",
       "      <td>no</td>\n",
       "      <td>1.000000</td>\n",
       "      <td>1.000000</td>\n",
       "      <td>no</td>\n",
       "      <td>Automobile</td>\n",
       "      <td>Normal_Weight</td>\n",
       "    </tr>\n",
       "    <tr>\n",
       "      <th>2</th>\n",
       "      <td>2</td>\n",
       "      <td>Female</td>\n",
       "      <td>18.000000</td>\n",
       "      <td>1.711460</td>\n",
       "      <td>50.165754</td>\n",
       "      <td>yes</td>\n",
       "      <td>yes</td>\n",
       "      <td>1.880534</td>\n",
       "      <td>1.411685</td>\n",
       "      <td>Sometimes</td>\n",
       "      <td>no</td>\n",
       "      <td>1.910378</td>\n",
       "      <td>no</td>\n",
       "      <td>0.866045</td>\n",
       "      <td>1.673584</td>\n",
       "      <td>no</td>\n",
       "      <td>Public_Transportation</td>\n",
       "      <td>Insufficient_Weight</td>\n",
       "    </tr>\n",
       "    <tr>\n",
       "      <th>3</th>\n",
       "      <td>3</td>\n",
       "      <td>Female</td>\n",
       "      <td>20.952737</td>\n",
       "      <td>1.710730</td>\n",
       "      <td>131.274851</td>\n",
       "      <td>yes</td>\n",
       "      <td>yes</td>\n",
       "      <td>3.000000</td>\n",
       "      <td>3.000000</td>\n",
       "      <td>Sometimes</td>\n",
       "      <td>no</td>\n",
       "      <td>1.674061</td>\n",
       "      <td>no</td>\n",
       "      <td>1.467863</td>\n",
       "      <td>0.780199</td>\n",
       "      <td>Sometimes</td>\n",
       "      <td>Public_Transportation</td>\n",
       "      <td>Obesity_Type_III</td>\n",
       "    </tr>\n",
       "    <tr>\n",
       "      <th>4</th>\n",
       "      <td>4</td>\n",
       "      <td>Male</td>\n",
       "      <td>31.641081</td>\n",
       "      <td>1.914186</td>\n",
       "      <td>93.798055</td>\n",
       "      <td>yes</td>\n",
       "      <td>yes</td>\n",
       "      <td>2.679664</td>\n",
       "      <td>1.971472</td>\n",
       "      <td>Sometimes</td>\n",
       "      <td>no</td>\n",
       "      <td>1.979848</td>\n",
       "      <td>no</td>\n",
       "      <td>1.967973</td>\n",
       "      <td>0.931721</td>\n",
       "      <td>Sometimes</td>\n",
       "      <td>Public_Transportation</td>\n",
       "      <td>Overweight_Level_II</td>\n",
       "    </tr>\n",
       "  </tbody>\n",
       "</table>\n",
       "</div>"
      ],
      "text/plain": [
       "   id  Gender        Age    Height      Weight family_history_with_overweight  \\\n",
       "0   0    Male  24.443011  1.699998   81.669950                            yes   \n",
       "1   1  Female  18.000000  1.560000   57.000000                            yes   \n",
       "2   2  Female  18.000000  1.711460   50.165754                            yes   \n",
       "3   3  Female  20.952737  1.710730  131.274851                            yes   \n",
       "4   4    Male  31.641081  1.914186   93.798055                            yes   \n",
       "\n",
       "  FAVC      FCVC       NCP        CAEC SMOKE      CH2O SCC       FAF  \\\n",
       "0  yes  2.000000  2.983297   Sometimes    no  2.763573  no  0.000000   \n",
       "1  yes  2.000000  3.000000  Frequently    no  2.000000  no  1.000000   \n",
       "2  yes  1.880534  1.411685   Sometimes    no  1.910378  no  0.866045   \n",
       "3  yes  3.000000  3.000000   Sometimes    no  1.674061  no  1.467863   \n",
       "4  yes  2.679664  1.971472   Sometimes    no  1.979848  no  1.967973   \n",
       "\n",
       "        TUE       CALC                 MTRANS           NObeyesdad  \n",
       "0  0.976473  Sometimes  Public_Transportation  Overweight_Level_II  \n",
       "1  1.000000         no             Automobile        Normal_Weight  \n",
       "2  1.673584         no  Public_Transportation  Insufficient_Weight  \n",
       "3  0.780199  Sometimes  Public_Transportation     Obesity_Type_III  \n",
       "4  0.931721  Sometimes  Public_Transportation  Overweight_Level_II  "
      ]
     },
     "execution_count": 3,
     "metadata": {},
     "output_type": "execute_result"
    }
   ],
   "source": [
    "df.head()"
   ]
  },
  {
   "cell_type": "code",
   "execution_count": 4,
   "id": "7874f514",
   "metadata": {
    "execution": {
     "iopub.execute_input": "2024-02-21T22:22:57.420485Z",
     "iopub.status.busy": "2024-02-21T22:22:57.420083Z",
     "iopub.status.idle": "2024-02-21T22:22:57.441865Z",
     "shell.execute_reply": "2024-02-21T22:22:57.440699Z"
    },
    "papermill": {
     "duration": 0.039853,
     "end_time": "2024-02-21T22:22:57.444776",
     "exception": false,
     "start_time": "2024-02-21T22:22:57.404923",
     "status": "completed"
    },
    "tags": []
   },
   "outputs": [
    {
     "data": {
      "text/html": [
       "<div>\n",
       "<style scoped>\n",
       "    .dataframe tbody tr th:only-of-type {\n",
       "        vertical-align: middle;\n",
       "    }\n",
       "\n",
       "    .dataframe tbody tr th {\n",
       "        vertical-align: top;\n",
       "    }\n",
       "\n",
       "    .dataframe thead th {\n",
       "        text-align: right;\n",
       "    }\n",
       "</style>\n",
       "<table border=\"1\" class=\"dataframe\">\n",
       "  <thead>\n",
       "    <tr style=\"text-align: right;\">\n",
       "      <th></th>\n",
       "      <th>id</th>\n",
       "      <th>Gender</th>\n",
       "      <th>Age</th>\n",
       "      <th>Height</th>\n",
       "      <th>Weight</th>\n",
       "      <th>family_history_with_overweight</th>\n",
       "      <th>FAVC</th>\n",
       "      <th>FCVC</th>\n",
       "      <th>NCP</th>\n",
       "      <th>CAEC</th>\n",
       "      <th>SMOKE</th>\n",
       "      <th>CH2O</th>\n",
       "      <th>SCC</th>\n",
       "      <th>FAF</th>\n",
       "      <th>TUE</th>\n",
       "      <th>CALC</th>\n",
       "      <th>MTRANS</th>\n",
       "    </tr>\n",
       "  </thead>\n",
       "  <tbody>\n",
       "    <tr>\n",
       "      <th>0</th>\n",
       "      <td>20758</td>\n",
       "      <td>Male</td>\n",
       "      <td>26.899886</td>\n",
       "      <td>1.848294</td>\n",
       "      <td>120.644178</td>\n",
       "      <td>yes</td>\n",
       "      <td>yes</td>\n",
       "      <td>2.938616</td>\n",
       "      <td>3.000000</td>\n",
       "      <td>Sometimes</td>\n",
       "      <td>no</td>\n",
       "      <td>2.825629</td>\n",
       "      <td>no</td>\n",
       "      <td>0.855400</td>\n",
       "      <td>0.000000</td>\n",
       "      <td>Sometimes</td>\n",
       "      <td>Public_Transportation</td>\n",
       "    </tr>\n",
       "    <tr>\n",
       "      <th>1</th>\n",
       "      <td>20759</td>\n",
       "      <td>Female</td>\n",
       "      <td>21.000000</td>\n",
       "      <td>1.600000</td>\n",
       "      <td>66.000000</td>\n",
       "      <td>yes</td>\n",
       "      <td>yes</td>\n",
       "      <td>2.000000</td>\n",
       "      <td>1.000000</td>\n",
       "      <td>Sometimes</td>\n",
       "      <td>no</td>\n",
       "      <td>3.000000</td>\n",
       "      <td>no</td>\n",
       "      <td>1.000000</td>\n",
       "      <td>0.000000</td>\n",
       "      <td>Sometimes</td>\n",
       "      <td>Public_Transportation</td>\n",
       "    </tr>\n",
       "    <tr>\n",
       "      <th>2</th>\n",
       "      <td>20760</td>\n",
       "      <td>Female</td>\n",
       "      <td>26.000000</td>\n",
       "      <td>1.643355</td>\n",
       "      <td>111.600553</td>\n",
       "      <td>yes</td>\n",
       "      <td>yes</td>\n",
       "      <td>3.000000</td>\n",
       "      <td>3.000000</td>\n",
       "      <td>Sometimes</td>\n",
       "      <td>no</td>\n",
       "      <td>2.621877</td>\n",
       "      <td>no</td>\n",
       "      <td>0.000000</td>\n",
       "      <td>0.250502</td>\n",
       "      <td>Sometimes</td>\n",
       "      <td>Public_Transportation</td>\n",
       "    </tr>\n",
       "    <tr>\n",
       "      <th>3</th>\n",
       "      <td>20761</td>\n",
       "      <td>Male</td>\n",
       "      <td>20.979254</td>\n",
       "      <td>1.553127</td>\n",
       "      <td>103.669116</td>\n",
       "      <td>yes</td>\n",
       "      <td>yes</td>\n",
       "      <td>2.000000</td>\n",
       "      <td>2.977909</td>\n",
       "      <td>Sometimes</td>\n",
       "      <td>no</td>\n",
       "      <td>2.786417</td>\n",
       "      <td>no</td>\n",
       "      <td>0.094851</td>\n",
       "      <td>0.000000</td>\n",
       "      <td>Sometimes</td>\n",
       "      <td>Public_Transportation</td>\n",
       "    </tr>\n",
       "    <tr>\n",
       "      <th>4</th>\n",
       "      <td>20762</td>\n",
       "      <td>Female</td>\n",
       "      <td>26.000000</td>\n",
       "      <td>1.627396</td>\n",
       "      <td>104.835346</td>\n",
       "      <td>yes</td>\n",
       "      <td>yes</td>\n",
       "      <td>3.000000</td>\n",
       "      <td>3.000000</td>\n",
       "      <td>Sometimes</td>\n",
       "      <td>no</td>\n",
       "      <td>2.653531</td>\n",
       "      <td>no</td>\n",
       "      <td>0.000000</td>\n",
       "      <td>0.741069</td>\n",
       "      <td>Sometimes</td>\n",
       "      <td>Public_Transportation</td>\n",
       "    </tr>\n",
       "  </tbody>\n",
       "</table>\n",
       "</div>"
      ],
      "text/plain": [
       "      id  Gender        Age    Height      Weight  \\\n",
       "0  20758    Male  26.899886  1.848294  120.644178   \n",
       "1  20759  Female  21.000000  1.600000   66.000000   \n",
       "2  20760  Female  26.000000  1.643355  111.600553   \n",
       "3  20761    Male  20.979254  1.553127  103.669116   \n",
       "4  20762  Female  26.000000  1.627396  104.835346   \n",
       "\n",
       "  family_history_with_overweight FAVC      FCVC       NCP       CAEC SMOKE  \\\n",
       "0                            yes  yes  2.938616  3.000000  Sometimes    no   \n",
       "1                            yes  yes  2.000000  1.000000  Sometimes    no   \n",
       "2                            yes  yes  3.000000  3.000000  Sometimes    no   \n",
       "3                            yes  yes  2.000000  2.977909  Sometimes    no   \n",
       "4                            yes  yes  3.000000  3.000000  Sometimes    no   \n",
       "\n",
       "       CH2O SCC       FAF       TUE       CALC                 MTRANS  \n",
       "0  2.825629  no  0.855400  0.000000  Sometimes  Public_Transportation  \n",
       "1  3.000000  no  1.000000  0.000000  Sometimes  Public_Transportation  \n",
       "2  2.621877  no  0.000000  0.250502  Sometimes  Public_Transportation  \n",
       "3  2.786417  no  0.094851  0.000000  Sometimes  Public_Transportation  \n",
       "4  2.653531  no  0.000000  0.741069  Sometimes  Public_Transportation  "
      ]
     },
     "execution_count": 4,
     "metadata": {},
     "output_type": "execute_result"
    }
   ],
   "source": [
    "test.head()"
   ]
  },
  {
   "cell_type": "code",
   "execution_count": 5,
   "id": "8163e642",
   "metadata": {
    "execution": {
     "iopub.execute_input": "2024-02-21T22:22:57.475641Z",
     "iopub.status.busy": "2024-02-21T22:22:57.475191Z",
     "iopub.status.idle": "2024-02-21T22:22:57.497242Z",
     "shell.execute_reply": "2024-02-21T22:22:57.496087Z"
    },
    "papermill": {
     "duration": 0.040113,
     "end_time": "2024-02-21T22:22:57.499851",
     "exception": false,
     "start_time": "2024-02-21T22:22:57.459738",
     "status": "completed"
    },
    "tags": []
   },
   "outputs": [
    {
     "data": {
      "text/plain": [
       "id                                0\n",
       "Gender                            0\n",
       "Age                               0\n",
       "Height                            0\n",
       "Weight                            0\n",
       "family_history_with_overweight    0\n",
       "FAVC                              0\n",
       "FCVC                              0\n",
       "NCP                               0\n",
       "CAEC                              0\n",
       "SMOKE                             0\n",
       "CH2O                              0\n",
       "SCC                               0\n",
       "FAF                               0\n",
       "TUE                               0\n",
       "CALC                              0\n",
       "MTRANS                            0\n",
       "NObeyesdad                        0\n",
       "dtype: int64"
      ]
     },
     "execution_count": 5,
     "metadata": {},
     "output_type": "execute_result"
    }
   ],
   "source": [
    "df.isnull().sum()\n"
   ]
  },
  {
   "cell_type": "code",
   "execution_count": 6,
   "id": "789d0eb0",
   "metadata": {
    "execution": {
     "iopub.execute_input": "2024-02-21T22:22:57.531648Z",
     "iopub.status.busy": "2024-02-21T22:22:57.531244Z",
     "iopub.status.idle": "2024-02-21T22:22:57.545325Z",
     "shell.execute_reply": "2024-02-21T22:22:57.544519Z"
    },
    "papermill": {
     "duration": 0.03249,
     "end_time": "2024-02-21T22:22:57.548039",
     "exception": false,
     "start_time": "2024-02-21T22:22:57.515549",
     "status": "completed"
    },
    "tags": []
   },
   "outputs": [
    {
     "data": {
      "text/plain": [
       "id                                0\n",
       "Gender                            0\n",
       "Age                               0\n",
       "Height                            0\n",
       "Weight                            0\n",
       "family_history_with_overweight    0\n",
       "FAVC                              0\n",
       "FCVC                              0\n",
       "NCP                               0\n",
       "CAEC                              0\n",
       "SMOKE                             0\n",
       "CH2O                              0\n",
       "SCC                               0\n",
       "FAF                               0\n",
       "TUE                               0\n",
       "CALC                              0\n",
       "MTRANS                            0\n",
       "dtype: int64"
      ]
     },
     "execution_count": 6,
     "metadata": {},
     "output_type": "execute_result"
    }
   ],
   "source": [
    "test.isnull().sum()\n"
   ]
  },
  {
   "cell_type": "code",
   "execution_count": 7,
   "id": "c1e00d02",
   "metadata": {
    "execution": {
     "iopub.execute_input": "2024-02-21T22:22:57.579255Z",
     "iopub.status.busy": "2024-02-21T22:22:57.578857Z",
     "iopub.status.idle": "2024-02-21T22:22:57.585629Z",
     "shell.execute_reply": "2024-02-21T22:22:57.584630Z"
    },
    "papermill": {
     "duration": 0.024426,
     "end_time": "2024-02-21T22:22:57.587802",
     "exception": false,
     "start_time": "2024-02-21T22:22:57.563376",
     "status": "completed"
    },
    "tags": []
   },
   "outputs": [
    {
     "data": {
      "text/plain": [
       "Index(['id', 'Gender', 'Age', 'Height', 'Weight',\n",
       "       'family_history_with_overweight', 'FAVC', 'FCVC', 'NCP', 'CAEC',\n",
       "       'SMOKE', 'CH2O', 'SCC', 'FAF', 'TUE', 'CALC', 'MTRANS', 'NObeyesdad'],\n",
       "      dtype='object')"
      ]
     },
     "execution_count": 7,
     "metadata": {},
     "output_type": "execute_result"
    }
   ],
   "source": [
    "df.columns"
   ]
  },
  {
   "cell_type": "markdown",
   "id": "c3533928",
   "metadata": {
    "papermill": {
     "duration": 0.013806,
     "end_time": "2024-02-21T22:22:57.615783",
     "exception": false,
     "start_time": "2024-02-21T22:22:57.601977",
     "status": "completed"
    },
    "tags": []
   },
   "source": [
    "# Dataset Description:\n",
    "\n",
    "The dataset for this competition (both train and test) was generated from a deep learning model trained on the Obesity or CVD risk dataset. Feature distributions are close to, but not exactly the same, as the original. Both to explore differences as well as to see whether incorporating the original in training improves model performance.\n",
    "\n",
    "Note: This dataset is particularly well suited for visualizations, clustering, and general EDA.\n",
    "\n",
    "Files\n",
    "train.csv - the training dataset; NObeyesdad is the categorical target\n",
    "test.csv - the test dataset; your objective is to predict the class of NObeyesdad for each row\n",
    "sample_submission.csv - a sample submission file in the correct format"
   ]
  },
  {
   "cell_type": "markdown",
   "id": "9def31cc",
   "metadata": {
    "papermill": {
     "duration": 0.014296,
     "end_time": "2024-02-21T22:22:57.644219",
     "exception": false,
     "start_time": "2024-02-21T22:22:57.629923",
     "status": "completed"
    },
    "tags": []
   },
   "source": [
    "# Visualization"
   ]
  },
  {
   "cell_type": "code",
   "execution_count": 8,
   "id": "17475ed7",
   "metadata": {
    "execution": {
     "iopub.execute_input": "2024-02-21T22:22:57.674742Z",
     "iopub.status.busy": "2024-02-21T22:22:57.674334Z",
     "iopub.status.idle": "2024-02-21T22:22:57.693933Z",
     "shell.execute_reply": "2024-02-21T22:22:57.692281Z"
    },
    "papermill": {
     "duration": 0.038993,
     "end_time": "2024-02-21T22:22:57.697488",
     "exception": false,
     "start_time": "2024-02-21T22:22:57.658495",
     "status": "completed"
    },
    "tags": []
   },
   "outputs": [],
   "source": [
    "cat_cols=df[['Gender','family_history_with_overweight','FAVC','CAEC','SMOKE','SCC','CALC','MTRANS','NObeyesdad']]\n",
    "num_cols=df[['Age','Height','Weight','FCVC','NCP','CH2O','FAF','TUE']]\n"
   ]
  },
  {
   "cell_type": "markdown",
   "id": "59ea71aa",
   "metadata": {
    "papermill": {
     "duration": 0.013787,
     "end_time": "2024-02-21T22:22:57.725701",
     "exception": false,
     "start_time": "2024-02-21T22:22:57.711914",
     "status": "completed"
    },
    "tags": []
   },
   "source": [
    "# Individual Columns"
   ]
  },
  {
   "cell_type": "markdown",
   "id": "5851ce94",
   "metadata": {
    "papermill": {
     "duration": 0.014151,
     "end_time": "2024-02-21T22:22:57.754711",
     "exception": false,
     "start_time": "2024-02-21T22:22:57.740560",
     "status": "completed"
    },
    "tags": []
   },
   "source": [
    "## Categorical Data Value Counts Plots"
   ]
  },
  {
   "cell_type": "code",
   "execution_count": 9,
   "id": "15db6375",
   "metadata": {
    "execution": {
     "iopub.execute_input": "2024-02-21T22:22:57.785259Z",
     "iopub.status.busy": "2024-02-21T22:22:57.784896Z",
     "iopub.status.idle": "2024-02-21T22:22:57.789025Z",
     "shell.execute_reply": "2024-02-21T22:22:57.788023Z"
    },
    "papermill": {
     "duration": 0.022347,
     "end_time": "2024-02-21T22:22:57.791158",
     "exception": false,
     "start_time": "2024-02-21T22:22:57.768811",
     "status": "completed"
    },
    "tags": []
   },
   "outputs": [],
   "source": [
    "#for col in cat_cols:\n",
    " #   plt.figure(figsize=[15,7])\n",
    "  #  sns.countplot(df,x=df[col]).set(title= col+' Value Distribution')\n",
    "   # plt.show()"
   ]
  },
  {
   "cell_type": "markdown",
   "id": "97d2c897",
   "metadata": {
    "papermill": {
     "duration": 0.01369,
     "end_time": "2024-02-21T22:22:57.819570",
     "exception": false,
     "start_time": "2024-02-21T22:22:57.805880",
     "status": "completed"
    },
    "tags": []
   },
   "source": [
    "## Numerical Columns Histograms and Mean Medians"
   ]
  },
  {
   "cell_type": "code",
   "execution_count": 10,
   "id": "42e8b4ae",
   "metadata": {
    "execution": {
     "iopub.execute_input": "2024-02-21T22:22:57.850035Z",
     "iopub.status.busy": "2024-02-21T22:22:57.849618Z",
     "iopub.status.idle": "2024-02-21T22:22:57.854332Z",
     "shell.execute_reply": "2024-02-21T22:22:57.853163Z"
    },
    "papermill": {
     "duration": 0.023155,
     "end_time": "2024-02-21T22:22:57.856686",
     "exception": false,
     "start_time": "2024-02-21T22:22:57.833531",
     "status": "completed"
    },
    "tags": []
   },
   "outputs": [],
   "source": [
    "#for col in num_cols:\n",
    " #   plt.figure(figsize=[10,7])\n",
    "  #  sns.distplot(df[col],kde=True).set(title= col+' Histogram')\n",
    "   # plt.axvline(df[col].mean(),color='r', label='Mean')\n",
    "    #plt.axvline(df[col].median(),color='y', linestyle='--',label='Median')\n",
    "    #plt.legend()\n",
    "    #plt.show()\n"
   ]
  },
  {
   "cell_type": "markdown",
   "id": "cddd0209",
   "metadata": {
    "papermill": {
     "duration": 0.013651,
     "end_time": "2024-02-21T22:22:57.885273",
     "exception": false,
     "start_time": "2024-02-21T22:22:57.871622",
     "status": "completed"
    },
    "tags": []
   },
   "source": [
    "# Categorical Columns Data Hierarchy "
   ]
  },
  {
   "cell_type": "code",
   "execution_count": 11,
   "id": "ff4ce722",
   "metadata": {
    "execution": {
     "iopub.execute_input": "2024-02-21T22:22:57.915034Z",
     "iopub.status.busy": "2024-02-21T22:22:57.914680Z",
     "iopub.status.idle": "2024-02-21T22:22:57.919356Z",
     "shell.execute_reply": "2024-02-21T22:22:57.917954Z"
    },
    "papermill": {
     "duration": 0.022594,
     "end_time": "2024-02-21T22:22:57.921886",
     "exception": false,
     "start_time": "2024-02-21T22:22:57.899292",
     "status": "completed"
    },
    "tags": []
   },
   "outputs": [],
   "source": [
    "#import plotly.express as px\n",
    "#fig = px.sunburst(\n",
    " #   df,\n",
    "  #  path=['NObeyesdad','Gender','MTRANS','family_history_with_overweight','SMOKE'], \n",
    "   # color='Gender',color_discrete_map={'Male':'gold', 'Female':'darkblue'},\n",
    "    #width=1200, height=1200\n",
    "#)\n",
    "#fig.show()\n",
    "\n"
   ]
  },
  {
   "cell_type": "markdown",
   "id": "b7b0a0b3",
   "metadata": {
    "papermill": {
     "duration": 0.014337,
     "end_time": "2024-02-21T22:22:57.950692",
     "exception": false,
     "start_time": "2024-02-21T22:22:57.936355",
     "status": "completed"
    },
    "tags": []
   },
   "source": [
    "## Analysis Note:\n",
    "Obesity type 2 and Obesity type 3 are specific to one gender only as per the dataset"
   ]
  },
  {
   "cell_type": "markdown",
   "id": "a34cd3b3",
   "metadata": {
    "papermill": {
     "duration": 0.013887,
     "end_time": "2024-02-21T22:22:57.978703",
     "exception": false,
     "start_time": "2024-02-21T22:22:57.964816",
     "status": "completed"
    },
    "tags": []
   },
   "source": [
    "# Numerical Columns Gender wise Distribution in NObeyesdad"
   ]
  },
  {
   "cell_type": "code",
   "execution_count": 12,
   "id": "b804e446",
   "metadata": {
    "execution": {
     "iopub.execute_input": "2024-02-21T22:22:58.008552Z",
     "iopub.status.busy": "2024-02-21T22:22:58.008167Z",
     "iopub.status.idle": "2024-02-21T22:22:58.012330Z",
     "shell.execute_reply": "2024-02-21T22:22:58.011234Z"
    },
    "papermill": {
     "duration": 0.02185,
     "end_time": "2024-02-21T22:22:58.014510",
     "exception": false,
     "start_time": "2024-02-21T22:22:57.992660",
     "status": "completed"
    },
    "tags": []
   },
   "outputs": [],
   "source": [
    "#for col in num_cols:\n",
    " #   plt.figure(figsize=(15, 5))\n",
    "  #  sns.lineplot(data=df, x='NObeyesdad', y=col, hue='Gender').set(title= col+' vs NObeyesdad')\n",
    "    "
   ]
  },
  {
   "cell_type": "code",
   "execution_count": 13,
   "id": "21823139",
   "metadata": {
    "execution": {
     "iopub.execute_input": "2024-02-21T22:22:58.107245Z",
     "iopub.status.busy": "2024-02-21T22:22:58.106878Z",
     "iopub.status.idle": "2024-02-21T22:22:58.120945Z",
     "shell.execute_reply": "2024-02-21T22:22:58.119720Z"
    },
    "papermill": {
     "duration": 0.032335,
     "end_time": "2024-02-21T22:22:58.123280",
     "exception": false,
     "start_time": "2024-02-21T22:22:58.090945",
     "status": "completed"
    },
    "tags": []
   },
   "outputs": [
    {
     "data": {
      "text/plain": [
       "NObeyesdad\n",
       "Obesity_Type_III       4046\n",
       "Obesity_Type_II        3248\n",
       "Normal_Weight          3082\n",
       "Obesity_Type_I         2910\n",
       "Insufficient_Weight    2523\n",
       "Overweight_Level_II    2522\n",
       "Overweight_Level_I     2427\n",
       "Name: count, dtype: int64"
      ]
     },
     "execution_count": 13,
     "metadata": {},
     "output_type": "execute_result"
    }
   ],
   "source": [
    "df['NObeyesdad'].value_counts()"
   ]
  },
  {
   "cell_type": "markdown",
   "id": "6cfd6014",
   "metadata": {
    "papermill": {
     "duration": 0.014312,
     "end_time": "2024-02-21T22:22:58.152863",
     "exception": false,
     "start_time": "2024-02-21T22:22:58.138551",
     "status": "completed"
    },
    "tags": []
   },
   "source": [
    "## Observations:\n",
    "1. No Nulls\n",
    "1. There are seven classifications, in which the data is divided. The column to predict is NObeyesdad\n",
    "1. There are two classes of NObeyesdad specific to Male and Female only.\n",
    "1. Data Distribution is quite uniform, all classes have 2400-3200 representation apart of one class which has 4046 rows.\n"
   ]
  },
  {
   "cell_type": "code",
   "execution_count": 14,
   "id": "2e401327",
   "metadata": {
    "execution": {
     "iopub.execute_input": "2024-02-21T22:22:58.183585Z",
     "iopub.status.busy": "2024-02-21T22:22:58.183181Z",
     "iopub.status.idle": "2024-02-21T22:22:58.190245Z",
     "shell.execute_reply": "2024-02-21T22:22:58.189147Z"
    },
    "papermill": {
     "duration": 0.025489,
     "end_time": "2024-02-21T22:22:58.192847",
     "exception": false,
     "start_time": "2024-02-21T22:22:58.167358",
     "status": "completed"
    },
    "tags": []
   },
   "outputs": [
    {
     "data": {
      "text/plain": [
       "Index(['id', 'Gender', 'Age', 'Height', 'Weight',\n",
       "       'family_history_with_overweight', 'FAVC', 'FCVC', 'NCP', 'CAEC',\n",
       "       'SMOKE', 'CH2O', 'SCC', 'FAF', 'TUE', 'CALC', 'MTRANS', 'NObeyesdad'],\n",
       "      dtype='object')"
      ]
     },
     "execution_count": 14,
     "metadata": {},
     "output_type": "execute_result"
    }
   ],
   "source": [
    "df.columns"
   ]
  },
  {
   "cell_type": "markdown",
   "id": "18352caf",
   "metadata": {
    "papermill": {
     "duration": 0.016325,
     "end_time": "2024-02-21T22:22:58.224955",
     "exception": false,
     "start_time": "2024-02-21T22:22:58.208630",
     "status": "completed"
    },
    "tags": []
   },
   "source": [
    "# Features Generation"
   ]
  },
  {
   "cell_type": "markdown",
   "id": "8abc6610",
   "metadata": {
    "papermill": {
     "duration": 0.014283,
     "end_time": "2024-02-21T22:22:58.254707",
     "exception": false,
     "start_time": "2024-02-21T22:22:58.240424",
     "status": "completed"
    },
    "tags": []
   },
   "source": [
    "## Feature 1: BMI\n",
    "Body mass index (BMI) is a value derived from the mass (weight) and height of a person. The BMI is defined as the body mass divided by the square of the body height, and is expressed in units of kg/m2, resulting from mass in kilograms (kg) and height in metres (m).\n",
    "\n",
    "In the current dataset, BMI can be used to distinguis two classes out of the seven; (Normal_Weight and Insufficient_Weight)"
   ]
  },
  {
   "cell_type": "code",
   "execution_count": 15,
   "id": "cc6f13b4",
   "metadata": {
    "execution": {
     "iopub.execute_input": "2024-02-21T22:22:58.287702Z",
     "iopub.status.busy": "2024-02-21T22:22:58.287045Z",
     "iopub.status.idle": "2024-02-21T22:22:58.294227Z",
     "shell.execute_reply": "2024-02-21T22:22:58.293358Z"
    },
    "papermill": {
     "duration": 0.026496,
     "end_time": "2024-02-21T22:22:58.296408",
     "exception": false,
     "start_time": "2024-02-21T22:22:58.269912",
     "status": "completed"
    },
    "tags": []
   },
   "outputs": [],
   "source": [
    "df['BMI']=df['Weight']/df['Height']\n",
    "test['BMI']=test['Weight']/test['Height']\n"
   ]
  },
  {
   "cell_type": "code",
   "execution_count": 16,
   "id": "5f18f472",
   "metadata": {
    "execution": {
     "iopub.execute_input": "2024-02-21T22:22:58.329214Z",
     "iopub.status.busy": "2024-02-21T22:22:58.328856Z",
     "iopub.status.idle": "2024-02-21T22:22:58.332967Z",
     "shell.execute_reply": "2024-02-21T22:22:58.331694Z"
    },
    "papermill": {
     "duration": 0.025092,
     "end_time": "2024-02-21T22:22:58.336186",
     "exception": false,
     "start_time": "2024-02-21T22:22:58.311094",
     "status": "completed"
    },
    "tags": []
   },
   "outputs": [],
   "source": [
    "#plt.figure(figsize=(15, 5))\n",
    "\n",
    "#sns.boxplot(data=df,x='NObeyesdad',y='BMI', hue='Gender')"
   ]
  },
  {
   "cell_type": "code",
   "execution_count": 17,
   "id": "88e517f0",
   "metadata": {
    "execution": {
     "iopub.execute_input": "2024-02-21T22:22:58.370178Z",
     "iopub.status.busy": "2024-02-21T22:22:58.369797Z",
     "iopub.status.idle": "2024-02-21T22:22:58.374537Z",
     "shell.execute_reply": "2024-02-21T22:22:58.373430Z"
    },
    "papermill": {
     "duration": 0.024548,
     "end_time": "2024-02-21T22:22:58.376918",
     "exception": false,
     "start_time": "2024-02-21T22:22:58.352370",
     "status": "completed"
    },
    "tags": []
   },
   "outputs": [],
   "source": [
    "#describe_df=df['BMI'][df['NObeyesdad']=='Normal_Weight'].describe().reset_index()\n",
    "#describe_df.rename(columns={'BMI':'Normal_Weight'}, inplace=True)\n",
    "#describe_df['Underweight']=df['BMI'][df['NObeyesdad']=='Insufficient_Weight'].describe().reset_index().BMI\n",
    "#describe_df.drop(0).plot.bar(x='index')"
   ]
  },
  {
   "cell_type": "code",
   "execution_count": 18,
   "id": "5b915774",
   "metadata": {
    "execution": {
     "iopub.execute_input": "2024-02-21T22:22:58.407996Z",
     "iopub.status.busy": "2024-02-21T22:22:58.407603Z",
     "iopub.status.idle": "2024-02-21T22:22:58.412046Z",
     "shell.execute_reply": "2024-02-21T22:22:58.411014Z"
    },
    "papermill": {
     "duration": 0.022638,
     "end_time": "2024-02-21T22:22:58.414406",
     "exception": false,
     "start_time": "2024-02-21T22:22:58.391768",
     "status": "completed"
    },
    "tags": []
   },
   "outputs": [],
   "source": [
    "#sns.distplot(df['BMI'][df['NObeyesdad']=='Insufficient_Weight'],kde=True).set(title= 'BMI Under Weight Histogram')\n",
    "#plt.axvline(df['BMI'][df['NObeyesdad']=='Insufficient_Weight'].mean(),color='r', label='Mean')\n",
    "#plt.axvline(df['BMI'][df['NObeyesdad']=='Insufficient_Weight'].median(),color='y', linestyle='--',label='Median')\n",
    "#plt.legend()\n",
    "#df['BMI'][df['NObeyesdad']=='Insufficient_Weight'].describe()"
   ]
  },
  {
   "cell_type": "code",
   "execution_count": 19,
   "id": "c7c58418",
   "metadata": {
    "execution": {
     "iopub.execute_input": "2024-02-21T22:22:58.447513Z",
     "iopub.status.busy": "2024-02-21T22:22:58.447113Z",
     "iopub.status.idle": "2024-02-21T22:22:59.035756Z",
     "shell.execute_reply": "2024-02-21T22:22:59.034579Z"
    },
    "papermill": {
     "duration": 0.608278,
     "end_time": "2024-02-21T22:22:59.038152",
     "exception": false,
     "start_time": "2024-02-21T22:22:58.429874",
     "status": "completed"
    },
    "tags": []
   },
   "outputs": [
    {
     "data": {
      "text/plain": [
       "count    3082.000000\n",
       "mean       36.745113\n",
       "std         4.012057\n",
       "min        25.149701\n",
       "25%        33.742331\n",
       "50%        36.419753\n",
       "75%        39.757165\n",
       "max        51.497006\n",
       "Name: BMI, dtype: float64"
      ]
     },
     "execution_count": 19,
     "metadata": {},
     "output_type": "execute_result"
    },
    {
     "data": {
      "image/png": "[encoded data removed]",
      "text/plain": [
       "<Figure size 640x480 with 1 Axes>"
      ]
     },
     "metadata": {},
     "output_type": "display_data"
    }
   ],
   "source": [
    "sns.distplot(df['BMI'][df['NObeyesdad']=='Normal_Weight'],kde=True).set(title= 'BMI Normal Weight Histogram')\n",
    "plt.axvline(df['BMI'][df['NObeyesdad']=='Normal_Weight'].mean(),color='r', label='Mean')\n",
    "plt.axvline(df['BMI'][df['NObeyesdad']=='Normal_Weight'].median(),color='y', linestyle='--',label='Median')\n",
    "plt.legend()\n",
    "df['BMI'][df['NObeyesdad']=='Normal_Weight'].describe()"
   ]
  },
  {
   "cell_type": "markdown",
   "id": "4188cbd7",
   "metadata": {
    "papermill": {
     "duration": 0.015045,
     "end_time": "2024-02-21T22:22:59.068667",
     "exception": false,
     "start_time": "2024-02-21T22:22:59.053622",
     "status": "completed"
    },
    "tags": []
   },
   "source": [
    "## Analysis:\n",
    "BMI for the data doesn't reflect any linear relationship with obesity classification, and in contrast of the earlier assumption there are significant amount of outliers.It indicates that there must exist unaccounted, linear or non linear variables.We can have following scenarios;\n",
    "1. delete the outliers, from the training dataset and train the model based on linearly related data only. \n",
    "1. Keep the data intact and add a 3 cluster column to it based on Height, Gender and Weight and/or Gender and BMI we can also add age in some equations to identify nonlinear relations.\n",
    "\n",
    "In this Notebook we will go with option two and will create two K-mean Clusters."
   ]
  },
  {
   "cell_type": "markdown",
   "id": "1a9c4e0a",
   "metadata": {
    "papermill": {
     "duration": 0.016388,
     "end_time": "2024-02-21T22:22:59.100533",
     "exception": false,
     "start_time": "2024-02-21T22:22:59.084145",
     "status": "completed"
    },
    "tags": []
   },
   "source": [
    "In order to create clusters with Gender, we need to convert Gender into Numeric Column, Modifying the dataset, so let's make a copy of training data. before moving further"
   ]
  },
  {
   "cell_type": "code",
   "execution_count": 20,
   "id": "b7c7edb1",
   "metadata": {
    "execution": {
     "iopub.execute_input": "2024-02-21T22:22:59.133313Z",
     "iopub.status.busy": "2024-02-21T22:22:59.132929Z",
     "iopub.status.idle": "2024-02-21T22:22:59.147390Z",
     "shell.execute_reply": "2024-02-21T22:22:59.146166Z"
    },
    "papermill": {
     "duration": 0.033685,
     "end_time": "2024-02-21T22:22:59.150050",
     "exception": false,
     "start_time": "2024-02-21T22:22:59.116365",
     "status": "completed"
    },
    "tags": []
   },
   "outputs": [
    {
     "data": {
      "text/plain": [
       "Index(['Gender', 'Age', 'Height', 'Weight', 'family_history_with_overweight',\n",
       "       'FAVC', 'FCVC', 'NCP', 'CAEC', 'SMOKE', 'CH2O', 'SCC', 'FAF', 'TUE',\n",
       "       'CALC', 'MTRANS', 'NObeyesdad', 'BMI'],\n",
       "      dtype='object')"
      ]
     },
     "execution_count": 20,
     "metadata": {},
     "output_type": "execute_result"
    }
   ],
   "source": [
    "train_df=df.drop(columns='id')\n",
    "test_df=test.drop(columns='id')\n",
    "\n",
    "train_df.columns"
   ]
  },
  {
   "cell_type": "markdown",
   "id": "80a72a5a",
   "metadata": {
    "papermill": {
     "duration": 0.01572,
     "end_time": "2024-02-21T22:22:59.181737",
     "exception": false,
     "start_time": "2024-02-21T22:22:59.166017",
     "status": "completed"
    },
    "tags": []
   },
   "source": [
    "## Now let's convert the labelled Catergorical Columns in Numeric/Boolean"
   ]
  },
  {
   "cell_type": "code",
   "execution_count": 21,
   "id": "594d657c",
   "metadata": {
    "execution": {
     "iopub.execute_input": "2024-02-21T22:22:59.215056Z",
     "iopub.status.busy": "2024-02-21T22:22:59.213895Z",
     "iopub.status.idle": "2024-02-21T22:22:59.230057Z",
     "shell.execute_reply": "2024-02-21T22:22:59.228907Z"
    },
    "papermill": {
     "duration": 0.035678,
     "end_time": "2024-02-21T22:22:59.232948",
     "exception": false,
     "start_time": "2024-02-21T22:22:59.197270",
     "status": "completed"
    },
    "tags": []
   },
   "outputs": [
    {
     "data": {
      "text/html": [
       "<div>\n",
       "<style scoped>\n",
       "    .dataframe tbody tr th:only-of-type {\n",
       "        vertical-align: middle;\n",
       "    }\n",
       "\n",
       "    .dataframe tbody tr th {\n",
       "        vertical-align: top;\n",
       "    }\n",
       "\n",
       "    .dataframe thead th {\n",
       "        text-align: right;\n",
       "    }\n",
       "</style>\n",
       "<table border=\"1\" class=\"dataframe\">\n",
       "  <thead>\n",
       "    <tr style=\"text-align: right;\">\n",
       "      <th></th>\n",
       "      <th>Gender</th>\n",
       "      <th>family_history_with_overweight</th>\n",
       "      <th>FAVC</th>\n",
       "      <th>CAEC</th>\n",
       "      <th>SMOKE</th>\n",
       "      <th>SCC</th>\n",
       "      <th>CALC</th>\n",
       "      <th>MTRANS</th>\n",
       "      <th>NObeyesdad</th>\n",
       "    </tr>\n",
       "  </thead>\n",
       "  <tbody>\n",
       "    <tr>\n",
       "      <th>0</th>\n",
       "      <td>Male</td>\n",
       "      <td>yes</td>\n",
       "      <td>yes</td>\n",
       "      <td>Sometimes</td>\n",
       "      <td>no</td>\n",
       "      <td>no</td>\n",
       "      <td>Sometimes</td>\n",
       "      <td>Public_Transportation</td>\n",
       "      <td>Overweight_Level_II</td>\n",
       "    </tr>\n",
       "    <tr>\n",
       "      <th>1</th>\n",
       "      <td>Female</td>\n",
       "      <td>yes</td>\n",
       "      <td>yes</td>\n",
       "      <td>Frequently</td>\n",
       "      <td>no</td>\n",
       "      <td>no</td>\n",
       "      <td>no</td>\n",
       "      <td>Automobile</td>\n",
       "      <td>Normal_Weight</td>\n",
       "    </tr>\n",
       "    <tr>\n",
       "      <th>2</th>\n",
       "      <td>Female</td>\n",
       "      <td>yes</td>\n",
       "      <td>yes</td>\n",
       "      <td>Sometimes</td>\n",
       "      <td>no</td>\n",
       "      <td>no</td>\n",
       "      <td>no</td>\n",
       "      <td>Public_Transportation</td>\n",
       "      <td>Insufficient_Weight</td>\n",
       "    </tr>\n",
       "    <tr>\n",
       "      <th>3</th>\n",
       "      <td>Female</td>\n",
       "      <td>yes</td>\n",
       "      <td>yes</td>\n",
       "      <td>Sometimes</td>\n",
       "      <td>no</td>\n",
       "      <td>no</td>\n",
       "      <td>Sometimes</td>\n",
       "      <td>Public_Transportation</td>\n",
       "      <td>Obesity_Type_III</td>\n",
       "    </tr>\n",
       "    <tr>\n",
       "      <th>4</th>\n",
       "      <td>Male</td>\n",
       "      <td>yes</td>\n",
       "      <td>yes</td>\n",
       "      <td>Sometimes</td>\n",
       "      <td>no</td>\n",
       "      <td>no</td>\n",
       "      <td>Sometimes</td>\n",
       "      <td>Public_Transportation</td>\n",
       "      <td>Overweight_Level_II</td>\n",
       "    </tr>\n",
       "  </tbody>\n",
       "</table>\n",
       "</div>"
      ],
      "text/plain": [
       "   Gender family_history_with_overweight FAVC        CAEC SMOKE SCC  \\\n",
       "0    Male                            yes  yes   Sometimes    no  no   \n",
       "1  Female                            yes  yes  Frequently    no  no   \n",
       "2  Female                            yes  yes   Sometimes    no  no   \n",
       "3  Female                            yes  yes   Sometimes    no  no   \n",
       "4    Male                            yes  yes   Sometimes    no  no   \n",
       "\n",
       "        CALC                 MTRANS           NObeyesdad  \n",
       "0  Sometimes  Public_Transportation  Overweight_Level_II  \n",
       "1         no             Automobile        Normal_Weight  \n",
       "2         no  Public_Transportation  Insufficient_Weight  \n",
       "3  Sometimes  Public_Transportation     Obesity_Type_III  \n",
       "4  Sometimes  Public_Transportation  Overweight_Level_II  "
      ]
     },
     "execution_count": 21,
     "metadata": {},
     "output_type": "execute_result"
    }
   ],
   "source": [
    "cat_cols.head()"
   ]
  },
  {
   "cell_type": "code",
   "execution_count": 22,
   "id": "e2fbf37a",
   "metadata": {
    "execution": {
     "iopub.execute_input": "2024-02-21T22:22:59.266398Z",
     "iopub.status.busy": "2024-02-21T22:22:59.266007Z",
     "iopub.status.idle": "2024-02-21T22:22:59.270852Z",
     "shell.execute_reply": "2024-02-21T22:22:59.269712Z"
    },
    "papermill": {
     "duration": 0.02407,
     "end_time": "2024-02-21T22:22:59.273101",
     "exception": false,
     "start_time": "2024-02-21T22:22:59.249031",
     "status": "completed"
    },
    "tags": []
   },
   "outputs": [],
   "source": [
    "#train_df=pd.get_dummies(train_df,columns=['Gender','family_history_with_overweight','SMOKE','MTRANS','SCC','FAVC','CAEC'],dtype=int)\n",
    "#test_df=pd.get_dummies(test_df,columns=['Gender','family_history_with_overweight','SMOKE','MTRANS','SCC','FAVC','CAEC'],dtype=int)"
   ]
  },
  {
   "cell_type": "code",
   "execution_count": 23,
   "id": "cea0088a",
   "metadata": {
    "execution": {
     "iopub.execute_input": "2024-02-21T22:22:59.306506Z",
     "iopub.status.busy": "2024-02-21T22:22:59.306104Z",
     "iopub.status.idle": "2024-02-21T22:22:59.330738Z",
     "shell.execute_reply": "2024-02-21T22:22:59.329522Z"
    },
    "papermill": {
     "duration": 0.044047,
     "end_time": "2024-02-21T22:22:59.333000",
     "exception": false,
     "start_time": "2024-02-21T22:22:59.288953",
     "status": "completed"
    },
    "tags": []
   },
   "outputs": [
    {
     "data": {
      "text/html": [
       "<div>\n",
       "<style scoped>\n",
       "    .dataframe tbody tr th:only-of-type {\n",
       "        vertical-align: middle;\n",
       "    }\n",
       "\n",
       "    .dataframe tbody tr th {\n",
       "        vertical-align: top;\n",
       "    }\n",
       "\n",
       "    .dataframe thead th {\n",
       "        text-align: right;\n",
       "    }\n",
       "</style>\n",
       "<table border=\"1\" class=\"dataframe\">\n",
       "  <thead>\n",
       "    <tr style=\"text-align: right;\">\n",
       "      <th></th>\n",
       "      <th>Gender</th>\n",
       "      <th>Age</th>\n",
       "      <th>Height</th>\n",
       "      <th>Weight</th>\n",
       "      <th>family_history_with_overweight</th>\n",
       "      <th>FAVC</th>\n",
       "      <th>FCVC</th>\n",
       "      <th>NCP</th>\n",
       "      <th>CAEC</th>\n",
       "      <th>SMOKE</th>\n",
       "      <th>CH2O</th>\n",
       "      <th>SCC</th>\n",
       "      <th>FAF</th>\n",
       "      <th>TUE</th>\n",
       "      <th>CALC</th>\n",
       "      <th>MTRANS</th>\n",
       "      <th>BMI</th>\n",
       "    </tr>\n",
       "  </thead>\n",
       "  <tbody>\n",
       "    <tr>\n",
       "      <th>0</th>\n",
       "      <td>Male</td>\n",
       "      <td>26.899886</td>\n",
       "      <td>1.848294</td>\n",
       "      <td>120.644178</td>\n",
       "      <td>yes</td>\n",
       "      <td>yes</td>\n",
       "      <td>2.938616</td>\n",
       "      <td>3.000000</td>\n",
       "      <td>Sometimes</td>\n",
       "      <td>no</td>\n",
       "      <td>2.825629</td>\n",
       "      <td>no</td>\n",
       "      <td>0.855400</td>\n",
       "      <td>0.000000</td>\n",
       "      <td>Sometimes</td>\n",
       "      <td>Public_Transportation</td>\n",
       "      <td>65.273262</td>\n",
       "    </tr>\n",
       "    <tr>\n",
       "      <th>1</th>\n",
       "      <td>Female</td>\n",
       "      <td>21.000000</td>\n",
       "      <td>1.600000</td>\n",
       "      <td>66.000000</td>\n",
       "      <td>yes</td>\n",
       "      <td>yes</td>\n",
       "      <td>2.000000</td>\n",
       "      <td>1.000000</td>\n",
       "      <td>Sometimes</td>\n",
       "      <td>no</td>\n",
       "      <td>3.000000</td>\n",
       "      <td>no</td>\n",
       "      <td>1.000000</td>\n",
       "      <td>0.000000</td>\n",
       "      <td>Sometimes</td>\n",
       "      <td>Public_Transportation</td>\n",
       "      <td>41.250000</td>\n",
       "    </tr>\n",
       "    <tr>\n",
       "      <th>2</th>\n",
       "      <td>Female</td>\n",
       "      <td>26.000000</td>\n",
       "      <td>1.643355</td>\n",
       "      <td>111.600553</td>\n",
       "      <td>yes</td>\n",
       "      <td>yes</td>\n",
       "      <td>3.000000</td>\n",
       "      <td>3.000000</td>\n",
       "      <td>Sometimes</td>\n",
       "      <td>no</td>\n",
       "      <td>2.621877</td>\n",
       "      <td>no</td>\n",
       "      <td>0.000000</td>\n",
       "      <td>0.250502</td>\n",
       "      <td>Sometimes</td>\n",
       "      <td>Public_Transportation</td>\n",
       "      <td>67.910192</td>\n",
       "    </tr>\n",
       "    <tr>\n",
       "      <th>3</th>\n",
       "      <td>Male</td>\n",
       "      <td>20.979254</td>\n",
       "      <td>1.553127</td>\n",
       "      <td>103.669116</td>\n",
       "      <td>yes</td>\n",
       "      <td>yes</td>\n",
       "      <td>2.000000</td>\n",
       "      <td>2.977909</td>\n",
       "      <td>Sometimes</td>\n",
       "      <td>no</td>\n",
       "      <td>2.786417</td>\n",
       "      <td>no</td>\n",
       "      <td>0.094851</td>\n",
       "      <td>0.000000</td>\n",
       "      <td>Sometimes</td>\n",
       "      <td>Public_Transportation</td>\n",
       "      <td>66.748641</td>\n",
       "    </tr>\n",
       "    <tr>\n",
       "      <th>4</th>\n",
       "      <td>Female</td>\n",
       "      <td>26.000000</td>\n",
       "      <td>1.627396</td>\n",
       "      <td>104.835346</td>\n",
       "      <td>yes</td>\n",
       "      <td>yes</td>\n",
       "      <td>3.000000</td>\n",
       "      <td>3.000000</td>\n",
       "      <td>Sometimes</td>\n",
       "      <td>no</td>\n",
       "      <td>2.653531</td>\n",
       "      <td>no</td>\n",
       "      <td>0.000000</td>\n",
       "      <td>0.741069</td>\n",
       "      <td>Sometimes</td>\n",
       "      <td>Public_Transportation</td>\n",
       "      <td>64.419076</td>\n",
       "    </tr>\n",
       "    <tr>\n",
       "      <th>...</th>\n",
       "      <td>...</td>\n",
       "      <td>...</td>\n",
       "      <td>...</td>\n",
       "      <td>...</td>\n",
       "      <td>...</td>\n",
       "      <td>...</td>\n",
       "      <td>...</td>\n",
       "      <td>...</td>\n",
       "      <td>...</td>\n",
       "      <td>...</td>\n",
       "      <td>...</td>\n",
       "      <td>...</td>\n",
       "      <td>...</td>\n",
       "      <td>...</td>\n",
       "      <td>...</td>\n",
       "      <td>...</td>\n",
       "      <td>...</td>\n",
       "    </tr>\n",
       "    <tr>\n",
       "      <th>13835</th>\n",
       "      <td>Male</td>\n",
       "      <td>23.327836</td>\n",
       "      <td>1.721384</td>\n",
       "      <td>78.030383</td>\n",
       "      <td>yes</td>\n",
       "      <td>no</td>\n",
       "      <td>2.813234</td>\n",
       "      <td>3.000000</td>\n",
       "      <td>Sometimes</td>\n",
       "      <td>no</td>\n",
       "      <td>1.000000</td>\n",
       "      <td>no</td>\n",
       "      <td>0.807076</td>\n",
       "      <td>0.778632</td>\n",
       "      <td>Sometimes</td>\n",
       "      <td>Public_Transportation</td>\n",
       "      <td>45.330027</td>\n",
       "    </tr>\n",
       "    <tr>\n",
       "      <th>13836</th>\n",
       "      <td>Female</td>\n",
       "      <td>29.000000</td>\n",
       "      <td>1.590000</td>\n",
       "      <td>62.000000</td>\n",
       "      <td>no</td>\n",
       "      <td>yes</td>\n",
       "      <td>3.000000</td>\n",
       "      <td>3.000000</td>\n",
       "      <td>Sometimes</td>\n",
       "      <td>no</td>\n",
       "      <td>2.000000</td>\n",
       "      <td>no</td>\n",
       "      <td>0.000000</td>\n",
       "      <td>0.000000</td>\n",
       "      <td>Sometimes</td>\n",
       "      <td>Public_Transportation</td>\n",
       "      <td>38.993711</td>\n",
       "    </tr>\n",
       "    <tr>\n",
       "      <th>13837</th>\n",
       "      <td>Female</td>\n",
       "      <td>22.935612</td>\n",
       "      <td>1.585547</td>\n",
       "      <td>44.376637</td>\n",
       "      <td>no</td>\n",
       "      <td>yes</td>\n",
       "      <td>3.000000</td>\n",
       "      <td>2.273740</td>\n",
       "      <td>Frequently</td>\n",
       "      <td>no</td>\n",
       "      <td>2.000000</td>\n",
       "      <td>no</td>\n",
       "      <td>1.949840</td>\n",
       "      <td>1.000000</td>\n",
       "      <td>Sometimes</td>\n",
       "      <td>Public_Transportation</td>\n",
       "      <td>27.988219</td>\n",
       "    </tr>\n",
       "    <tr>\n",
       "      <th>13838</th>\n",
       "      <td>Male</td>\n",
       "      <td>21.000000</td>\n",
       "      <td>1.620000</td>\n",
       "      <td>53.000000</td>\n",
       "      <td>yes</td>\n",
       "      <td>yes</td>\n",
       "      <td>2.000000</td>\n",
       "      <td>3.000000</td>\n",
       "      <td>Sometimes</td>\n",
       "      <td>no</td>\n",
       "      <td>2.000000</td>\n",
       "      <td>no</td>\n",
       "      <td>3.000000</td>\n",
       "      <td>2.000000</td>\n",
       "      <td>no</td>\n",
       "      <td>Public_Transportation</td>\n",
       "      <td>32.716049</td>\n",
       "    </tr>\n",
       "    <tr>\n",
       "      <th>13839</th>\n",
       "      <td>Male</td>\n",
       "      <td>26.490926</td>\n",
       "      <td>1.812259</td>\n",
       "      <td>120.980508</td>\n",
       "      <td>yes</td>\n",
       "      <td>yes</td>\n",
       "      <td>2.744994</td>\n",
       "      <td>3.000000</td>\n",
       "      <td>Sometimes</td>\n",
       "      <td>no</td>\n",
       "      <td>2.205977</td>\n",
       "      <td>no</td>\n",
       "      <td>1.304291</td>\n",
       "      <td>0.630866</td>\n",
       "      <td>Sometimes</td>\n",
       "      <td>Public_Transportation</td>\n",
       "      <td>66.756743</td>\n",
       "    </tr>\n",
       "  </tbody>\n",
       "</table>\n",
       "<p>13840 rows × 17 columns</p>\n",
       "</div>"
      ],
      "text/plain": [
       "       Gender        Age    Height      Weight family_history_with_overweight  \\\n",
       "0        Male  26.899886  1.848294  120.644178                            yes   \n",
       "1      Female  21.000000  1.600000   66.000000                            yes   \n",
       "2      Female  26.000000  1.643355  111.600553                            yes   \n",
       "3        Male  20.979254  1.553127  103.669116                            yes   \n",
       "4      Female  26.000000  1.627396  104.835346                            yes   \n",
       "...       ...        ...       ...         ...                            ...   \n",
       "13835    Male  23.327836  1.721384   78.030383                            yes   \n",
       "13836  Female  29.000000  1.590000   62.000000                             no   \n",
       "13837  Female  22.935612  1.585547   44.376637                             no   \n",
       "13838    Male  21.000000  1.620000   53.000000                            yes   \n",
       "13839    Male  26.490926  1.812259  120.980508                            yes   \n",
       "\n",
       "      FAVC      FCVC       NCP        CAEC SMOKE      CH2O SCC       FAF  \\\n",
       "0      yes  2.938616  3.000000   Sometimes    no  2.825629  no  0.855400   \n",
       "1      yes  2.000000  1.000000   Sometimes    no  3.000000  no  1.000000   \n",
       "2      yes  3.000000  3.000000   Sometimes    no  2.621877  no  0.000000   \n",
       "3      yes  2.000000  2.977909   Sometimes    no  2.786417  no  0.094851   \n",
       "4      yes  3.000000  3.000000   Sometimes    no  2.653531  no  0.000000   \n",
       "...    ...       ...       ...         ...   ...       ...  ..       ...   \n",
       "13835   no  2.813234  3.000000   Sometimes    no  1.000000  no  0.807076   \n",
       "13836  yes  3.000000  3.000000   Sometimes    no  2.000000  no  0.000000   \n",
       "13837  yes  3.000000  2.273740  Frequently    no  2.000000  no  1.949840   \n",
       "13838  yes  2.000000  3.000000   Sometimes    no  2.000000  no  3.000000   \n",
       "13839  yes  2.744994  3.000000   Sometimes    no  2.205977  no  1.304291   \n",
       "\n",
       "            TUE       CALC                 MTRANS        BMI  \n",
       "0      0.000000  Sometimes  Public_Transportation  65.273262  \n",
       "1      0.000000  Sometimes  Public_Transportation  41.250000  \n",
       "2      0.250502  Sometimes  Public_Transportation  67.910192  \n",
       "3      0.000000  Sometimes  Public_Transportation  66.748641  \n",
       "4      0.741069  Sometimes  Public_Transportation  64.419076  \n",
       "...         ...        ...                    ...        ...  \n",
       "13835  0.778632  Sometimes  Public_Transportation  45.330027  \n",
       "13836  0.000000  Sometimes  Public_Transportation  38.993711  \n",
       "13837  1.000000  Sometimes  Public_Transportation  27.988219  \n",
       "13838  2.000000         no  Public_Transportation  32.716049  \n",
       "13839  0.630866  Sometimes  Public_Transportation  66.756743  \n",
       "\n",
       "[13840 rows x 17 columns]"
      ]
     },
     "execution_count": 23,
     "metadata": {},
     "output_type": "execute_result"
    }
   ],
   "source": [
    "test_df"
   ]
  },
  {
   "cell_type": "markdown",
   "id": "24721a50",
   "metadata": {
    "papermill": {
     "duration": 0.015628,
     "end_time": "2024-02-21T22:22:59.365189",
     "exception": false,
     "start_time": "2024-02-21T22:22:59.349561",
     "status": "completed"
    },
    "tags": []
   },
   "source": [
    "## Labelling the NObeyesdad and CALC Column\n",
    "Since test dataset has one additional unique value for CALC column i-e Always, So we need to encode the column separately"
   ]
  },
  {
   "cell_type": "code",
   "execution_count": 24,
   "id": "06380fac",
   "metadata": {
    "execution": {
     "iopub.execute_input": "2024-02-21T22:22:59.400025Z",
     "iopub.status.busy": "2024-02-21T22:22:59.399648Z",
     "iopub.status.idle": "2024-02-21T22:22:59.404364Z",
     "shell.execute_reply": "2024-02-21T22:22:59.403261Z"
    },
    "papermill": {
     "duration": 0.025088,
     "end_time": "2024-02-21T22:22:59.406681",
     "exception": false,
     "start_time": "2024-02-21T22:22:59.381593",
     "status": "completed"
    },
    "tags": []
   },
   "outputs": [],
   "source": [
    "#test['CALC'].unique()"
   ]
  },
  {
   "cell_type": "code",
   "execution_count": 25,
   "id": "bceeb4b3",
   "metadata": {
    "execution": {
     "iopub.execute_input": "2024-02-21T22:22:59.440640Z",
     "iopub.status.busy": "2024-02-21T22:22:59.440261Z",
     "iopub.status.idle": "2024-02-21T22:22:59.444973Z",
     "shell.execute_reply": "2024-02-21T22:22:59.443856Z"
    },
    "papermill": {
     "duration": 0.024211,
     "end_time": "2024-02-21T22:22:59.447092",
     "exception": false,
     "start_time": "2024-02-21T22:22:59.422881",
     "status": "completed"
    },
    "tags": []
   },
   "outputs": [],
   "source": [
    "#train_df['NObeyesdad'] = df['NObeyesdad'].map({'Overweight_Level_II':0, 'Normal_Weight':1,'Insufficient_Weight':2,'Obesity_Type_III':3,'Obesity_Type_II':4,'Overweight_Level_I':5,'Obesity_Type_I':6})\n",
    "#train_df['CALC'] = df['CALC'].map({'no':0, 'Sometimes':1,'Frequently':2,'Always':3})\n",
    "#test_df['CALC'] = test['CALC'].map({'no':0, 'Sometimes':1,'Frequently':2,'Always':3})\n"
   ]
  },
  {
   "cell_type": "code",
   "execution_count": 26,
   "id": "b70c7126",
   "metadata": {
    "execution": {
     "iopub.execute_input": "2024-02-21T22:22:59.481681Z",
     "iopub.status.busy": "2024-02-21T22:22:59.481271Z",
     "iopub.status.idle": "2024-02-21T22:22:59.490713Z",
     "shell.execute_reply": "2024-02-21T22:22:59.489675Z"
    },
    "papermill": {
     "duration": 0.02925,
     "end_time": "2024-02-21T22:22:59.493045",
     "exception": false,
     "start_time": "2024-02-21T22:22:59.463795",
     "status": "completed"
    },
    "tags": []
   },
   "outputs": [
    {
     "data": {
      "text/plain": [
       "array(['Overweight_Level_II', 'Normal_Weight', 'Insufficient_Weight',\n",
       "       'Obesity_Type_III', 'Obesity_Type_II', 'Overweight_Level_I',\n",
       "       'Obesity_Type_I'], dtype=object)"
      ]
     },
     "execution_count": 26,
     "metadata": {},
     "output_type": "execute_result"
    }
   ],
   "source": [
    "train_df['NObeyesdad'].unique()"
   ]
  },
  {
   "cell_type": "code",
   "execution_count": 27,
   "id": "5840c950",
   "metadata": {
    "execution": {
     "iopub.execute_input": "2024-02-21T22:22:59.526977Z",
     "iopub.status.busy": "2024-02-21T22:22:59.526619Z",
     "iopub.status.idle": "2024-02-21T22:22:59.533353Z",
     "shell.execute_reply": "2024-02-21T22:22:59.532223Z"
    },
    "papermill": {
     "duration": 0.026332,
     "end_time": "2024-02-21T22:22:59.535588",
     "exception": false,
     "start_time": "2024-02-21T22:22:59.509256",
     "status": "completed"
    },
    "tags": []
   },
   "outputs": [
    {
     "data": {
      "text/plain": [
       "Index(['Gender', 'Age', 'Height', 'Weight', 'family_history_with_overweight',\n",
       "       'FAVC', 'FCVC', 'NCP', 'CAEC', 'SMOKE', 'CH2O', 'SCC', 'FAF', 'TUE',\n",
       "       'CALC', 'MTRANS', 'NObeyesdad', 'BMI'],\n",
       "      dtype='object')"
      ]
     },
     "execution_count": 27,
     "metadata": {},
     "output_type": "execute_result"
    }
   ],
   "source": [
    "train_df.columns"
   ]
  },
  {
   "cell_type": "code",
   "execution_count": 28,
   "id": "d28faacb",
   "metadata": {
    "execution": {
     "iopub.execute_input": "2024-02-21T22:22:59.570144Z",
     "iopub.status.busy": "2024-02-21T22:22:59.569734Z",
     "iopub.status.idle": "2024-02-21T22:22:59.575913Z",
     "shell.execute_reply": "2024-02-21T22:22:59.575156Z"
    },
    "papermill": {
     "duration": 0.026213,
     "end_time": "2024-02-21T22:22:59.577991",
     "exception": false,
     "start_time": "2024-02-21T22:22:59.551778",
     "status": "completed"
    },
    "tags": []
   },
   "outputs": [
    {
     "data": {
      "text/plain": [
       "Index(['Gender', 'Age', 'Height', 'Weight', 'family_history_with_overweight',\n",
       "       'FAVC', 'FCVC', 'NCP', 'CAEC', 'SMOKE', 'CH2O', 'SCC', 'FAF', 'TUE',\n",
       "       'CALC', 'MTRANS', 'BMI'],\n",
       "      dtype='object')"
      ]
     },
     "execution_count": 28,
     "metadata": {},
     "output_type": "execute_result"
    }
   ],
   "source": [
    "test_df.columns"
   ]
  },
  {
   "cell_type": "markdown",
   "id": "7a4749f3",
   "metadata": {
    "papermill": {
     "duration": 0.01608,
     "end_time": "2024-02-21T22:22:59.610703",
     "exception": false,
     "start_time": "2024-02-21T22:22:59.594623",
     "status": "completed"
    },
    "tags": []
   },
   "source": [
    "## Creating Clusterred Features."
   ]
  },
  {
   "cell_type": "code",
   "execution_count": 29,
   "id": "239b75a3",
   "metadata": {
    "execution": {
     "iopub.execute_input": "2024-02-21T22:22:59.645817Z",
     "iopub.status.busy": "2024-02-21T22:22:59.645413Z",
     "iopub.status.idle": "2024-02-21T22:23:00.539791Z",
     "shell.execute_reply": "2024-02-21T22:23:00.538213Z"
    },
    "papermill": {
     "duration": 0.914607,
     "end_time": "2024-02-21T22:23:00.542208",
     "exception": false,
     "start_time": "2024-02-21T22:22:59.627601",
     "status": "completed"
    },
    "tags": []
   },
   "outputs": [],
   "source": [
    "def cluster(X):\n",
    "    from sklearn import cluster\n",
    "    agglo = cluster.KMeans(n_clusters=5,random_state=0, n_init=\"auto\")\n",
    "    agglo.fit(X)\n",
    "    return ((agglo.labels_+1)/5)\n",
    "\n",
    "X=train_df[['BMI', 'Weight', 'Age']]\n",
    "train_df['Cluster-1']=cluster(X)  \n",
    "\n",
    "\n",
    "X=test_df[['BMI', 'Weight', 'Age']]\n",
    "test_df['Cluster-1']=cluster(X) \n"
   ]
  },
  {
   "cell_type": "markdown",
   "id": "830c06cc",
   "metadata": {
    "papermill": {
     "duration": 0.01645,
     "end_time": "2024-02-21T22:23:00.578092",
     "exception": false,
     "start_time": "2024-02-21T22:23:00.561642",
     "status": "completed"
    },
    "tags": []
   },
   "source": [
    "# Correlation between Features"
   ]
  },
  {
   "cell_type": "code",
   "execution_count": 30,
   "id": "1d9f33b1",
   "metadata": {
    "execution": {
     "iopub.execute_input": "2024-02-21T22:23:00.613728Z",
     "iopub.status.busy": "2024-02-21T22:23:00.612455Z",
     "iopub.status.idle": "2024-02-21T22:23:00.617529Z",
     "shell.execute_reply": "2024-02-21T22:23:00.616483Z"
    },
    "papermill": {
     "duration": 0.025205,
     "end_time": "2024-02-21T22:23:00.619890",
     "exception": false,
     "start_time": "2024-02-21T22:23:00.594685",
     "status": "completed"
    },
    "tags": []
   },
   "outputs": [],
   "source": [
    "#corr = train_df.corr()\n",
    "# plot the heatmap\n",
    "#plt.figure(figsize=(30,30))\n",
    "#s=sns.heatmap(corr,annot=True, cmap='crest')"
   ]
  },
  {
   "cell_type": "markdown",
   "id": "c7c66b6a",
   "metadata": {
    "papermill": {
     "duration": 0.016144,
     "end_time": "2024-02-21T22:23:00.652630",
     "exception": false,
     "start_time": "2024-02-21T22:23:00.636486",
     "status": "completed"
    },
    "tags": []
   },
   "source": [
    "# Creating Testing and Training Data"
   ]
  },
  {
   "cell_type": "code",
   "execution_count": 31,
   "id": "b8bc4b9d",
   "metadata": {
    "execution": {
     "iopub.execute_input": "2024-02-21T22:23:00.690583Z",
     "iopub.status.busy": "2024-02-21T22:23:00.690163Z",
     "iopub.status.idle": "2024-02-21T22:23:00.696777Z",
     "shell.execute_reply": "2024-02-21T22:23:00.695146Z"
    },
    "papermill": {
     "duration": 0.028866,
     "end_time": "2024-02-21T22:23:00.699790",
     "exception": false,
     "start_time": "2024-02-21T22:23:00.670924",
     "status": "completed"
    },
    "tags": []
   },
   "outputs": [],
   "source": [
    "def scale(X):\n",
    "    from sklearn import preprocessing\n",
    "    scaled=preprocessing.StandardScaler()\n",
    "    scaler=scaled.fit(X)\n",
    "    X=scaler.transform(X)\n",
    "    return X"
   ]
  },
  {
   "cell_type": "code",
   "execution_count": 32,
   "id": "a0409fb7",
   "metadata": {
    "execution": {
     "iopub.execute_input": "2024-02-21T22:23:00.736318Z",
     "iopub.status.busy": "2024-02-21T22:23:00.735955Z",
     "iopub.status.idle": "2024-02-21T22:23:00.752999Z",
     "shell.execute_reply": "2024-02-21T22:23:00.751710Z"
    },
    "papermill": {
     "duration": 0.039087,
     "end_time": "2024-02-21T22:23:00.755515",
     "exception": false,
     "start_time": "2024-02-21T22:23:00.716428",
     "status": "completed"
    },
    "tags": []
   },
   "outputs": [
    {
     "name": "stdout",
     "output_type": "stream",
     "text": [
      "Index(['Gender', 'Age', 'Height', 'Weight', 'family_history_with_overweight',\n",
      "       'FAVC', 'FCVC', 'NCP', 'CAEC', 'SMOKE', 'CH2O', 'SCC', 'FAF', 'TUE',\n",
      "       'CALC', 'MTRANS', 'BMI', 'Cluster-1'],\n",
      "      dtype='object')\n",
      "Index(['NObeyesdad'], dtype='object')\n",
      "Index(['Gender', 'Age', 'Height', 'Weight', 'family_history_with_overweight',\n",
      "       'FAVC', 'FCVC', 'NCP', 'CAEC', 'SMOKE', 'CH2O', 'SCC', 'FAF', 'TUE',\n",
      "       'CALC', 'MTRANS', 'BMI', 'Cluster-1'],\n",
      "      dtype='object')\n"
     ]
    }
   ],
   "source": [
    "X=train_df.drop(columns='NObeyesdad')\n",
    "y=train_df[['NObeyesdad']]\n",
    "print(X.columns)\n",
    "print(y.columns)\n",
    "print(test_df.columns)"
   ]
  },
  {
   "cell_type": "code",
   "execution_count": 33,
   "id": "36fa8b8e",
   "metadata": {
    "execution": {
     "iopub.execute_input": "2024-02-21T22:23:00.792866Z",
     "iopub.status.busy": "2024-02-21T22:23:00.791610Z",
     "iopub.status.idle": "2024-02-21T22:23:00.813058Z",
     "shell.execute_reply": "2024-02-21T22:23:00.811954Z"
    },
    "papermill": {
     "duration": 0.042666,
     "end_time": "2024-02-21T22:23:00.815665",
     "exception": false,
     "start_time": "2024-02-21T22:23:00.772999",
     "status": "completed"
    },
    "tags": []
   },
   "outputs": [],
   "source": [
    "\n",
    "from sklearn.model_selection import train_test_split\n",
    "X_train,X_test,y_train,y_test=train_test_split(X,y,train_size=0.8, random_state=42)\n",
    "col_id = np.arange(0, X.shape[1])\n",
    "catfeat_id = col_id[X.dtypes == object]\n"
   ]
  },
  {
   "cell_type": "code",
   "execution_count": 34,
   "id": "ce11926c",
   "metadata": {
    "execution": {
     "iopub.execute_input": "2024-02-21T22:23:00.850424Z",
     "iopub.status.busy": "2024-02-21T22:23:00.849647Z",
     "iopub.status.idle": "2024-02-21T22:23:00.880641Z",
     "shell.execute_reply": "2024-02-21T22:23:00.879388Z"
    },
    "papermill": {
     "duration": 0.051003,
     "end_time": "2024-02-21T22:23:00.883074",
     "exception": false,
     "start_time": "2024-02-21T22:23:00.832071",
     "status": "completed"
    },
    "tags": []
   },
   "outputs": [
    {
     "name": "stdout",
     "output_type": "stream",
     "text": [
      "<class 'pandas.core.frame.DataFrame'>\n",
      "RangeIndex: 20758 entries, 0 to 20757\n",
      "Data columns (total 18 columns):\n",
      " #   Column                          Non-Null Count  Dtype  \n",
      "---  ------                          --------------  -----  \n",
      " 0   Gender                          20758 non-null  object \n",
      " 1   Age                             20758 non-null  float64\n",
      " 2   Height                          20758 non-null  float64\n",
      " 3   Weight                          20758 non-null  float64\n",
      " 4   family_history_with_overweight  20758 non-null  object \n",
      " 5   FAVC                            20758 non-null  object \n",
      " 6   FCVC                            20758 non-null  float64\n",
      " 7   NCP                             20758 non-null  float64\n",
      " 8   CAEC                            20758 non-null  object \n",
      " 9   SMOKE                           20758 non-null  object \n",
      " 10  CH2O                            20758 non-null  float64\n",
      " 11  SCC                             20758 non-null  object \n",
      " 12  FAF                             20758 non-null  float64\n",
      " 13  TUE                             20758 non-null  float64\n",
      " 14  CALC                            20758 non-null  object \n",
      " 15  MTRANS                          20758 non-null  object \n",
      " 16  BMI                             20758 non-null  float64\n",
      " 17  Cluster-1                       20758 non-null  float64\n",
      "dtypes: float64(10), object(8)\n",
      "memory usage: 2.9+ MB\n",
      "None\n",
      "<class 'pandas.core.frame.DataFrame'>\n",
      "RangeIndex: 20758 entries, 0 to 20757\n",
      "Data columns (total 1 columns):\n",
      " #   Column      Non-Null Count  Dtype \n",
      "---  ------      --------------  ----- \n",
      " 0   NObeyesdad  20758 non-null  object\n",
      "dtypes: object(1)\n",
      "memory usage: 162.3+ KB\n",
      "None\n"
     ]
    }
   ],
   "source": [
    "print(X.info())\n",
    "print(y.info())"
   ]
  },
  {
   "cell_type": "markdown",
   "id": "d12d9b00",
   "metadata": {
    "papermill": {
     "duration": 0.016261,
     "end_time": "2024-02-21T22:23:00.916468",
     "exception": false,
     "start_time": "2024-02-21T22:23:00.900207",
     "status": "completed"
    },
    "tags": []
   },
   "source": [
    "# Creating Training Evaluation Function"
   ]
  },
  {
   "cell_type": "code",
   "execution_count": 35,
   "id": "ea85e595",
   "metadata": {
    "execution": {
     "iopub.execute_input": "2024-02-21T22:23:00.951496Z",
     "iopub.status.busy": "2024-02-21T22:23:00.951081Z",
     "iopub.status.idle": "2024-02-21T22:23:00.957240Z",
     "shell.execute_reply": "2024-02-21T22:23:00.956309Z"
    },
    "papermill": {
     "duration": 0.026216,
     "end_time": "2024-02-21T22:23:00.959241",
     "exception": false,
     "start_time": "2024-02-21T22:23:00.933025",
     "status": "completed"
    },
    "tags": []
   },
   "outputs": [],
   "source": [
    "def evaluate(y_test,ypred):\n",
    "    from sklearn.metrics import precision_score\n",
    "    from sklearn.metrics import recall_score\n",
    "    from sklearn.metrics import f1_score\n",
    "    from sklearn.metrics import accuracy_score\n",
    "    from sklearn.metrics import confusion_matrix\n",
    "    print(\"Accuracy: \",accuracy_score(y_test,y_pred)) \n",
    "    print(\"Recall Score: \", recall_score(y_test,y_pred, average='macro')) #Recall measures the proportion of true positive predictions among all actual positive instalnces. If we predicted 100 survived correctly whereas actually 100 survived out of which 67 predicted correctly so recall will be 0.67\n",
    "    cm = confusion_matrix(y_test, y_pred)\n",
    "    plt.figure(figsize=(10, 10))\n",
    "    s=sns.heatmap(cm,annot=True, cmap='Reds')"
   ]
  },
  {
   "cell_type": "markdown",
   "id": "a16a0767",
   "metadata": {
    "papermill": {
     "duration": 0.016438,
     "end_time": "2024-02-21T22:23:00.992805",
     "exception": false,
     "start_time": "2024-02-21T22:23:00.976367",
     "status": "completed"
    },
    "tags": []
   },
   "source": [
    "# Training Category Boost Classifier"
   ]
  },
  {
   "cell_type": "code",
   "execution_count": 36,
   "id": "3ee4ebe2",
   "metadata": {
    "execution": {
     "iopub.execute_input": "2024-02-21T22:23:01.027298Z",
     "iopub.status.busy": "2024-02-21T22:23:01.026920Z",
     "iopub.status.idle": "2024-02-21T22:24:41.027022Z",
     "shell.execute_reply": "2024-02-21T22:24:41.025652Z"
    },
    "papermill": {
     "duration": 100.020537,
     "end_time": "2024-02-21T22:24:41.029735",
     "exception": false,
     "start_time": "2024-02-21T22:23:01.009198",
     "status": "completed"
    },
    "tags": []
   },
   "outputs": [
    {
     "name": "stdout",
     "output_type": "stream",
     "text": [
      "Learning rate set to 0.114218\n",
      "0:\tlearn: 1.6030914\ttest: 1.6024368\tbest: 1.6024368 (0)\ttotal: 235ms\tremaining: 3m 54s\n",
      "25:\tlearn: 0.4571183\ttest: 0.4618497\tbest: 0.4618497 (25)\ttotal: 4.28s\tremaining: 2m 40s\n",
      "50:\tlearn: 0.3749004\ttest: 0.3889947\tbest: 0.3889947 (50)\ttotal: 8.03s\tremaining: 2m 29s\n",
      "75:\tlearn: 0.3397275\ttest: 0.3625272\tbest: 0.3625272 (75)\ttotal: 11.8s\tremaining: 2m 22s\n",
      "100:\tlearn: 0.3149119\ttest: 0.3452636\tbest: 0.3452636 (100)\ttotal: 16.1s\tremaining: 2m 23s\n",
      "125:\tlearn: 0.2961229\ttest: 0.3328950\tbest: 0.3328950 (125)\ttotal: 20.1s\tremaining: 2m 19s\n",
      "150:\tlearn: 0.2854389\ttest: 0.3259518\tbest: 0.3259518 (150)\ttotal: 23.8s\tremaining: 2m 13s\n",
      "175:\tlearn: 0.2745209\ttest: 0.3213525\tbest: 0.3213525 (175)\ttotal: 27.6s\tremaining: 2m 9s\n",
      "200:\tlearn: 0.2664979\ttest: 0.3178508\tbest: 0.3178504 (199)\ttotal: 31.4s\tremaining: 2m 4s\n",
      "225:\tlearn: 0.2589377\ttest: 0.3144592\tbest: 0.3144592 (225)\ttotal: 35.2s\tremaining: 2m\n",
      "250:\tlearn: 0.2520857\ttest: 0.3122919\tbest: 0.3122919 (250)\ttotal: 38.9s\tremaining: 1m 56s\n",
      "275:\tlearn: 0.2464532\ttest: 0.3103798\tbest: 0.3103088 (274)\ttotal: 42.6s\tremaining: 1m 51s\n",
      "300:\tlearn: 0.2409459\ttest: 0.3088098\tbest: 0.3087581 (298)\ttotal: 46.7s\tremaining: 1m 48s\n",
      "325:\tlearn: 0.2352659\ttest: 0.3074994\tbest: 0.3074994 (325)\ttotal: 50.4s\tremaining: 1m 44s\n",
      "350:\tlearn: 0.2296369\ttest: 0.3057765\tbest: 0.3057765 (350)\ttotal: 54.2s\tremaining: 1m 40s\n",
      "375:\tlearn: 0.2245084\ttest: 0.3047300\tbest: 0.3047300 (375)\ttotal: 58s\tremaining: 1m 36s\n",
      "400:\tlearn: 0.2200459\ttest: 0.3045747\tbest: 0.3042900 (385)\ttotal: 1m 1s\tremaining: 1m 32s\n",
      "425:\tlearn: 0.2148075\ttest: 0.3040236\tbest: 0.3039489 (421)\ttotal: 1m 5s\tremaining: 1m 28s\n",
      "450:\tlearn: 0.2106478\ttest: 0.3030673\tbest: 0.3030090 (449)\ttotal: 1m 9s\tremaining: 1m 24s\n",
      "475:\tlearn: 0.2064176\ttest: 0.3028352\tbest: 0.3028026 (466)\ttotal: 1m 12s\tremaining: 1m 20s\n",
      "500:\tlearn: 0.2026947\ttest: 0.3026086\tbest: 0.3026086 (500)\ttotal: 1m 17s\tremaining: 1m 16s\n",
      "525:\tlearn: 0.1982881\ttest: 0.3025152\tbest: 0.3024477 (519)\ttotal: 1m 21s\tremaining: 1m 12s\n",
      "550:\tlearn: 0.1942189\ttest: 0.3026378\tbest: 0.3024074 (544)\ttotal: 1m 24s\tremaining: 1m 9s\n",
      "575:\tlearn: 0.1904265\ttest: 0.3023241\tbest: 0.3022342 (574)\ttotal: 1m 28s\tremaining: 1m 5s\n",
      "600:\tlearn: 0.1872836\ttest: 0.3021089\tbest: 0.3020366 (590)\ttotal: 1m 32s\tremaining: 1m 1s\n",
      "625:\tlearn: 0.1833490\ttest: 0.3022467\tbest: 0.3020366 (590)\ttotal: 1m 36s\tremaining: 57.6s\n",
      "Stopped by overfitting detector  (50 iterations wait)\n",
      "\n",
      "bestTest = 0.302036554\n",
      "bestIteration = 590\n",
      "\n",
      "Shrink model to first 591 iterations.\n",
      "Accuracy:  0.9048651252408478\n",
      "Recall Score:  0.8948263557411089\n"
     ]
    },
    {
     "data": {
      "image/png": "[encoded data removed]",
      "text/plain": [
       "<Figure size 1000x1000 with 2 Axes>"
      ]
     },
     "metadata": {},
     "output_type": "display_data"
    }
   ],
   "source": [
    "from catboost import CatBoostClassifier, Pool\n",
    "cb = CatBoostClassifier(auto_class_weights = 'Balanced', iterations=1000, early_stopping_rounds=50, verbose=25, loss_function = \"MultiClass\",\n",
    "    train_dir = \"traineval\")\n",
    "cb.fit(X_train, y_train, eval_set=(X_test, y_test), cat_features=catfeat_id)\n",
    "y_pred = cb.predict(X_test)\n",
    "\n",
    "evaluate(y_test,y_pred)"
   ]
  },
  {
   "cell_type": "code",
   "execution_count": 37,
   "id": "b683edc1",
   "metadata": {
    "execution": {
     "iopub.execute_input": "2024-02-21T22:24:41.070732Z",
     "iopub.status.busy": "2024-02-21T22:24:41.069552Z",
     "iopub.status.idle": "2024-02-21T22:24:41.075108Z",
     "shell.execute_reply": "2024-02-21T22:24:41.073709Z"
    },
    "papermill": {
     "duration": 0.028648,
     "end_time": "2024-02-21T22:24:41.077760",
     "exception": false,
     "start_time": "2024-02-21T22:24:41.049112",
     "status": "completed"
    },
    "tags": []
   },
   "outputs": [],
   "source": [
    "#test_pool = Pool(X_test, label=y_test)\n",
    "#metrics = cb.eval_metrics(test_pool, \n",
    "#                             metrics=['MultiClass'],\n",
    "#                             plot=True)"
   ]
  },
  {
   "cell_type": "markdown",
   "id": "56586004",
   "metadata": {
    "papermill": {
     "duration": 0.019392,
     "end_time": "2024-02-21T22:24:41.116531",
     "exception": false,
     "start_time": "2024-02-21T22:24:41.097139",
     "status": "completed"
    },
    "tags": []
   },
   "source": [
    "# Predicting the results"
   ]
  },
  {
   "cell_type": "code",
   "execution_count": 38,
   "id": "e2b2b5ad",
   "metadata": {
    "execution": {
     "iopub.execute_input": "2024-02-21T22:24:41.158529Z",
     "iopub.status.busy": "2024-02-21T22:24:41.158038Z",
     "iopub.status.idle": "2024-02-21T22:24:41.236880Z",
     "shell.execute_reply": "2024-02-21T22:24:41.235840Z"
    },
    "papermill": {
     "duration": 0.102338,
     "end_time": "2024-02-21T22:24:41.239252",
     "exception": false,
     "start_time": "2024-02-21T22:24:41.136914",
     "status": "completed"
    },
    "tags": []
   },
   "outputs": [],
   "source": [
    "test['NObeyesdad']=cb.predict(test_df)[:, 0]"
   ]
  },
  {
   "cell_type": "code",
   "execution_count": 39,
   "id": "5bd49dae",
   "metadata": {
    "execution": {
     "iopub.execute_input": "2024-02-21T22:24:41.280486Z",
     "iopub.status.busy": "2024-02-21T22:24:41.279477Z",
     "iopub.status.idle": "2024-02-21T22:24:41.289289Z",
     "shell.execute_reply": "2024-02-21T22:24:41.288013Z"
    },
    "papermill": {
     "duration": 0.032631,
     "end_time": "2024-02-21T22:24:41.291730",
     "exception": false,
     "start_time": "2024-02-21T22:24:41.259099",
     "status": "completed"
    },
    "tags": []
   },
   "outputs": [
    {
     "data": {
      "text/plain": [
       "NObeyesdad\n",
       "Obesity_Type_III       2632\n",
       "Normal_Weight          2336\n",
       "Obesity_Type_I         2219\n",
       "Obesity_Type_II        2140\n",
       "Overweight_Level_II    1577\n",
       "Overweight_Level_I     1472\n",
       "Insufficient_Weight    1464\n",
       "Name: count, dtype: int64"
      ]
     },
     "execution_count": 39,
     "metadata": {},
     "output_type": "execute_result"
    }
   ],
   "source": [
    "test['NObeyesdad'].value_counts()"
   ]
  },
  {
   "cell_type": "code",
   "execution_count": 40,
   "id": "45057d0a",
   "metadata": {
    "execution": {
     "iopub.execute_input": "2024-02-21T22:24:41.332633Z",
     "iopub.status.busy": "2024-02-21T22:24:41.332213Z",
     "iopub.status.idle": "2024-02-21T22:24:41.338261Z",
     "shell.execute_reply": "2024-02-21T22:24:41.337034Z"
    },
    "papermill": {
     "duration": 0.029053,
     "end_time": "2024-02-21T22:24:41.340587",
     "exception": false,
     "start_time": "2024-02-21T22:24:41.311534",
     "status": "completed"
    },
    "tags": []
   },
   "outputs": [],
   "source": [
    "submission=test[['id','NObeyesdad']]\n"
   ]
  },
  {
   "cell_type": "code",
   "execution_count": 41,
   "id": "ee250133",
   "metadata": {
    "execution": {
     "iopub.execute_input": "2024-02-21T22:24:41.382319Z",
     "iopub.status.busy": "2024-02-21T22:24:41.381904Z",
     "iopub.status.idle": "2024-02-21T22:24:41.391190Z",
     "shell.execute_reply": "2024-02-21T22:24:41.389975Z"
    },
    "papermill": {
     "duration": 0.033431,
     "end_time": "2024-02-21T22:24:41.393818",
     "exception": false,
     "start_time": "2024-02-21T22:24:41.360387",
     "status": "completed"
    },
    "tags": []
   },
   "outputs": [
    {
     "data": {
      "text/plain": [
       "array(['Obesity_Type_II', 'Overweight_Level_I', 'Obesity_Type_III',\n",
       "       'Obesity_Type_I', 'Insufficient_Weight', 'Normal_Weight',\n",
       "       'Overweight_Level_II'], dtype=object)"
      ]
     },
     "execution_count": 41,
     "metadata": {},
     "output_type": "execute_result"
    }
   ],
   "source": [
    "submission['NObeyesdad'].unique()"
   ]
  },
  {
   "cell_type": "markdown",
   "id": "7175da93",
   "metadata": {
    "papermill": {
     "duration": 0.018992,
     "end_time": "2024-02-21T22:24:41.433685",
     "exception": false,
     "start_time": "2024-02-21T22:24:41.414693",
     "status": "completed"
    },
    "tags": []
   },
   "source": [
    "# Creating the Submission File"
   ]
  },
  {
   "cell_type": "code",
   "execution_count": 42,
   "id": "78e9cc0b",
   "metadata": {
    "execution": {
     "iopub.execute_input": "2024-02-21T22:24:41.474671Z",
     "iopub.status.busy": "2024-02-21T22:24:41.474246Z",
     "iopub.status.idle": "2024-02-21T22:24:41.484072Z",
     "shell.execute_reply": "2024-02-21T22:24:41.482939Z"
    },
    "papermill": {
     "duration": 0.032616,
     "end_time": "2024-02-21T22:24:41.486151",
     "exception": false,
     "start_time": "2024-02-21T22:24:41.453535",
     "status": "completed"
    },
    "tags": []
   },
   "outputs": [
    {
     "data": {
      "text/plain": [
       "NObeyesdad\n",
       "Obesity_Type_III       2632\n",
       "Normal_Weight          2336\n",
       "Obesity_Type_I         2219\n",
       "Obesity_Type_II        2140\n",
       "Overweight_Level_II    1577\n",
       "Overweight_Level_I     1472\n",
       "Insufficient_Weight    1464\n",
       "Name: count, dtype: int64"
      ]
     },
     "execution_count": 42,
     "metadata": {},
     "output_type": "execute_result"
    }
   ],
   "source": [
    "#submission['NObeyesdad'] = test['NObeyesdad'].map({0:'Overweight_Level_II', 1:'Normal_Weight',2:'Insufficient_Weight',3:'Obesity_Type_III',4:'Obesity_Type_II',5:'Overweight_Level_I',6:'Obesity_Type_I'})\n",
    "submission['NObeyesdad'].value_counts()"
   ]
  },
  {
   "cell_type": "code",
   "execution_count": 43,
   "id": "84991bde",
   "metadata": {
    "execution": {
     "iopub.execute_input": "2024-02-21T22:24:41.529825Z",
     "iopub.status.busy": "2024-02-21T22:24:41.528693Z",
     "iopub.status.idle": "2024-02-21T22:24:41.553973Z",
     "shell.execute_reply": "2024-02-21T22:24:41.552800Z"
    },
    "papermill": {
     "duration": 0.050169,
     "end_time": "2024-02-21T22:24:41.556637",
     "exception": false,
     "start_time": "2024-02-21T22:24:41.506468",
     "status": "completed"
    },
    "tags": []
   },
   "outputs": [],
   "source": [
    "submission.to_csv('submission.csv', index=False)"
   ]
  },
  {
   "cell_type": "code",
   "execution_count": 44,
   "id": "736531c7",
   "metadata": {
    "execution": {
     "iopub.execute_input": "2024-02-21T22:24:41.598360Z",
     "iopub.status.busy": "2024-02-21T22:24:41.597903Z",
     "iopub.status.idle": "2024-02-21T22:24:41.607176Z",
     "shell.execute_reply": "2024-02-21T22:24:41.606000Z"
    },
    "papermill": {
     "duration": 0.032711,
     "end_time": "2024-02-21T22:24:41.609541",
     "exception": false,
     "start_time": "2024-02-21T22:24:41.576830",
     "status": "completed"
    },
    "tags": []
   },
   "outputs": [
    {
     "data": {
      "text/plain": [
       "NObeyesdad\n",
       "Obesity_Type_III       2632\n",
       "Normal_Weight          2336\n",
       "Obesity_Type_I         2219\n",
       "Obesity_Type_II        2140\n",
       "Overweight_Level_II    1577\n",
       "Overweight_Level_I     1472\n",
       "Insufficient_Weight    1464\n",
       "Name: count, dtype: int64"
      ]
     },
     "execution_count": 44,
     "metadata": {},
     "output_type": "execute_result"
    }
   ],
   "source": [
    "submission['NObeyesdad'].value_counts()"
   ]
  },
  {
   "cell_type": "code",
   "execution_count": null,
   "id": "b8e8db93",
   "metadata": {
    "papermill": {
     "duration": 0.020631,
     "end_time": "2024-02-21T22:24:41.649757",
     "exception": false,
     "start_time": "2024-02-21T22:24:41.629126",
     "status": "completed"
    },
    "tags": []
   },
   "outputs": [],
   "source": []
  }
 ],
 "metadata": {
  "kaggle": {
   "accelerator": "none",
   "dataSources": [
    {
     "databundleVersionId": 7609535,
     "sourceId": 68479,
     "sourceType": "competition"
    }
   ],
   "dockerImageVersionId": 30646,
   "isGpuEnabled": false,
   "isInternetEnabled": true,
   "language": "python",
   "sourceType": "notebook"
  },
  "kernelspec": {
   "display_name": "Python 3",
   "language": "python",
   "name": "python3"
  },
  "language_info": {
   "codemirror_mode": {
    "name": "ipython",
    "version": 3
   },
   "file_extension": ".py",
   "mimetype": "text/x-python",
   "name": "python",
   "nbconvert_exporter": "python",
   "pygments_lexer": "ipython3",
   "version": "3.10.13"
  },
  "papermill": {
   "default_parameters": {},
   "duration": 110.717012,
   "end_time": "2024-02-21T22:24:42.493047",
   "environment_variables": {},
   "exception": null,
   "input_path": "__notebook__.ipynb",
   "output_path": "__notebook__.ipynb",
   "parameters": {},
   "start_time": "2024-02-21T22:22:51.776035",
   "version": "2.5.0"
  }
 },
 "nbformat": 4,
 "nbformat_minor": 5
}
