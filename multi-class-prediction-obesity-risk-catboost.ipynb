{
 "cells": [
  {
   "cell_type": "markdown",
   "id": "d28bcef7",
   "metadata": {
    "papermill": {
     "duration": 0.013205,
     "end_time": "2024-02-21T22:48:51.842487",
     "exception": false,
     "start_time": "2024-02-21T22:48:51.829282",
     "status": "completed"
    },
    "tags": []
   },
   "source": [
    "# [Multi-Class Prediction of Obesity Risk](https://www.kaggle.com/competitions/playground-series-s4e2)\n",
    "### Playground Series - Season 4, Episode 2\n",
    "\n",
    "_______________________________________________________________________ \n",
    "# Author Details:\n",
    "- Name: Najeeb Haider Zaidi\n",
    "- Email: zaidi.nh@gmail.com\n",
    "- Profiles: [Github](https://github.com/snajeebz)  [LinkedIn](https://www.linkedin.com/in/najeebz) [Kaggle](https://www.kaggle.com/najeebz)\n",
    "- Prepared for the submission to the competition.\n",
    "________________________________________________________________________\n",
    "# Attributions:\n",
    "\n",
    "\n",
    "[Walter Reade, Ashley Chow. (2024). Multi-Class Prediction of Obesity Risk. Kaggle.](https://www.kaggle.com/competitions/playground-series-s4e2)\n",
    "________________________________________________________________________\n",
    "​\n",
    "This Notebook is to be submitted to the competition so aims to start the process from the beginning to the creation of the submission csv file in proper format.\n",
    "__________________________________________________________________________\n",
    "# Code Execution and Versioning Repository: \n",
    "- [Execute the notebook in Kaggle](https://www.kaggle.com/najeebz/multi-class-prediction-obesity-risk-catboost)\n",
    "- [Github Repository](https://github.com/snajeebz/playground)\n",
    "​\n",
    "____________________________________________________________________\n",
    "# Citation:\n",
    "\n",
    "Najeeb Zaidi. (2024). Multi-Class Prediction of Obesity Risk. Competition Submission. Kaggle. https://www.kaggle.com/najeebz/multi-class-prediction-obesity-risk-catboost"
   ]
  },
  {
   "cell_type": "code",
   "execution_count": 1,
   "id": "9f21fb18",
   "metadata": {
    "_cell_guid": "b1076dfc-b9ad-4769-8c92-a6c4dae69d19",
    "_uuid": "8f2839f25d086af736a60e9eeb907d3b93b6e0e5",
    "execution": {
     "iopub.execute_input": "2024-02-21T22:48:51.870004Z",
     "iopub.status.busy": "2024-02-21T22:48:51.869331Z",
     "iopub.status.idle": "2024-02-21T22:48:53.979810Z",
     "shell.execute_reply": "2024-02-21T22:48:53.978737Z"
    },
    "papermill": {
     "duration": 2.126654,
     "end_time": "2024-02-21T22:48:53.982005",
     "exception": false,
     "start_time": "2024-02-21T22:48:51.855351",
     "status": "completed"
    },
    "tags": []
   },
   "outputs": [
    {
     "name": "stdout",
     "output_type": "stream",
     "text": [
      "/kaggle/input/playground-series-s4e2/sample_submission.csv\n",
      "/kaggle/input/playground-series-s4e2/train.csv\n",
      "/kaggle/input/playground-series-s4e2/test.csv\n"
     ]
    }
   ],
   "source": [
    "# This Python 3 environment comes with many helpful analytics libraries installed\n",
    "# It is defined by the kaggle/python Docker image: https://github.com/kaggle/docker-python\n",
    "# For example, here's several helpful packages to load\n",
    "\n",
    "import numpy as np # linear algebra\n",
    "import pandas as pd # data processing, CSV file I/O (e.g. pd.read_csv)\n",
    "import matplotlib.pyplot as plt\n",
    "import seaborn as sns\n",
    "\n",
    "# Input data files are available in the read-only \"../input/\" directory\n",
    "# For example, running this (by clicking run or pressing Shift+Enter) will list all files under the input directory\n",
    "from warnings import filterwarnings;\n",
    "filterwarnings('ignore')\n",
    "import os\n",
    "for dirname, _, filenames in os.walk('/kaggle/input'):\n",
    "    for filename in filenames:\n",
    "        print(os.path.join(dirname, filename))\n",
    "\n",
    "# You can write up to 20GB to the current directory (/kaggle/working/) that gets preserved as output when you create a version using \"Save & Run All\" \n",
    "# You can also write temporary files to /kaggle/temp/, but they won't be saved outside of the current session"
   ]
  },
  {
   "cell_type": "code",
   "execution_count": 2,
   "id": "b8428f78",
   "metadata": {
    "execution": {
     "iopub.execute_input": "2024-02-21T22:48:54.010167Z",
     "iopub.status.busy": "2024-02-21T22:48:54.009653Z",
     "iopub.status.idle": "2024-02-21T22:48:54.169674Z",
     "shell.execute_reply": "2024-02-21T22:48:54.168522Z"
    },
    "papermill": {
     "duration": 0.177283,
     "end_time": "2024-02-21T22:48:54.172088",
     "exception": false,
     "start_time": "2024-02-21T22:48:53.994805",
     "status": "completed"
    },
    "tags": []
   },
   "outputs": [],
   "source": [
    "df=pd.read_csv('/kaggle/input/playground-series-s4e2/train.csv')\n",
    "test=pd.read_csv('/kaggle/input/playground-series-s4e2/test.csv')\n"
   ]
  },
  {
   "cell_type": "code",
   "execution_count": 3,
   "id": "8f5b5ffd",
   "metadata": {
    "execution": {
     "iopub.execute_input": "2024-02-21T22:48:54.199972Z",
     "iopub.status.busy": "2024-02-21T22:48:54.199579Z",
     "iopub.status.idle": "2024-02-21T22:48:54.224701Z",
     "shell.execute_reply": "2024-02-21T22:48:54.223513Z"
    },
    "papermill": {
     "duration": 0.041469,
     "end_time": "2024-02-21T22:48:54.226718",
     "exception": false,
     "start_time": "2024-02-21T22:48:54.185249",
     "status": "completed"
    },
    "tags": []
   },
   "outputs": [
    {
     "data": {
      "text/html": [
       "<div>\n",
       "<style scoped>\n",
       "    .dataframe tbody tr th:only-of-type {\n",
       "        vertical-align: middle;\n",
       "    }\n",
       "\n",
       "    .dataframe tbody tr th {\n",
       "        vertical-align: top;\n",
       "    }\n",
       "\n",
       "    .dataframe thead th {\n",
       "        text-align: right;\n",
       "    }\n",
       "</style>\n",
       "<table border=\"1\" class=\"dataframe\">\n",
       "  <thead>\n",
       "    <tr style=\"text-align: right;\">\n",
       "      <th></th>\n",
       "      <th>id</th>\n",
       "      <th>Gender</th>\n",
       "      <th>Age</th>\n",
       "      <th>Height</th>\n",
       "      <th>Weight</th>\n",
       "      <th>family_history_with_overweight</th>\n",
       "      <th>FAVC</th>\n",
       "      <th>FCVC</th>\n",
       "      <th>NCP</th>\n",
       "      <th>CAEC</th>\n",
       "      <th>SMOKE</th>\n",
       "      <th>CH2O</th>\n",
       "      <th>SCC</th>\n",
       "      <th>FAF</th>\n",
       "      <th>TUE</th>\n",
       "      <th>CALC</th>\n",
       "      <th>MTRANS</th>\n",
       "      <th>NObeyesdad</th>\n",
       "    </tr>\n",
       "  </thead>\n",
       "  <tbody>\n",
       "    <tr>\n",
       "      <th>0</th>\n",
       "      <td>0</td>\n",
       "      <td>Male</td>\n",
       "      <td>24.443011</td>\n",
       "      <td>1.699998</td>\n",
       "      <td>81.669950</td>\n",
       "      <td>yes</td>\n",
       "      <td>yes</td>\n",
       "      <td>2.000000</td>\n",
       "      <td>2.983297</td>\n",
       "      <td>Sometimes</td>\n",
       "      <td>no</td>\n",
       "      <td>2.763573</td>\n",
       "      <td>no</td>\n",
       "      <td>0.000000</td>\n",
       "      <td>0.976473</td>\n",
       "      <td>Sometimes</td>\n",
       "      <td>Public_Transportation</td>\n",
       "      <td>Overweight_Level_II</td>\n",
       "    </tr>\n",
       "    <tr>\n",
       "      <th>1</th>\n",
       "      <td>1</td>\n",
       "      <td>Female</td>\n",
       "      <td>18.000000</td>\n",
       "      <td>1.560000</td>\n",
       "      <td>57.000000</td>\n",
       "      <td>yes</td>\n",
       "      <td>yes</td>\n",
       "      <td>2.000000</td>\n",
       "      <td>3.000000</td>\n",
       "      <td>Frequently</td>\n",
       "      <td>no</td>\n",
       "      <td>2.000000</td>\n",
       "      <td>no</td>\n",
       "      <td>1.000000</td>\n",
       "      <td>1.000000</td>\n",
       "      <td>no</td>\n",
       "      <td>Automobile</td>\n",
       "      <td>Normal_Weight</td>\n",
       "    </tr>\n",
       "    <tr>\n",
       "      <th>2</th>\n",
       "      <td>2</td>\n",
       "      <td>Female</td>\n",
       "      <td>18.000000</td>\n",
       "      <td>1.711460</td>\n",
       "      <td>50.165754</td>\n",
       "      <td>yes</td>\n",
       "      <td>yes</td>\n",
       "      <td>1.880534</td>\n",
       "      <td>1.411685</td>\n",
       "      <td>Sometimes</td>\n",
       "      <td>no</td>\n",
       "      <td>1.910378</td>\n",
       "      <td>no</td>\n",
       "      <td>0.866045</td>\n",
       "      <td>1.673584</td>\n",
       "      <td>no</td>\n",
       "      <td>Public_Transportation</td>\n",
       "      <td>Insufficient_Weight</td>\n",
       "    </tr>\n",
       "    <tr>\n",
       "      <th>3</th>\n",
       "      <td>3</td>\n",
       "      <td>Female</td>\n",
       "      <td>20.952737</td>\n",
       "      <td>1.710730</td>\n",
       "      <td>131.274851</td>\n",
       "      <td>yes</td>\n",
       "      <td>yes</td>\n",
       "      <td>3.000000</td>\n",
       "      <td>3.000000</td>\n",
       "      <td>Sometimes</td>\n",
       "      <td>no</td>\n",
       "      <td>1.674061</td>\n",
       "      <td>no</td>\n",
       "      <td>1.467863</td>\n",
       "      <td>0.780199</td>\n",
       "      <td>Sometimes</td>\n",
       "      <td>Public_Transportation</td>\n",
       "      <td>Obesity_Type_III</td>\n",
       "    </tr>\n",
       "    <tr>\n",
       "      <th>4</th>\n",
       "      <td>4</td>\n",
       "      <td>Male</td>\n",
       "      <td>31.641081</td>\n",
       "      <td>1.914186</td>\n",
       "      <td>93.798055</td>\n",
       "      <td>yes</td>\n",
       "      <td>yes</td>\n",
       "      <td>2.679664</td>\n",
       "      <td>1.971472</td>\n",
       "      <td>Sometimes</td>\n",
       "      <td>no</td>\n",
       "      <td>1.979848</td>\n",
       "      <td>no</td>\n",
       "      <td>1.967973</td>\n",
       "      <td>0.931721</td>\n",
       "      <td>Sometimes</td>\n",
       "      <td>Public_Transportation</td>\n",
       "      <td>Overweight_Level_II</td>\n",
       "    </tr>\n",
       "  </tbody>\n",
       "</table>\n",
       "</div>"
      ],
      "text/plain": [
       "   id  Gender        Age    Height      Weight family_history_with_overweight  \\\n",
       "0   0    Male  24.443011  1.699998   81.669950                            yes   \n",
       "1   1  Female  18.000000  1.560000   57.000000                            yes   \n",
       "2   2  Female  18.000000  1.711460   50.165754                            yes   \n",
       "3   3  Female  20.952737  1.710730  131.274851                            yes   \n",
       "4   4    Male  31.641081  1.914186   93.798055                            yes   \n",
       "\n",
       "  FAVC      FCVC       NCP        CAEC SMOKE      CH2O SCC       FAF  \\\n",
       "0  yes  2.000000  2.983297   Sometimes    no  2.763573  no  0.000000   \n",
       "1  yes  2.000000  3.000000  Frequently    no  2.000000  no  1.000000   \n",
       "2  yes  1.880534  1.411685   Sometimes    no  1.910378  no  0.866045   \n",
       "3  yes  3.000000  3.000000   Sometimes    no  1.674061  no  1.467863   \n",
       "4  yes  2.679664  1.971472   Sometimes    no  1.979848  no  1.967973   \n",
       "\n",
       "        TUE       CALC                 MTRANS           NObeyesdad  \n",
       "0  0.976473  Sometimes  Public_Transportation  Overweight_Level_II  \n",
       "1  1.000000         no             Automobile        Normal_Weight  \n",
       "2  1.673584         no  Public_Transportation  Insufficient_Weight  \n",
       "3  0.780199  Sometimes  Public_Transportation     Obesity_Type_III  \n",
       "4  0.931721  Sometimes  Public_Transportation  Overweight_Level_II  "
      ]
     },
     "execution_count": 3,
     "metadata": {},
     "output_type": "execute_result"
    }
   ],
   "source": [
    "df.head()"
   ]
  },
  {
   "cell_type": "code",
   "execution_count": 4,
   "id": "1802a4db",
   "metadata": {
    "execution": {
     "iopub.execute_input": "2024-02-21T22:48:54.254571Z",
     "iopub.status.busy": "2024-02-21T22:48:54.254182Z",
     "iopub.status.idle": "2024-02-21T22:48:54.273938Z",
     "shell.execute_reply": "2024-02-21T22:48:54.273194Z"
    },
    "papermill": {
     "duration": 0.035825,
     "end_time": "2024-02-21T22:48:54.275747",
     "exception": false,
     "start_time": "2024-02-21T22:48:54.239922",
     "status": "completed"
    },
    "tags": []
   },
   "outputs": [
    {
     "data": {
      "text/html": [
       "<div>\n",
       "<style scoped>\n",
       "    .dataframe tbody tr th:only-of-type {\n",
       "        vertical-align: middle;\n",
       "    }\n",
       "\n",
       "    .dataframe tbody tr th {\n",
       "        vertical-align: top;\n",
       "    }\n",
       "\n",
       "    .dataframe thead th {\n",
       "        text-align: right;\n",
       "    }\n",
       "</style>\n",
       "<table border=\"1\" class=\"dataframe\">\n",
       "  <thead>\n",
       "    <tr style=\"text-align: right;\">\n",
       "      <th></th>\n",
       "      <th>id</th>\n",
       "      <th>Gender</th>\n",
       "      <th>Age</th>\n",
       "      <th>Height</th>\n",
       "      <th>Weight</th>\n",
       "      <th>family_history_with_overweight</th>\n",
       "      <th>FAVC</th>\n",
       "      <th>FCVC</th>\n",
       "      <th>NCP</th>\n",
       "      <th>CAEC</th>\n",
       "      <th>SMOKE</th>\n",
       "      <th>CH2O</th>\n",
       "      <th>SCC</th>\n",
       "      <th>FAF</th>\n",
       "      <th>TUE</th>\n",
       "      <th>CALC</th>\n",
       "      <th>MTRANS</th>\n",
       "    </tr>\n",
       "  </thead>\n",
       "  <tbody>\n",
       "    <tr>\n",
       "      <th>0</th>\n",
       "      <td>20758</td>\n",
       "      <td>Male</td>\n",
       "      <td>26.899886</td>\n",
       "      <td>1.848294</td>\n",
       "      <td>120.644178</td>\n",
       "      <td>yes</td>\n",
       "      <td>yes</td>\n",
       "      <td>2.938616</td>\n",
       "      <td>3.000000</td>\n",
       "      <td>Sometimes</td>\n",
       "      <td>no</td>\n",
       "      <td>2.825629</td>\n",
       "      <td>no</td>\n",
       "      <td>0.855400</td>\n",
       "      <td>0.000000</td>\n",
       "      <td>Sometimes</td>\n",
       "      <td>Public_Transportation</td>\n",
       "    </tr>\n",
       "    <tr>\n",
       "      <th>1</th>\n",
       "      <td>20759</td>\n",
       "      <td>Female</td>\n",
       "      <td>21.000000</td>\n",
       "      <td>1.600000</td>\n",
       "      <td>66.000000</td>\n",
       "      <td>yes</td>\n",
       "      <td>yes</td>\n",
       "      <td>2.000000</td>\n",
       "      <td>1.000000</td>\n",
       "      <td>Sometimes</td>\n",
       "      <td>no</td>\n",
       "      <td>3.000000</td>\n",
       "      <td>no</td>\n",
       "      <td>1.000000</td>\n",
       "      <td>0.000000</td>\n",
       "      <td>Sometimes</td>\n",
       "      <td>Public_Transportation</td>\n",
       "    </tr>\n",
       "    <tr>\n",
       "      <th>2</th>\n",
       "      <td>20760</td>\n",
       "      <td>Female</td>\n",
       "      <td>26.000000</td>\n",
       "      <td>1.643355</td>\n",
       "      <td>111.600553</td>\n",
       "      <td>yes</td>\n",
       "      <td>yes</td>\n",
       "      <td>3.000000</td>\n",
       "      <td>3.000000</td>\n",
       "      <td>Sometimes</td>\n",
       "      <td>no</td>\n",
       "      <td>2.621877</td>\n",
       "      <td>no</td>\n",
       "      <td>0.000000</td>\n",
       "      <td>0.250502</td>\n",
       "      <td>Sometimes</td>\n",
       "      <td>Public_Transportation</td>\n",
       "    </tr>\n",
       "    <tr>\n",
       "      <th>3</th>\n",
       "      <td>20761</td>\n",
       "      <td>Male</td>\n",
       "      <td>20.979254</td>\n",
       "      <td>1.553127</td>\n",
       "      <td>103.669116</td>\n",
       "      <td>yes</td>\n",
       "      <td>yes</td>\n",
       "      <td>2.000000</td>\n",
       "      <td>2.977909</td>\n",
       "      <td>Sometimes</td>\n",
       "      <td>no</td>\n",
       "      <td>2.786417</td>\n",
       "      <td>no</td>\n",
       "      <td>0.094851</td>\n",
       "      <td>0.000000</td>\n",
       "      <td>Sometimes</td>\n",
       "      <td>Public_Transportation</td>\n",
       "    </tr>\n",
       "    <tr>\n",
       "      <th>4</th>\n",
       "      <td>20762</td>\n",
       "      <td>Female</td>\n",
       "      <td>26.000000</td>\n",
       "      <td>1.627396</td>\n",
       "      <td>104.835346</td>\n",
       "      <td>yes</td>\n",
       "      <td>yes</td>\n",
       "      <td>3.000000</td>\n",
       "      <td>3.000000</td>\n",
       "      <td>Sometimes</td>\n",
       "      <td>no</td>\n",
       "      <td>2.653531</td>\n",
       "      <td>no</td>\n",
       "      <td>0.000000</td>\n",
       "      <td>0.741069</td>\n",
       "      <td>Sometimes</td>\n",
       "      <td>Public_Transportation</td>\n",
       "    </tr>\n",
       "  </tbody>\n",
       "</table>\n",
       "</div>"
      ],
      "text/plain": [
       "      id  Gender        Age    Height      Weight  \\\n",
       "0  20758    Male  26.899886  1.848294  120.644178   \n",
       "1  20759  Female  21.000000  1.600000   66.000000   \n",
       "2  20760  Female  26.000000  1.643355  111.600553   \n",
       "3  20761    Male  20.979254  1.553127  103.669116   \n",
       "4  20762  Female  26.000000  1.627396  104.835346   \n",
       "\n",
       "  family_history_with_overweight FAVC      FCVC       NCP       CAEC SMOKE  \\\n",
       "0                            yes  yes  2.938616  3.000000  Sometimes    no   \n",
       "1                            yes  yes  2.000000  1.000000  Sometimes    no   \n",
       "2                            yes  yes  3.000000  3.000000  Sometimes    no   \n",
       "3                            yes  yes  2.000000  2.977909  Sometimes    no   \n",
       "4                            yes  yes  3.000000  3.000000  Sometimes    no   \n",
       "\n",
       "       CH2O SCC       FAF       TUE       CALC                 MTRANS  \n",
       "0  2.825629  no  0.855400  0.000000  Sometimes  Public_Transportation  \n",
       "1  3.000000  no  1.000000  0.000000  Sometimes  Public_Transportation  \n",
       "2  2.621877  no  0.000000  0.250502  Sometimes  Public_Transportation  \n",
       "3  2.786417  no  0.094851  0.000000  Sometimes  Public_Transportation  \n",
       "4  2.653531  no  0.000000  0.741069  Sometimes  Public_Transportation  "
      ]
     },
     "execution_count": 4,
     "metadata": {},
     "output_type": "execute_result"
    }
   ],
   "source": [
    "test.head()"
   ]
  },
  {
   "cell_type": "code",
   "execution_count": 5,
   "id": "972768b3",
   "metadata": {
    "execution": {
     "iopub.execute_input": "2024-02-21T22:48:54.304581Z",
     "iopub.status.busy": "2024-02-21T22:48:54.304223Z",
     "iopub.status.idle": "2024-02-21T22:48:54.325145Z",
     "shell.execute_reply": "2024-02-21T22:48:54.324067Z"
    },
    "papermill": {
     "duration": 0.03799,
     "end_time": "2024-02-21T22:48:54.327222",
     "exception": false,
     "start_time": "2024-02-21T22:48:54.289232",
     "status": "completed"
    },
    "tags": []
   },
   "outputs": [
    {
     "data": {
      "text/plain": [
       "id                                0\n",
       "Gender                            0\n",
       "Age                               0\n",
       "Height                            0\n",
       "Weight                            0\n",
       "family_history_with_overweight    0\n",
       "FAVC                              0\n",
       "FCVC                              0\n",
       "NCP                               0\n",
       "CAEC                              0\n",
       "SMOKE                             0\n",
       "CH2O                              0\n",
       "SCC                               0\n",
       "FAF                               0\n",
       "TUE                               0\n",
       "CALC                              0\n",
       "MTRANS                            0\n",
       "NObeyesdad                        0\n",
       "dtype: int64"
      ]
     },
     "execution_count": 5,
     "metadata": {},
     "output_type": "execute_result"
    }
   ],
   "source": [
    "df.isnull().sum()\n"
   ]
  },
  {
   "cell_type": "code",
   "execution_count": 6,
   "id": "920d2bb7",
   "metadata": {
    "execution": {
     "iopub.execute_input": "2024-02-21T22:48:54.356034Z",
     "iopub.status.busy": "2024-02-21T22:48:54.355623Z",
     "iopub.status.idle": "2024-02-21T22:48:54.369108Z",
     "shell.execute_reply": "2024-02-21T22:48:54.368081Z"
    },
    "papermill": {
     "duration": 0.030258,
     "end_time": "2024-02-21T22:48:54.370983",
     "exception": false,
     "start_time": "2024-02-21T22:48:54.340725",
     "status": "completed"
    },
    "tags": []
   },
   "outputs": [
    {
     "data": {
      "text/plain": [
       "id                                0\n",
       "Gender                            0\n",
       "Age                               0\n",
       "Height                            0\n",
       "Weight                            0\n",
       "family_history_with_overweight    0\n",
       "FAVC                              0\n",
       "FCVC                              0\n",
       "NCP                               0\n",
       "CAEC                              0\n",
       "SMOKE                             0\n",
       "CH2O                              0\n",
       "SCC                               0\n",
       "FAF                               0\n",
       "TUE                               0\n",
       "CALC                              0\n",
       "MTRANS                            0\n",
       "dtype: int64"
      ]
     },
     "execution_count": 6,
     "metadata": {},
     "output_type": "execute_result"
    }
   ],
   "source": [
    "test.isnull().sum()\n"
   ]
  },
  {
   "cell_type": "code",
   "execution_count": 7,
   "id": "cd91d4c0",
   "metadata": {
    "execution": {
     "iopub.execute_input": "2024-02-21T22:48:54.400577Z",
     "iopub.status.busy": "2024-02-21T22:48:54.400197Z",
     "iopub.status.idle": "2024-02-21T22:48:54.407000Z",
     "shell.execute_reply": "2024-02-21T22:48:54.406034Z"
    },
    "papermill": {
     "duration": 0.024149,
     "end_time": "2024-02-21T22:48:54.409019",
     "exception": false,
     "start_time": "2024-02-21T22:48:54.384870",
     "status": "completed"
    },
    "tags": []
   },
   "outputs": [
    {
     "data": {
      "text/plain": [
       "Index(['id', 'Gender', 'Age', 'Height', 'Weight',\n",
       "       'family_history_with_overweight', 'FAVC', 'FCVC', 'NCP', 'CAEC',\n",
       "       'SMOKE', 'CH2O', 'SCC', 'FAF', 'TUE', 'CALC', 'MTRANS', 'NObeyesdad'],\n",
       "      dtype='object')"
      ]
     },
     "execution_count": 7,
     "metadata": {},
     "output_type": "execute_result"
    }
   ],
   "source": [
    "df.columns"
   ]
  },
  {
   "cell_type": "markdown",
   "id": "7c977620",
   "metadata": {
    "papermill": {
     "duration": 0.013391,
     "end_time": "2024-02-21T22:48:54.436081",
     "exception": false,
     "start_time": "2024-02-21T22:48:54.422690",
     "status": "completed"
    },
    "tags": []
   },
   "source": [
    "# Dataset Description:\n",
    "\n",
    "The dataset for this competition (both train and test) was generated from a deep learning model trained on the Obesity or CVD risk dataset. Feature distributions are close to, but not exactly the same, as the original. Both to explore differences as well as to see whether incorporating the original in training improves model performance.\n",
    "\n",
    "Note: This dataset is particularly well suited for visualizations, clustering, and general EDA.\n",
    "\n",
    "Files\n",
    "train.csv - the training dataset; NObeyesdad is the categorical target\n",
    "test.csv - the test dataset; your objective is to predict the class of NObeyesdad for each row\n",
    "sample_submission.csv - a sample submission file in the correct format"
   ]
  },
  {
   "cell_type": "markdown",
   "id": "d8452b76",
   "metadata": {
    "papermill": {
     "duration": 0.013676,
     "end_time": "2024-02-21T22:48:54.463498",
     "exception": false,
     "start_time": "2024-02-21T22:48:54.449822",
     "status": "completed"
    },
    "tags": []
   },
   "source": [
    "# Visualization"
   ]
  },
  {
   "cell_type": "code",
   "execution_count": 8,
   "id": "0d47f4ae",
   "metadata": {
    "execution": {
     "iopub.execute_input": "2024-02-21T22:48:54.493056Z",
     "iopub.status.busy": "2024-02-21T22:48:54.492350Z",
     "iopub.status.idle": "2024-02-21T22:48:54.508346Z",
     "shell.execute_reply": "2024-02-21T22:48:54.507520Z"
    },
    "papermill": {
     "duration": 0.033236,
     "end_time": "2024-02-21T22:48:54.510354",
     "exception": false,
     "start_time": "2024-02-21T22:48:54.477118",
     "status": "completed"
    },
    "tags": []
   },
   "outputs": [],
   "source": [
    "cat_cols=df[['Gender','family_history_with_overweight','FAVC','CAEC','SMOKE','SCC','CALC','MTRANS','NObeyesdad']]\n",
    "num_cols=df[['Age','Height','Weight','FCVC','NCP','CH2O','FAF','TUE']]\n"
   ]
  },
  {
   "cell_type": "markdown",
   "id": "fa08ce7b",
   "metadata": {
    "papermill": {
     "duration": 0.013269,
     "end_time": "2024-02-21T22:48:54.537431",
     "exception": false,
     "start_time": "2024-02-21T22:48:54.524162",
     "status": "completed"
    },
    "tags": []
   },
   "source": [
    "# Individual Columns"
   ]
  },
  {
   "cell_type": "markdown",
   "id": "057f921e",
   "metadata": {
    "papermill": {
     "duration": 0.013312,
     "end_time": "2024-02-21T22:48:54.564238",
     "exception": false,
     "start_time": "2024-02-21T22:48:54.550926",
     "status": "completed"
    },
    "tags": []
   },
   "source": [
    "## Categorical Data Value Counts Plots"
   ]
  },
  {
   "cell_type": "code",
   "execution_count": 9,
   "id": "7efe328e",
   "metadata": {
    "execution": {
     "iopub.execute_input": "2024-02-21T22:48:54.593384Z",
     "iopub.status.busy": "2024-02-21T22:48:54.592990Z",
     "iopub.status.idle": "2024-02-21T22:48:54.597198Z",
     "shell.execute_reply": "2024-02-21T22:48:54.596161Z"
    },
    "papermill": {
     "duration": 0.021675,
     "end_time": "2024-02-21T22:48:54.599531",
     "exception": false,
     "start_time": "2024-02-21T22:48:54.577856",
     "status": "completed"
    },
    "tags": []
   },
   "outputs": [],
   "source": [
    "#for col in cat_cols:\n",
    " #   plt.figure(figsize=[15,7])\n",
    "  #  sns.countplot(df,x=df[col]).set(title= col+' Value Distribution')\n",
    "   # plt.show()"
   ]
  },
  {
   "cell_type": "markdown",
   "id": "a41c6fe2",
   "metadata": {
    "papermill": {
     "duration": 0.013672,
     "end_time": "2024-02-21T22:48:54.627042",
     "exception": false,
     "start_time": "2024-02-21T22:48:54.613370",
     "status": "completed"
    },
    "tags": []
   },
   "source": [
    "## Numerical Columns Histograms and Mean Medians"
   ]
  },
  {
   "cell_type": "code",
   "execution_count": 10,
   "id": "d1593ff6",
   "metadata": {
    "execution": {
     "iopub.execute_input": "2024-02-21T22:48:54.656696Z",
     "iopub.status.busy": "2024-02-21T22:48:54.655952Z",
     "iopub.status.idle": "2024-02-21T22:48:54.660535Z",
     "shell.execute_reply": "2024-02-21T22:48:54.659828Z"
    },
    "papermill": {
     "duration": 0.021842,
     "end_time": "2024-02-21T22:48:54.662661",
     "exception": false,
     "start_time": "2024-02-21T22:48:54.640819",
     "status": "completed"
    },
    "tags": []
   },
   "outputs": [],
   "source": [
    "#for col in num_cols:\n",
    " #   plt.figure(figsize=[10,7])\n",
    "  #  sns.distplot(df[col],kde=True).set(title= col+' Histogram')\n",
    "   # plt.axvline(df[col].mean(),color='r', label='Mean')\n",
    "    #plt.axvline(df[col].median(),color='y', linestyle='--',label='Median')\n",
    "    #plt.legend()\n",
    "    #plt.show()\n"
   ]
  },
  {
   "cell_type": "markdown",
   "id": "762c6d9b",
   "metadata": {
    "papermill": {
     "duration": 0.013475,
     "end_time": "2024-02-21T22:48:54.689938",
     "exception": false,
     "start_time": "2024-02-21T22:48:54.676463",
     "status": "completed"
    },
    "tags": []
   },
   "source": [
    "# Categorical Columns Data Hierarchy "
   ]
  },
  {
   "cell_type": "code",
   "execution_count": 11,
   "id": "ae75b3df",
   "metadata": {
    "execution": {
     "iopub.execute_input": "2024-02-21T22:48:54.719413Z",
     "iopub.status.busy": "2024-02-21T22:48:54.718458Z",
     "iopub.status.idle": "2024-02-21T22:48:54.723508Z",
     "shell.execute_reply": "2024-02-21T22:48:54.722469Z"
    },
    "papermill": {
     "duration": 0.021985,
     "end_time": "2024-02-21T22:48:54.725602",
     "exception": false,
     "start_time": "2024-02-21T22:48:54.703617",
     "status": "completed"
    },
    "tags": []
   },
   "outputs": [],
   "source": [
    "#import plotly.express as px\n",
    "#fig = px.sunburst(\n",
    " #   df,\n",
    "  #  path=['NObeyesdad','Gender','MTRANS','family_history_with_overweight','SMOKE'], \n",
    "   # color='Gender',color_discrete_map={'Male':'gold', 'Female':'darkblue'},\n",
    "    #width=1200, height=1200\n",
    "#)\n",
    "#fig.show()\n",
    "\n"
   ]
  },
  {
   "cell_type": "markdown",
   "id": "daec4a6b",
   "metadata": {
    "papermill": {
     "duration": 0.013573,
     "end_time": "2024-02-21T22:48:54.753013",
     "exception": false,
     "start_time": "2024-02-21T22:48:54.739440",
     "status": "completed"
    },
    "tags": []
   },
   "source": [
    "## Analysis Note:\n",
    "Obesity type 2 and Obesity type 3 are specific to one gender only as per the dataset"
   ]
  },
  {
   "cell_type": "markdown",
   "id": "22987e73",
   "metadata": {
    "papermill": {
     "duration": 0.013614,
     "end_time": "2024-02-21T22:48:54.780219",
     "exception": false,
     "start_time": "2024-02-21T22:48:54.766605",
     "status": "completed"
    },
    "tags": []
   },
   "source": [
    "# Numerical Columns Gender wise Distribution in NObeyesdad"
   ]
  },
  {
   "cell_type": "code",
   "execution_count": 12,
   "id": "1d5d6a45",
   "metadata": {
    "execution": {
     "iopub.execute_input": "2024-02-21T22:48:54.809447Z",
     "iopub.status.busy": "2024-02-21T22:48:54.808750Z",
     "iopub.status.idle": "2024-02-21T22:48:54.812651Z",
     "shell.execute_reply": "2024-02-21T22:48:54.811867Z"
    },
    "papermill": {
     "duration": 0.020801,
     "end_time": "2024-02-21T22:48:54.814671",
     "exception": false,
     "start_time": "2024-02-21T22:48:54.793870",
     "status": "completed"
    },
    "tags": []
   },
   "outputs": [],
   "source": [
    "#for col in num_cols:\n",
    " #   plt.figure(figsize=(15, 5))\n",
    "  #  sns.lineplot(data=df, x='NObeyesdad', y=col, hue='Gender').set(title= col+' vs NObeyesdad')\n",
    "    "
   ]
  },
  {
   "cell_type": "code",
   "execution_count": 13,
   "id": "a3c2ed06",
   "metadata": {
    "execution": {
     "iopub.execute_input": "2024-02-21T22:48:54.901567Z",
     "iopub.status.busy": "2024-02-21T22:48:54.900989Z",
     "iopub.status.idle": "2024-02-21T22:48:54.913077Z",
     "shell.execute_reply": "2024-02-21T22:48:54.912313Z"
    },
    "papermill": {
     "duration": 0.029218,
     "end_time": "2024-02-21T22:48:54.914931",
     "exception": false,
     "start_time": "2024-02-21T22:48:54.885713",
     "status": "completed"
    },
    "tags": []
   },
   "outputs": [
    {
     "data": {
      "text/plain": [
       "NObeyesdad\n",
       "Obesity_Type_III       4046\n",
       "Obesity_Type_II        3248\n",
       "Normal_Weight          3082\n",
       "Obesity_Type_I         2910\n",
       "Insufficient_Weight    2523\n",
       "Overweight_Level_II    2522\n",
       "Overweight_Level_I     2427\n",
       "Name: count, dtype: int64"
      ]
     },
     "execution_count": 13,
     "metadata": {},
     "output_type": "execute_result"
    }
   ],
   "source": [
    "df['NObeyesdad'].value_counts()"
   ]
  },
  {
   "cell_type": "markdown",
   "id": "d11f8c53",
   "metadata": {
    "papermill": {
     "duration": 0.013601,
     "end_time": "2024-02-21T22:48:54.942365",
     "exception": false,
     "start_time": "2024-02-21T22:48:54.928764",
     "status": "completed"
    },
    "tags": []
   },
   "source": [
    "## Observations:\n",
    "1. No Nulls\n",
    "1. There are seven classifications, in which the data is divided. The column to predict is NObeyesdad\n",
    "1. There are two classes of NObeyesdad specific to Male and Female only.\n",
    "1. Data Distribution is quite uniform, all classes have 2400-3200 representation apart of one class which has 4046 rows.\n"
   ]
  },
  {
   "cell_type": "code",
   "execution_count": 14,
   "id": "85451998",
   "metadata": {
    "execution": {
     "iopub.execute_input": "2024-02-21T22:48:54.971958Z",
     "iopub.status.busy": "2024-02-21T22:48:54.971542Z",
     "iopub.status.idle": "2024-02-21T22:48:54.977474Z",
     "shell.execute_reply": "2024-02-21T22:48:54.976437Z"
    },
    "papermill": {
     "duration": 0.023472,
     "end_time": "2024-02-21T22:48:54.979717",
     "exception": false,
     "start_time": "2024-02-21T22:48:54.956245",
     "status": "completed"
    },
    "tags": []
   },
   "outputs": [
    {
     "data": {
      "text/plain": [
       "Index(['id', 'Gender', 'Age', 'Height', 'Weight',\n",
       "       'family_history_with_overweight', 'FAVC', 'FCVC', 'NCP', 'CAEC',\n",
       "       'SMOKE', 'CH2O', 'SCC', 'FAF', 'TUE', 'CALC', 'MTRANS', 'NObeyesdad'],\n",
       "      dtype='object')"
      ]
     },
     "execution_count": 14,
     "metadata": {},
     "output_type": "execute_result"
    }
   ],
   "source": [
    "df.columns"
   ]
  },
  {
   "cell_type": "markdown",
   "id": "0feca89e",
   "metadata": {
    "papermill": {
     "duration": 0.013691,
     "end_time": "2024-02-21T22:48:55.007236",
     "exception": false,
     "start_time": "2024-02-21T22:48:54.993545",
     "status": "completed"
    },
    "tags": []
   },
   "source": [
    "# Features Generation"
   ]
  },
  {
   "cell_type": "markdown",
   "id": "0b987798",
   "metadata": {
    "papermill": {
     "duration": 0.015244,
     "end_time": "2024-02-21T22:48:55.036501",
     "exception": false,
     "start_time": "2024-02-21T22:48:55.021257",
     "status": "completed"
    },
    "tags": []
   },
   "source": [
    "## Feature 1: BMI\n",
    "Body mass index (BMI) is a value derived from the mass (weight) and height of a person. The BMI is defined as the body mass divided by the square of the body height, and is expressed in units of kg/m2, resulting from mass in kilograms (kg) and height in metres (m).\n",
    "\n",
    "In the current dataset, BMI can be used to distinguis two classes out of the seven; (Normal_Weight and Insufficient_Weight)"
   ]
  },
  {
   "cell_type": "code",
   "execution_count": 15,
   "id": "67a331d7",
   "metadata": {
    "execution": {
     "iopub.execute_input": "2024-02-21T22:48:55.066630Z",
     "iopub.status.busy": "2024-02-21T22:48:55.065621Z",
     "iopub.status.idle": "2024-02-21T22:48:55.072825Z",
     "shell.execute_reply": "2024-02-21T22:48:55.071982Z"
    },
    "papermill": {
     "duration": 0.024597,
     "end_time": "2024-02-21T22:48:55.074999",
     "exception": false,
     "start_time": "2024-02-21T22:48:55.050402",
     "status": "completed"
    },
    "tags": []
   },
   "outputs": [],
   "source": [
    "df['BMI']=df['Weight']/df['Height']\n",
    "test['BMI']=test['Weight']/test['Height']\n"
   ]
  },
  {
   "cell_type": "code",
   "execution_count": 16,
   "id": "82be9611",
   "metadata": {
    "execution": {
     "iopub.execute_input": "2024-02-21T22:48:55.105205Z",
     "iopub.status.busy": "2024-02-21T22:48:55.104368Z",
     "iopub.status.idle": "2024-02-21T22:48:55.108688Z",
     "shell.execute_reply": "2024-02-21T22:48:55.107963Z"
    },
    "papermill": {
     "duration": 0.021565,
     "end_time": "2024-02-21T22:48:55.110613",
     "exception": false,
     "start_time": "2024-02-21T22:48:55.089048",
     "status": "completed"
    },
    "tags": []
   },
   "outputs": [],
   "source": [
    "#plt.figure(figsize=(15, 5))\n",
    "\n",
    "#sns.boxplot(data=df,x='NObeyesdad',y='BMI', hue='Gender')"
   ]
  },
  {
   "cell_type": "code",
   "execution_count": 17,
   "id": "3bd93e40",
   "metadata": {
    "execution": {
     "iopub.execute_input": "2024-02-21T22:48:55.140298Z",
     "iopub.status.busy": "2024-02-21T22:48:55.139909Z",
     "iopub.status.idle": "2024-02-21T22:48:55.144588Z",
     "shell.execute_reply": "2024-02-21T22:48:55.143578Z"
    },
    "papermill": {
     "duration": 0.022075,
     "end_time": "2024-02-21T22:48:55.146701",
     "exception": false,
     "start_time": "2024-02-21T22:48:55.124626",
     "status": "completed"
    },
    "tags": []
   },
   "outputs": [],
   "source": [
    "#describe_df=df['BMI'][df['NObeyesdad']=='Normal_Weight'].describe().reset_index()\n",
    "#describe_df.rename(columns={'BMI':'Normal_Weight'}, inplace=True)\n",
    "#describe_df['Underweight']=df['BMI'][df['NObeyesdad']=='Insufficient_Weight'].describe().reset_index().BMI\n",
    "#describe_df.drop(0).plot.bar(x='index')"
   ]
  },
  {
   "cell_type": "code",
   "execution_count": 18,
   "id": "b2326174",
   "metadata": {
    "execution": {
     "iopub.execute_input": "2024-02-21T22:48:55.177291Z",
     "iopub.status.busy": "2024-02-21T22:48:55.176930Z",
     "iopub.status.idle": "2024-02-21T22:48:55.180994Z",
     "shell.execute_reply": "2024-02-21T22:48:55.179917Z"
    },
    "papermill": {
     "duration": 0.021488,
     "end_time": "2024-02-21T22:48:55.182971",
     "exception": false,
     "start_time": "2024-02-21T22:48:55.161483",
     "status": "completed"
    },
    "tags": []
   },
   "outputs": [],
   "source": [
    "#sns.distplot(df['BMI'][df['NObeyesdad']=='Insufficient_Weight'],kde=True).set(title= 'BMI Under Weight Histogram')\n",
    "#plt.axvline(df['BMI'][df['NObeyesdad']=='Insufficient_Weight'].mean(),color='r', label='Mean')\n",
    "#plt.axvline(df['BMI'][df['NObeyesdad']=='Insufficient_Weight'].median(),color='y', linestyle='--',label='Median')\n",
    "#plt.legend()\n",
    "#df['BMI'][df['NObeyesdad']=='Insufficient_Weight'].describe()"
   ]
  },
  {
   "cell_type": "code",
   "execution_count": 19,
   "id": "0cfb319e",
   "metadata": {
    "execution": {
     "iopub.execute_input": "2024-02-21T22:48:55.212954Z",
     "iopub.status.busy": "2024-02-21T22:48:55.211872Z",
     "iopub.status.idle": "2024-02-21T22:48:55.756221Z",
     "shell.execute_reply": "2024-02-21T22:48:55.755130Z"
    },
    "papermill": {
     "duration": 0.561427,
     "end_time": "2024-02-21T22:48:55.758303",
     "exception": false,
     "start_time": "2024-02-21T22:48:55.196876",
     "status": "completed"
    },
    "tags": []
   },
   "outputs": [
    {
     "data": {
      "text/plain": [
       "count    3082.000000\n",
       "mean       36.745113\n",
       "std         4.012057\n",
       "min        25.149701\n",
       "25%        33.742331\n",
       "50%        36.419753\n",
       "75%        39.757165\n",
       "max        51.497006\n",
       "Name: BMI, dtype: float64"
      ]
     },
     "execution_count": 19,
     "metadata": {},
     "output_type": "execute_result"
    },
    {
     "data": {
      "image/png": "[encoded data removed]",
      "text/plain": [
       "<Figure size 640x480 with 1 Axes>"
      ]
     },
     "metadata": {},
     "output_type": "display_data"
    }
   ],
   "source": [
    "sns.distplot(df['BMI'][df['NObeyesdad']=='Normal_Weight'],kde=True).set(title= 'BMI Normal Weight Histogram')\n",
    "plt.axvline(df['BMI'][df['NObeyesdad']=='Normal_Weight'].mean(),color='r', label='Mean')\n",
    "plt.axvline(df['BMI'][df['NObeyesdad']=='Normal_Weight'].median(),color='y', linestyle='--',label='Median')\n",
    "plt.legend()\n",
    "df['BMI'][df['NObeyesdad']=='Normal_Weight'].describe()"
   ]
  },
  {
   "cell_type": "markdown",
   "id": "37c14dfb",
   "metadata": {
    "papermill": {
     "duration": 0.014346,
     "end_time": "2024-02-21T22:48:55.787411",
     "exception": false,
     "start_time": "2024-02-21T22:48:55.773065",
     "status": "completed"
    },
    "tags": []
   },
   "source": [
    "## Analysis:\n",
    "BMI for the data doesn't reflect any linear relationship with obesity classification, and in contrast of the earlier assumption there are significant amount of outliers.It indicates that there must exist unaccounted, linear or non linear variables.We can have following scenarios;\n",
    "1. delete the outliers, from the training dataset and train the model based on linearly related data only. \n",
    "1. Keep the data intact and add a 3 cluster column to it based on Height, Gender and Weight and/or Gender and BMI we can also add age in some equations to identify nonlinear relations.\n",
    "\n",
    "In this Notebook we will go with option two and will create two K-mean Clusters."
   ]
  },
  {
   "cell_type": "markdown",
   "id": "a70f669c",
   "metadata": {
    "papermill": {
     "duration": 0.014248,
     "end_time": "2024-02-21T22:48:55.816248",
     "exception": false,
     "start_time": "2024-02-21T22:48:55.802000",
     "status": "completed"
    },
    "tags": []
   },
   "source": [
    "In order to create clusters with Gender, we need to convert Gender into Numeric Column, Modifying the dataset, so let's make a copy of training data. before moving further"
   ]
  },
  {
   "cell_type": "code",
   "execution_count": 20,
   "id": "95dffacc",
   "metadata": {
    "execution": {
     "iopub.execute_input": "2024-02-21T22:48:55.847660Z",
     "iopub.status.busy": "2024-02-21T22:48:55.847280Z",
     "iopub.status.idle": "2024-02-21T22:48:55.860753Z",
     "shell.execute_reply": "2024-02-21T22:48:55.859754Z"
    },
    "papermill": {
     "duration": 0.031945,
     "end_time": "2024-02-21T22:48:55.862962",
     "exception": false,
     "start_time": "2024-02-21T22:48:55.831017",
     "status": "completed"
    },
    "tags": []
   },
   "outputs": [
    {
     "data": {
      "text/plain": [
       "Index(['Gender', 'Age', 'Height', 'Weight', 'family_history_with_overweight',\n",
       "       'FAVC', 'FCVC', 'NCP', 'CAEC', 'SMOKE', 'CH2O', 'SCC', 'FAF', 'TUE',\n",
       "       'CALC', 'MTRANS', 'NObeyesdad', 'BMI'],\n",
       "      dtype='object')"
      ]
     },
     "execution_count": 20,
     "metadata": {},
     "output_type": "execute_result"
    }
   ],
   "source": [
    "train_df=df.drop(columns='id')\n",
    "test_df=test.drop(columns='id')\n",
    "\n",
    "train_df.columns"
   ]
  },
  {
   "cell_type": "markdown",
   "id": "c52c5834",
   "metadata": {
    "papermill": {
     "duration": 0.014648,
     "end_time": "2024-02-21T22:48:55.892509",
     "exception": false,
     "start_time": "2024-02-21T22:48:55.877861",
     "status": "completed"
    },
    "tags": []
   },
   "source": [
    "## Now let's convert the labelled Catergorical Columns in Numeric/Boolean"
   ]
  },
  {
   "cell_type": "code",
   "execution_count": 21,
   "id": "d9d2354d",
   "metadata": {
    "execution": {
     "iopub.execute_input": "2024-02-21T22:48:55.924360Z",
     "iopub.status.busy": "2024-02-21T22:48:55.923406Z",
     "iopub.status.idle": "2024-02-21T22:48:55.937071Z",
     "shell.execute_reply": "2024-02-21T22:48:55.936047Z"
    },
    "papermill": {
     "duration": 0.032017,
     "end_time": "2024-02-21T22:48:55.939395",
     "exception": false,
     "start_time": "2024-02-21T22:48:55.907378",
     "status": "completed"
    },
    "tags": []
   },
   "outputs": [
    {
     "data": {
      "text/html": [
       "<div>\n",
       "<style scoped>\n",
       "    .dataframe tbody tr th:only-of-type {\n",
       "        vertical-align: middle;\n",
       "    }\n",
       "\n",
       "    .dataframe tbody tr th {\n",
       "        vertical-align: top;\n",
       "    }\n",
       "\n",
       "    .dataframe thead th {\n",
       "        text-align: right;\n",
       "    }\n",
       "</style>\n",
       "<table border=\"1\" class=\"dataframe\">\n",
       "  <thead>\n",
       "    <tr style=\"text-align: right;\">\n",
       "      <th></th>\n",
       "      <th>Gender</th>\n",
       "      <th>family_history_with_overweight</th>\n",
       "      <th>FAVC</th>\n",
       "      <th>CAEC</th>\n",
       "      <th>SMOKE</th>\n",
       "      <th>SCC</th>\n",
       "      <th>CALC</th>\n",
       "      <th>MTRANS</th>\n",
       "      <th>NObeyesdad</th>\n",
       "    </tr>\n",
       "  </thead>\n",
       "  <tbody>\n",
       "    <tr>\n",
       "      <th>0</th>\n",
       "      <td>Male</td>\n",
       "      <td>yes</td>\n",
       "      <td>yes</td>\n",
       "      <td>Sometimes</td>\n",
       "      <td>no</td>\n",
       "      <td>no</td>\n",
       "      <td>Sometimes</td>\n",
       "      <td>Public_Transportation</td>\n",
       "      <td>Overweight_Level_II</td>\n",
       "    </tr>\n",
       "    <tr>\n",
       "      <th>1</th>\n",
       "      <td>Female</td>\n",
       "      <td>yes</td>\n",
       "      <td>yes</td>\n",
       "      <td>Frequently</td>\n",
       "      <td>no</td>\n",
       "      <td>no</td>\n",
       "      <td>no</td>\n",
       "      <td>Automobile</td>\n",
       "      <td>Normal_Weight</td>\n",
       "    </tr>\n",
       "    <tr>\n",
       "      <th>2</th>\n",
       "      <td>Female</td>\n",
       "      <td>yes</td>\n",
       "      <td>yes</td>\n",
       "      <td>Sometimes</td>\n",
       "      <td>no</td>\n",
       "      <td>no</td>\n",
       "      <td>no</td>\n",
       "      <td>Public_Transportation</td>\n",
       "      <td>Insufficient_Weight</td>\n",
       "    </tr>\n",
       "    <tr>\n",
       "      <th>3</th>\n",
       "      <td>Female</td>\n",
       "      <td>yes</td>\n",
       "      <td>yes</td>\n",
       "      <td>Sometimes</td>\n",
       "      <td>no</td>\n",
       "      <td>no</td>\n",
       "      <td>Sometimes</td>\n",
       "      <td>Public_Transportation</td>\n",
       "      <td>Obesity_Type_III</td>\n",
       "    </tr>\n",
       "    <tr>\n",
       "      <th>4</th>\n",
       "      <td>Male</td>\n",
       "      <td>yes</td>\n",
       "      <td>yes</td>\n",
       "      <td>Sometimes</td>\n",
       "      <td>no</td>\n",
       "      <td>no</td>\n",
       "      <td>Sometimes</td>\n",
       "      <td>Public_Transportation</td>\n",
       "      <td>Overweight_Level_II</td>\n",
       "    </tr>\n",
       "  </tbody>\n",
       "</table>\n",
       "</div>"
      ],
      "text/plain": [
       "   Gender family_history_with_overweight FAVC        CAEC SMOKE SCC  \\\n",
       "0    Male                            yes  yes   Sometimes    no  no   \n",
       "1  Female                            yes  yes  Frequently    no  no   \n",
       "2  Female                            yes  yes   Sometimes    no  no   \n",
       "3  Female                            yes  yes   Sometimes    no  no   \n",
       "4    Male                            yes  yes   Sometimes    no  no   \n",
       "\n",
       "        CALC                 MTRANS           NObeyesdad  \n",
       "0  Sometimes  Public_Transportation  Overweight_Level_II  \n",
       "1         no             Automobile        Normal_Weight  \n",
       "2         no  Public_Transportation  Insufficient_Weight  \n",
       "3  Sometimes  Public_Transportation     Obesity_Type_III  \n",
       "4  Sometimes  Public_Transportation  Overweight_Level_II  "
      ]
     },
     "execution_count": 21,
     "metadata": {},
     "output_type": "execute_result"
    }
   ],
   "source": [
    "cat_cols.head()"
   ]
  },
  {
   "cell_type": "code",
   "execution_count": 22,
   "id": "684d69ee",
   "metadata": {
    "execution": {
     "iopub.execute_input": "2024-02-21T22:48:55.972556Z",
     "iopub.status.busy": "2024-02-21T22:48:55.971666Z",
     "iopub.status.idle": "2024-02-21T22:48:55.976135Z",
     "shell.execute_reply": "2024-02-21T22:48:55.975148Z"
    },
    "papermill": {
     "duration": 0.02316,
     "end_time": "2024-02-21T22:48:55.978268",
     "exception": false,
     "start_time": "2024-02-21T22:48:55.955108",
     "status": "completed"
    },
    "tags": []
   },
   "outputs": [],
   "source": [
    "#train_df=pd.get_dummies(train_df,columns=['Gender','family_history_with_overweight','SMOKE','MTRANS','SCC','FAVC','CAEC'],dtype=int)\n",
    "#test_df=pd.get_dummies(test_df,columns=['Gender','family_history_with_overweight','SMOKE','MTRANS','SCC','FAVC','CAEC'],dtype=int)"
   ]
  },
  {
   "cell_type": "code",
   "execution_count": 23,
   "id": "ffe178ab",
   "metadata": {
    "execution": {
     "iopub.execute_input": "2024-02-21T22:48:56.010818Z",
     "iopub.status.busy": "2024-02-21T22:48:56.009778Z",
     "iopub.status.idle": "2024-02-21T22:48:56.032459Z",
     "shell.execute_reply": "2024-02-21T22:48:56.031368Z"
    },
    "papermill": {
     "duration": 0.041169,
     "end_time": "2024-02-21T22:48:56.034644",
     "exception": false,
     "start_time": "2024-02-21T22:48:55.993475",
     "status": "completed"
    },
    "tags": []
   },
   "outputs": [
    {
     "data": {
      "text/html": [
       "<div>\n",
       "<style scoped>\n",
       "    .dataframe tbody tr th:only-of-type {\n",
       "        vertical-align: middle;\n",
       "    }\n",
       "\n",
       "    .dataframe tbody tr th {\n",
       "        vertical-align: top;\n",
       "    }\n",
       "\n",
       "    .dataframe thead th {\n",
       "        text-align: right;\n",
       "    }\n",
       "</style>\n",
       "<table border=\"1\" class=\"dataframe\">\n",
       "  <thead>\n",
       "    <tr style=\"text-align: right;\">\n",
       "      <th></th>\n",
       "      <th>Gender</th>\n",
       "      <th>Age</th>\n",
       "      <th>Height</th>\n",
       "      <th>Weight</th>\n",
       "      <th>family_history_with_overweight</th>\n",
       "      <th>FAVC</th>\n",
       "      <th>FCVC</th>\n",
       "      <th>NCP</th>\n",
       "      <th>CAEC</th>\n",
       "      <th>SMOKE</th>\n",
       "      <th>CH2O</th>\n",
       "      <th>SCC</th>\n",
       "      <th>FAF</th>\n",
       "      <th>TUE</th>\n",
       "      <th>CALC</th>\n",
       "      <th>MTRANS</th>\n",
       "      <th>BMI</th>\n",
       "    </tr>\n",
       "  </thead>\n",
       "  <tbody>\n",
       "    <tr>\n",
       "      <th>0</th>\n",
       "      <td>Male</td>\n",
       "      <td>26.899886</td>\n",
       "      <td>1.848294</td>\n",
       "      <td>120.644178</td>\n",
       "      <td>yes</td>\n",
       "      <td>yes</td>\n",
       "      <td>2.938616</td>\n",
       "      <td>3.000000</td>\n",
       "      <td>Sometimes</td>\n",
       "      <td>no</td>\n",
       "      <td>2.825629</td>\n",
       "      <td>no</td>\n",
       "      <td>0.855400</td>\n",
       "      <td>0.000000</td>\n",
       "      <td>Sometimes</td>\n",
       "      <td>Public_Transportation</td>\n",
       "      <td>65.273262</td>\n",
       "    </tr>\n",
       "    <tr>\n",
       "      <th>1</th>\n",
       "      <td>Female</td>\n",
       "      <td>21.000000</td>\n",
       "      <td>1.600000</td>\n",
       "      <td>66.000000</td>\n",
       "      <td>yes</td>\n",
       "      <td>yes</td>\n",
       "      <td>2.000000</td>\n",
       "      <td>1.000000</td>\n",
       "      <td>Sometimes</td>\n",
       "      <td>no</td>\n",
       "      <td>3.000000</td>\n",
       "      <td>no</td>\n",
       "      <td>1.000000</td>\n",
       "      <td>0.000000</td>\n",
       "      <td>Sometimes</td>\n",
       "      <td>Public_Transportation</td>\n",
       "      <td>41.250000</td>\n",
       "    </tr>\n",
       "    <tr>\n",
       "      <th>2</th>\n",
       "      <td>Female</td>\n",
       "      <td>26.000000</td>\n",
       "      <td>1.643355</td>\n",
       "      <td>111.600553</td>\n",
       "      <td>yes</td>\n",
       "      <td>yes</td>\n",
       "      <td>3.000000</td>\n",
       "      <td>3.000000</td>\n",
       "      <td>Sometimes</td>\n",
       "      <td>no</td>\n",
       "      <td>2.621877</td>\n",
       "      <td>no</td>\n",
       "      <td>0.000000</td>\n",
       "      <td>0.250502</td>\n",
       "      <td>Sometimes</td>\n",
       "      <td>Public_Transportation</td>\n",
       "      <td>67.910192</td>\n",
       "    </tr>\n",
       "    <tr>\n",
       "      <th>3</th>\n",
       "      <td>Male</td>\n",
       "      <td>20.979254</td>\n",
       "      <td>1.553127</td>\n",
       "      <td>103.669116</td>\n",
       "      <td>yes</td>\n",
       "      <td>yes</td>\n",
       "      <td>2.000000</td>\n",
       "      <td>2.977909</td>\n",
       "      <td>Sometimes</td>\n",
       "      <td>no</td>\n",
       "      <td>2.786417</td>\n",
       "      <td>no</td>\n",
       "      <td>0.094851</td>\n",
       "      <td>0.000000</td>\n",
       "      <td>Sometimes</td>\n",
       "      <td>Public_Transportation</td>\n",
       "      <td>66.748641</td>\n",
       "    </tr>\n",
       "    <tr>\n",
       "      <th>4</th>\n",
       "      <td>Female</td>\n",
       "      <td>26.000000</td>\n",
       "      <td>1.627396</td>\n",
       "      <td>104.835346</td>\n",
       "      <td>yes</td>\n",
       "      <td>yes</td>\n",
       "      <td>3.000000</td>\n",
       "      <td>3.000000</td>\n",
       "      <td>Sometimes</td>\n",
       "      <td>no</td>\n",
       "      <td>2.653531</td>\n",
       "      <td>no</td>\n",
       "      <td>0.000000</td>\n",
       "      <td>0.741069</td>\n",
       "      <td>Sometimes</td>\n",
       "      <td>Public_Transportation</td>\n",
       "      <td>64.419076</td>\n",
       "    </tr>\n",
       "    <tr>\n",
       "      <th>...</th>\n",
       "      <td>...</td>\n",
       "      <td>...</td>\n",
       "      <td>...</td>\n",
       "      <td>...</td>\n",
       "      <td>...</td>\n",
       "      <td>...</td>\n",
       "      <td>...</td>\n",
       "      <td>...</td>\n",
       "      <td>...</td>\n",
       "      <td>...</td>\n",
       "      <td>...</td>\n",
       "      <td>...</td>\n",
       "      <td>...</td>\n",
       "      <td>...</td>\n",
       "      <td>...</td>\n",
       "      <td>...</td>\n",
       "      <td>...</td>\n",
       "    </tr>\n",
       "    <tr>\n",
       "      <th>13835</th>\n",
       "      <td>Male</td>\n",
       "      <td>23.327836</td>\n",
       "      <td>1.721384</td>\n",
       "      <td>78.030383</td>\n",
       "      <td>yes</td>\n",
       "      <td>no</td>\n",
       "      <td>2.813234</td>\n",
       "      <td>3.000000</td>\n",
       "      <td>Sometimes</td>\n",
       "      <td>no</td>\n",
       "      <td>1.000000</td>\n",
       "      <td>no</td>\n",
       "      <td>0.807076</td>\n",
       "      <td>0.778632</td>\n",
       "      <td>Sometimes</td>\n",
       "      <td>Public_Transportation</td>\n",
       "      <td>45.330027</td>\n",
       "    </tr>\n",
       "    <tr>\n",
       "      <th>13836</th>\n",
       "      <td>Female</td>\n",
       "      <td>29.000000</td>\n",
       "      <td>1.590000</td>\n",
       "      <td>62.000000</td>\n",
       "      <td>no</td>\n",
       "      <td>yes</td>\n",
       "      <td>3.000000</td>\n",
       "      <td>3.000000</td>\n",
       "      <td>Sometimes</td>\n",
       "      <td>no</td>\n",
       "      <td>2.000000</td>\n",
       "      <td>no</td>\n",
       "      <td>0.000000</td>\n",
       "      <td>0.000000</td>\n",
       "      <td>Sometimes</td>\n",
       "      <td>Public_Transportation</td>\n",
       "      <td>38.993711</td>\n",
       "    </tr>\n",
       "    <tr>\n",
       "      <th>13837</th>\n",
       "      <td>Female</td>\n",
       "      <td>22.935612</td>\n",
       "      <td>1.585547</td>\n",
       "      <td>44.376637</td>\n",
       "      <td>no</td>\n",
       "      <td>yes</td>\n",
       "      <td>3.000000</td>\n",
       "      <td>2.273740</td>\n",
       "      <td>Frequently</td>\n",
       "      <td>no</td>\n",
       "      <td>2.000000</td>\n",
       "      <td>no</td>\n",
       "      <td>1.949840</td>\n",
       "      <td>1.000000</td>\n",
       "      <td>Sometimes</td>\n",
       "      <td>Public_Transportation</td>\n",
       "      <td>27.988219</td>\n",
       "    </tr>\n",
       "    <tr>\n",
       "      <th>13838</th>\n",
       "      <td>Male</td>\n",
       "      <td>21.000000</td>\n",
       "      <td>1.620000</td>\n",
       "      <td>53.000000</td>\n",
       "      <td>yes</td>\n",
       "      <td>yes</td>\n",
       "      <td>2.000000</td>\n",
       "      <td>3.000000</td>\n",
       "      <td>Sometimes</td>\n",
       "      <td>no</td>\n",
       "      <td>2.000000</td>\n",
       "      <td>no</td>\n",
       "      <td>3.000000</td>\n",
       "      <td>2.000000</td>\n",
       "      <td>no</td>\n",
       "      <td>Public_Transportation</td>\n",
       "      <td>32.716049</td>\n",
       "    </tr>\n",
       "    <tr>\n",
       "      <th>13839</th>\n",
       "      <td>Male</td>\n",
       "      <td>26.490926</td>\n",
       "      <td>1.812259</td>\n",
       "      <td>120.980508</td>\n",
       "      <td>yes</td>\n",
       "      <td>yes</td>\n",
       "      <td>2.744994</td>\n",
       "      <td>3.000000</td>\n",
       "      <td>Sometimes</td>\n",
       "      <td>no</td>\n",
       "      <td>2.205977</td>\n",
       "      <td>no</td>\n",
       "      <td>1.304291</td>\n",
       "      <td>0.630866</td>\n",
       "      <td>Sometimes</td>\n",
       "      <td>Public_Transportation</td>\n",
       "      <td>66.756743</td>\n",
       "    </tr>\n",
       "  </tbody>\n",
       "</table>\n",
       "<p>13840 rows × 17 columns</p>\n",
       "</div>"
      ],
      "text/plain": [
       "       Gender        Age    Height      Weight family_history_with_overweight  \\\n",
       "0        Male  26.899886  1.848294  120.644178                            yes   \n",
       "1      Female  21.000000  1.600000   66.000000                            yes   \n",
       "2      Female  26.000000  1.643355  111.600553                            yes   \n",
       "3        Male  20.979254  1.553127  103.669116                            yes   \n",
       "4      Female  26.000000  1.627396  104.835346                            yes   \n",
       "...       ...        ...       ...         ...                            ...   \n",
       "13835    Male  23.327836  1.721384   78.030383                            yes   \n",
       "13836  Female  29.000000  1.590000   62.000000                             no   \n",
       "13837  Female  22.935612  1.585547   44.376637                             no   \n",
       "13838    Male  21.000000  1.620000   53.000000                            yes   \n",
       "13839    Male  26.490926  1.812259  120.980508                            yes   \n",
       "\n",
       "      FAVC      FCVC       NCP        CAEC SMOKE      CH2O SCC       FAF  \\\n",
       "0      yes  2.938616  3.000000   Sometimes    no  2.825629  no  0.855400   \n",
       "1      yes  2.000000  1.000000   Sometimes    no  3.000000  no  1.000000   \n",
       "2      yes  3.000000  3.000000   Sometimes    no  2.621877  no  0.000000   \n",
       "3      yes  2.000000  2.977909   Sometimes    no  2.786417  no  0.094851   \n",
       "4      yes  3.000000  3.000000   Sometimes    no  2.653531  no  0.000000   \n",
       "...    ...       ...       ...         ...   ...       ...  ..       ...   \n",
       "13835   no  2.813234  3.000000   Sometimes    no  1.000000  no  0.807076   \n",
       "13836  yes  3.000000  3.000000   Sometimes    no  2.000000  no  0.000000   \n",
       "13837  yes  3.000000  2.273740  Frequently    no  2.000000  no  1.949840   \n",
       "13838  yes  2.000000  3.000000   Sometimes    no  2.000000  no  3.000000   \n",
       "13839  yes  2.744994  3.000000   Sometimes    no  2.205977  no  1.304291   \n",
       "\n",
       "            TUE       CALC                 MTRANS        BMI  \n",
       "0      0.000000  Sometimes  Public_Transportation  65.273262  \n",
       "1      0.000000  Sometimes  Public_Transportation  41.250000  \n",
       "2      0.250502  Sometimes  Public_Transportation  67.910192  \n",
       "3      0.000000  Sometimes  Public_Transportation  66.748641  \n",
       "4      0.741069  Sometimes  Public_Transportation  64.419076  \n",
       "...         ...        ...                    ...        ...  \n",
       "13835  0.778632  Sometimes  Public_Transportation  45.330027  \n",
       "13836  0.000000  Sometimes  Public_Transportation  38.993711  \n",
       "13837  1.000000  Sometimes  Public_Transportation  27.988219  \n",
       "13838  2.000000         no  Public_Transportation  32.716049  \n",
       "13839  0.630866  Sometimes  Public_Transportation  66.756743  \n",
       "\n",
       "[13840 rows x 17 columns]"
      ]
     },
     "execution_count": 23,
     "metadata": {},
     "output_type": "execute_result"
    }
   ],
   "source": [
    "test_df"
   ]
  },
  {
   "cell_type": "markdown",
   "id": "cac720ca",
   "metadata": {
    "papermill": {
     "duration": 0.015796,
     "end_time": "2024-02-21T22:48:56.068744",
     "exception": false,
     "start_time": "2024-02-21T22:48:56.052948",
     "status": "completed"
    },
    "tags": []
   },
   "source": [
    "## Labelling the NObeyesdad and CALC Column\n",
    "Since test dataset has one additional unique value for CALC column i-e Always, So we need to encode the column separately"
   ]
  },
  {
   "cell_type": "code",
   "execution_count": 24,
   "id": "393edb07",
   "metadata": {
    "execution": {
     "iopub.execute_input": "2024-02-21T22:48:56.102485Z",
     "iopub.status.busy": "2024-02-21T22:48:56.101985Z",
     "iopub.status.idle": "2024-02-21T22:48:56.105731Z",
     "shell.execute_reply": "2024-02-21T22:48:56.105016Z"
    },
    "papermill": {
     "duration": 0.023205,
     "end_time": "2024-02-21T22:48:56.107767",
     "exception": false,
     "start_time": "2024-02-21T22:48:56.084562",
     "status": "completed"
    },
    "tags": []
   },
   "outputs": [],
   "source": [
    "#test['CALC'].unique()"
   ]
  },
  {
   "cell_type": "code",
   "execution_count": 25,
   "id": "b98c8e66",
   "metadata": {
    "execution": {
     "iopub.execute_input": "2024-02-21T22:48:56.141605Z",
     "iopub.status.busy": "2024-02-21T22:48:56.140503Z",
     "iopub.status.idle": "2024-02-21T22:48:56.144812Z",
     "shell.execute_reply": "2024-02-21T22:48:56.144062Z"
    },
    "papermill": {
     "duration": 0.023089,
     "end_time": "2024-02-21T22:48:56.146649",
     "exception": false,
     "start_time": "2024-02-21T22:48:56.123560",
     "status": "completed"
    },
    "tags": []
   },
   "outputs": [],
   "source": [
    "#train_df['NObeyesdad'] = df['NObeyesdad'].map({'Overweight_Level_II':0, 'Normal_Weight':1,'Insufficient_Weight':2,'Obesity_Type_III':3,'Obesity_Type_II':4,'Overweight_Level_I':5,'Obesity_Type_I':6})\n",
    "#train_df['CALC'] = df['CALC'].map({'no':0, 'Sometimes':1,'Frequently':2,'Always':3})\n",
    "#test_df['CALC'] = test['CALC'].map({'no':0, 'Sometimes':1,'Frequently':2,'Always':3})\n"
   ]
  },
  {
   "cell_type": "code",
   "execution_count": 26,
   "id": "4b5f2124",
   "metadata": {
    "execution": {
     "iopub.execute_input": "2024-02-21T22:48:56.180181Z",
     "iopub.status.busy": "2024-02-21T22:48:56.179499Z",
     "iopub.status.idle": "2024-02-21T22:48:56.189270Z",
     "shell.execute_reply": "2024-02-21T22:48:56.188213Z"
    },
    "papermill": {
     "duration": 0.028841,
     "end_time": "2024-02-21T22:48:56.191391",
     "exception": false,
     "start_time": "2024-02-21T22:48:56.162550",
     "status": "completed"
    },
    "tags": []
   },
   "outputs": [
    {
     "data": {
      "text/plain": [
       "array(['Overweight_Level_II', 'Normal_Weight', 'Insufficient_Weight',\n",
       "       'Obesity_Type_III', 'Obesity_Type_II', 'Overweight_Level_I',\n",
       "       'Obesity_Type_I'], dtype=object)"
      ]
     },
     "execution_count": 26,
     "metadata": {},
     "output_type": "execute_result"
    }
   ],
   "source": [
    "train_df['NObeyesdad'].unique()"
   ]
  },
  {
   "cell_type": "code",
   "execution_count": 27,
   "id": "ca29eb1d",
   "metadata": {
    "execution": {
     "iopub.execute_input": "2024-02-21T22:48:56.225535Z",
     "iopub.status.busy": "2024-02-21T22:48:56.224911Z",
     "iopub.status.idle": "2024-02-21T22:48:56.231613Z",
     "shell.execute_reply": "2024-02-21T22:48:56.230491Z"
    },
    "papermill": {
     "duration": 0.026327,
     "end_time": "2024-02-21T22:48:56.233666",
     "exception": false,
     "start_time": "2024-02-21T22:48:56.207339",
     "status": "completed"
    },
    "tags": []
   },
   "outputs": [
    {
     "data": {
      "text/plain": [
       "Index(['Gender', 'Age', 'Height', 'Weight', 'family_history_with_overweight',\n",
       "       'FAVC', 'FCVC', 'NCP', 'CAEC', 'SMOKE', 'CH2O', 'SCC', 'FAF', 'TUE',\n",
       "       'CALC', 'MTRANS', 'NObeyesdad', 'BMI'],\n",
       "      dtype='object')"
      ]
     },
     "execution_count": 27,
     "metadata": {},
     "output_type": "execute_result"
    }
   ],
   "source": [
    "train_df.columns"
   ]
  },
  {
   "cell_type": "code",
   "execution_count": 28,
   "id": "f9a74f29",
   "metadata": {
    "execution": {
     "iopub.execute_input": "2024-02-21T22:48:56.268789Z",
     "iopub.status.busy": "2024-02-21T22:48:56.268142Z",
     "iopub.status.idle": "2024-02-21T22:48:56.274024Z",
     "shell.execute_reply": "2024-02-21T22:48:56.273019Z"
    },
    "papermill": {
     "duration": 0.025416,
     "end_time": "2024-02-21T22:48:56.275990",
     "exception": false,
     "start_time": "2024-02-21T22:48:56.250574",
     "status": "completed"
    },
    "tags": []
   },
   "outputs": [
    {
     "data": {
      "text/plain": [
       "Index(['Gender', 'Age', 'Height', 'Weight', 'family_history_with_overweight',\n",
       "       'FAVC', 'FCVC', 'NCP', 'CAEC', 'SMOKE', 'CH2O', 'SCC', 'FAF', 'TUE',\n",
       "       'CALC', 'MTRANS', 'BMI'],\n",
       "      dtype='object')"
      ]
     },
     "execution_count": 28,
     "metadata": {},
     "output_type": "execute_result"
    }
   ],
   "source": [
    "test_df.columns"
   ]
  },
  {
   "cell_type": "markdown",
   "id": "81e4ca25",
   "metadata": {
    "papermill": {
     "duration": 0.015842,
     "end_time": "2024-02-21T22:48:56.308008",
     "exception": false,
     "start_time": "2024-02-21T22:48:56.292166",
     "status": "completed"
    },
    "tags": []
   },
   "source": [
    "## Creating Clusterred Features."
   ]
  },
  {
   "cell_type": "code",
   "execution_count": 29,
   "id": "cc65d191",
   "metadata": {
    "execution": {
     "iopub.execute_input": "2024-02-21T22:48:56.342136Z",
     "iopub.status.busy": "2024-02-21T22:48:56.341440Z",
     "iopub.status.idle": "2024-02-21T22:48:57.120585Z",
     "shell.execute_reply": "2024-02-21T22:48:57.119576Z"
    },
    "papermill": {
     "duration": 0.799283,
     "end_time": "2024-02-21T22:48:57.123199",
     "exception": false,
     "start_time": "2024-02-21T22:48:56.323916",
     "status": "completed"
    },
    "tags": []
   },
   "outputs": [],
   "source": [
    "def cluster(X):\n",
    "    from sklearn import cluster\n",
    "    agglo = cluster.KMeans(n_clusters=5,random_state=0, n_init=\"auto\")\n",
    "    agglo.fit(X)\n",
    "    return ((agglo.labels_+1)/5)\n",
    "\n",
    "X=train_df[['BMI', 'Weight', 'Age']]\n",
    "train_df['Cluster-1']=cluster(X)  \n",
    "\n",
    "\n",
    "X=test_df[['BMI', 'Weight', 'Age']]\n",
    "test_df['Cluster-1']=cluster(X) \n"
   ]
  },
  {
   "cell_type": "markdown",
   "id": "58e59818",
   "metadata": {
    "papermill": {
     "duration": 0.017969,
     "end_time": "2024-02-21T22:48:57.158143",
     "exception": false,
     "start_time": "2024-02-21T22:48:57.140174",
     "status": "completed"
    },
    "tags": []
   },
   "source": [
    "# Correlation between Features"
   ]
  },
  {
   "cell_type": "code",
   "execution_count": 30,
   "id": "0a2c0bfa",
   "metadata": {
    "execution": {
     "iopub.execute_input": "2024-02-21T22:48:57.192962Z",
     "iopub.status.busy": "2024-02-21T22:48:57.192568Z",
     "iopub.status.idle": "2024-02-21T22:48:57.196708Z",
     "shell.execute_reply": "2024-02-21T22:48:57.195945Z"
    },
    "papermill": {
     "duration": 0.023603,
     "end_time": "2024-02-21T22:48:57.198662",
     "exception": false,
     "start_time": "2024-02-21T22:48:57.175059",
     "status": "completed"
    },
    "tags": []
   },
   "outputs": [],
   "source": [
    "#corr = train_df.corr()\n",
    "# plot the heatmap\n",
    "#plt.figure(figsize=(30,30))\n",
    "#s=sns.heatmap(corr,annot=True, cmap='crest')"
   ]
  },
  {
   "cell_type": "markdown",
   "id": "c4460a5e",
   "metadata": {
    "papermill": {
     "duration": 0.016021,
     "end_time": "2024-02-21T22:48:57.231225",
     "exception": false,
     "start_time": "2024-02-21T22:48:57.215204",
     "status": "completed"
    },
    "tags": []
   },
   "source": [
    "# Creating Testing and Training Data"
   ]
  },
  {
   "cell_type": "code",
   "execution_count": 31,
   "id": "31f83181",
   "metadata": {
    "execution": {
     "iopub.execute_input": "2024-02-21T22:48:57.265601Z",
     "iopub.status.busy": "2024-02-21T22:48:57.265211Z",
     "iopub.status.idle": "2024-02-21T22:48:57.271063Z",
     "shell.execute_reply": "2024-02-21T22:48:57.269755Z"
    },
    "papermill": {
     "duration": 0.025965,
     "end_time": "2024-02-21T22:48:57.273303",
     "exception": false,
     "start_time": "2024-02-21T22:48:57.247338",
     "status": "completed"
    },
    "tags": []
   },
   "outputs": [],
   "source": [
    "def scale(X):\n",
    "    from sklearn import preprocessing\n",
    "    scaled=preprocessing.StandardScaler()\n",
    "    scaler=scaled.fit(X)\n",
    "    X=scaler.transform(X)\n",
    "    return X"
   ]
  },
  {
   "cell_type": "code",
   "execution_count": 32,
   "id": "0a0860f0",
   "metadata": {
    "execution": {
     "iopub.execute_input": "2024-02-21T22:48:57.309699Z",
     "iopub.status.busy": "2024-02-21T22:48:57.309306Z",
     "iopub.status.idle": "2024-02-21T22:48:57.320228Z",
     "shell.execute_reply": "2024-02-21T22:48:57.318975Z"
    },
    "papermill": {
     "duration": 0.03051,
     "end_time": "2024-02-21T22:48:57.322224",
     "exception": false,
     "start_time": "2024-02-21T22:48:57.291714",
     "status": "completed"
    },
    "tags": []
   },
   "outputs": [
    {
     "name": "stdout",
     "output_type": "stream",
     "text": [
      "Index(['Gender', 'Age', 'Height', 'Weight', 'family_history_with_overweight',\n",
      "       'FAVC', 'FCVC', 'NCP', 'CAEC', 'SMOKE', 'CH2O', 'SCC', 'FAF', 'TUE',\n",
      "       'CALC', 'MTRANS', 'BMI', 'Cluster-1'],\n",
      "      dtype='object')\n",
      "Index(['NObeyesdad'], dtype='object')\n",
      "Index(['Gender', 'Age', 'Height', 'Weight', 'family_history_with_overweight',\n",
      "       'FAVC', 'FCVC', 'NCP', 'CAEC', 'SMOKE', 'CH2O', 'SCC', 'FAF', 'TUE',\n",
      "       'CALC', 'MTRANS', 'BMI', 'Cluster-1'],\n",
      "      dtype='object')\n"
     ]
    }
   ],
   "source": [
    "X=train_df.drop(columns='NObeyesdad')\n",
    "y=train_df[['NObeyesdad']]\n",
    "print(X.columns)\n",
    "print(y.columns)\n",
    "print(test_df.columns)"
   ]
  },
  {
   "cell_type": "code",
   "execution_count": 33,
   "id": "d8b0e35e",
   "metadata": {
    "execution": {
     "iopub.execute_input": "2024-02-21T22:48:57.356788Z",
     "iopub.status.busy": "2024-02-21T22:48:57.356062Z",
     "iopub.status.idle": "2024-02-21T22:48:57.375219Z",
     "shell.execute_reply": "2024-02-21T22:48:57.374248Z"
    },
    "papermill": {
     "duration": 0.039007,
     "end_time": "2024-02-21T22:48:57.377576",
     "exception": false,
     "start_time": "2024-02-21T22:48:57.338569",
     "status": "completed"
    },
    "tags": []
   },
   "outputs": [],
   "source": [
    "\n",
    "from sklearn.model_selection import train_test_split\n",
    "X_train,X_test,y_train,y_test=train_test_split(X,y,train_size=0.8, random_state=42)\n",
    "col_id = np.arange(0, X.shape[1])\n",
    "catfeat_id = col_id[X.dtypes == object]\n"
   ]
  },
  {
   "cell_type": "code",
   "execution_count": 34,
   "id": "0bc04599",
   "metadata": {
    "execution": {
     "iopub.execute_input": "2024-02-21T22:48:57.412202Z",
     "iopub.status.busy": "2024-02-21T22:48:57.411194Z",
     "iopub.status.idle": "2024-02-21T22:48:57.442310Z",
     "shell.execute_reply": "2024-02-21T22:48:57.441059Z"
    },
    "papermill": {
     "duration": 0.050699,
     "end_time": "2024-02-21T22:48:57.444581",
     "exception": false,
     "start_time": "2024-02-21T22:48:57.393882",
     "status": "completed"
    },
    "tags": []
   },
   "outputs": [
    {
     "name": "stdout",
     "output_type": "stream",
     "text": [
      "<class 'pandas.core.frame.DataFrame'>\n",
      "RangeIndex: 20758 entries, 0 to 20757\n",
      "Data columns (total 18 columns):\n",
      " #   Column                          Non-Null Count  Dtype  \n",
      "---  ------                          --------------  -----  \n",
      " 0   Gender                          20758 non-null  object \n",
      " 1   Age                             20758 non-null  float64\n",
      " 2   Height                          20758 non-null  float64\n",
      " 3   Weight                          20758 non-null  float64\n",
      " 4   family_history_with_overweight  20758 non-null  object \n",
      " 5   FAVC                            20758 non-null  object \n",
      " 6   FCVC                            20758 non-null  float64\n",
      " 7   NCP                             20758 non-null  float64\n",
      " 8   CAEC                            20758 non-null  object \n",
      " 9   SMOKE                           20758 non-null  object \n",
      " 10  CH2O                            20758 non-null  float64\n",
      " 11  SCC                             20758 non-null  object \n",
      " 12  FAF                             20758 non-null  float64\n",
      " 13  TUE                             20758 non-null  float64\n",
      " 14  CALC                            20758 non-null  object \n",
      " 15  MTRANS                          20758 non-null  object \n",
      " 16  BMI                             20758 non-null  float64\n",
      " 17  Cluster-1                       20758 non-null  float64\n",
      "dtypes: float64(10), object(8)\n",
      "memory usage: 2.9+ MB\n",
      "None\n",
      "<class 'pandas.core.frame.DataFrame'>\n",
      "RangeIndex: 20758 entries, 0 to 20757\n",
      "Data columns (total 1 columns):\n",
      " #   Column      Non-Null Count  Dtype \n",
      "---  ------      --------------  ----- \n",
      " 0   NObeyesdad  20758 non-null  object\n",
      "dtypes: object(1)\n",
      "memory usage: 162.3+ KB\n",
      "None\n"
     ]
    }
   ],
   "source": [
    "print(X.info())\n",
    "print(y.info())"
   ]
  },
  {
   "cell_type": "markdown",
   "id": "f2155da3",
   "metadata": {
    "papermill": {
     "duration": 0.017348,
     "end_time": "2024-02-21T22:48:57.478268",
     "exception": false,
     "start_time": "2024-02-21T22:48:57.460920",
     "status": "completed"
    },
    "tags": []
   },
   "source": [
    "# Creating Training Evaluation Function"
   ]
  },
  {
   "cell_type": "code",
   "execution_count": 35,
   "id": "3393d6e2",
   "metadata": {
    "execution": {
     "iopub.execute_input": "2024-02-21T22:48:57.512762Z",
     "iopub.status.busy": "2024-02-21T22:48:57.511827Z",
     "iopub.status.idle": "2024-02-21T22:48:57.517750Z",
     "shell.execute_reply": "2024-02-21T22:48:57.517023Z"
    },
    "papermill": {
     "duration": 0.025254,
     "end_time": "2024-02-21T22:48:57.519716",
     "exception": false,
     "start_time": "2024-02-21T22:48:57.494462",
     "status": "completed"
    },
    "tags": []
   },
   "outputs": [],
   "source": [
    "def evaluate(y_test,ypred):\n",
    "    from sklearn.metrics import precision_score\n",
    "    from sklearn.metrics import recall_score\n",
    "    from sklearn.metrics import f1_score\n",
    "    from sklearn.metrics import accuracy_score\n",
    "    from sklearn.metrics import confusion_matrix\n",
    "    print(\"Accuracy: \",accuracy_score(y_test,y_pred)) \n",
    "    print(\"Recall Score: \", recall_score(y_test,y_pred, average='macro')) #Recall measures the proportion of true positive predictions among all actual positive instalnces. If we predicted 100 survived correctly whereas actually 100 survived out of which 67 predicted correctly so recall will be 0.67\n",
    "    cm = confusion_matrix(y_test, y_pred)\n",
    "    plt.figure(figsize=(10, 10))\n",
    "    s=sns.heatmap(cm,annot=True, cmap='Reds')"
   ]
  },
  {
   "cell_type": "markdown",
   "id": "86d8a4a5",
   "metadata": {
    "papermill": {
     "duration": 0.015826,
     "end_time": "2024-02-21T22:48:57.551837",
     "exception": false,
     "start_time": "2024-02-21T22:48:57.536011",
     "status": "completed"
    },
    "tags": []
   },
   "source": [
    "# Training Category Boost Classifier"
   ]
  },
  {
   "cell_type": "code",
   "execution_count": 36,
   "id": "ff24dcaf",
   "metadata": {
    "execution": {
     "iopub.execute_input": "2024-02-21T22:48:57.585918Z",
     "iopub.status.busy": "2024-02-21T22:48:57.585536Z",
     "iopub.status.idle": "2024-02-21T22:53:19.729948Z",
     "shell.execute_reply": "2024-02-21T22:53:19.728896Z"
    },
    "papermill": {
     "duration": 262.16424,
     "end_time": "2024-02-21T22:53:19.732249",
     "exception": false,
     "start_time": "2024-02-21T22:48:57.568009",
     "status": "completed"
    },
    "tags": []
   },
   "outputs": [
    {
     "data": {
      "application/vnd.jupyter.widget-view+json": {
       "model_id": "fc3e0a7f9a9f49a2bff4753eb0c16bf8",
       "version_major": 2,
       "version_minor": 0
      },
      "text/plain": [
       "MetricVisualizer(layout=Layout(align_self='stretch', height='500px'))"
      ]
     },
     "metadata": {},
     "output_type": "display_data"
    },
    {
     "name": "stdout",
     "output_type": "stream",
     "text": [
      "Accuracy:  0.9034200385356455\n",
      "Recall Score:  0.89311908174021\n"
     ]
    },
    {
     "data": {
      "image/png": "[encoded data removed]",
      "text/plain": [
       "<Figure size 1000x1000 with 2 Axes>"
      ]
     },
     "metadata": {},
     "output_type": "display_data"
    }
   ],
   "source": [
    "from catboost import CatBoostClassifier, Pool\n",
    "params={\n",
    "        'learning_rate': 0.17409395542510497,\n",
    "        'depth': 8,\n",
    "        'bootstrap_type': 'Bayesian',\n",
    "        'l2_leaf_reg': 1.5450114826587227,\n",
    "        'bagging_temperature': 0.6883282410718372,\n",
    "        'auto_class_weights' : 'Balanced',\n",
    "        'iterations':1000,\n",
    "        'verbose': False,\n",
    "        'loss_function': \"MultiClass\"\n",
    "       }\n",
    "cb = CatBoostClassifier(**params)\n",
    "cb.fit(X_train, y_train, eval_set=(X_test, y_test), cat_features=catfeat_id, plot=True)\n",
    "y_pred = cb.predict(X_test)\n",
    "\n",
    "evaluate(y_test,y_pred)"
   ]
  },
  {
   "cell_type": "markdown",
   "id": "66fdfc65",
   "metadata": {
    "papermill": {
     "duration": 0.016928,
     "end_time": "2024-02-21T22:53:19.766551",
     "exception": false,
     "start_time": "2024-02-21T22:53:19.749623",
     "status": "completed"
    },
    "tags": []
   },
   "source": [
    "# Predicting the results"
   ]
  },
  {
   "cell_type": "code",
   "execution_count": 37,
   "id": "4eb99e5f",
   "metadata": {
    "execution": {
     "iopub.execute_input": "2024-02-21T22:53:19.803004Z",
     "iopub.status.busy": "2024-02-21T22:53:19.802299Z",
     "iopub.status.idle": "2024-02-21T22:53:19.858848Z",
     "shell.execute_reply": "2024-02-21T22:53:19.857748Z"
    },
    "papermill": {
     "duration": 0.077539,
     "end_time": "2024-02-21T22:53:19.861337",
     "exception": false,
     "start_time": "2024-02-21T22:53:19.783798",
     "status": "completed"
    },
    "tags": []
   },
   "outputs": [],
   "source": [
    "test['NObeyesdad']=cb.predict(test_df)[:, 0]"
   ]
  },
  {
   "cell_type": "code",
   "execution_count": 38,
   "id": "b4b8f706",
   "metadata": {
    "execution": {
     "iopub.execute_input": "2024-02-21T22:53:19.897772Z",
     "iopub.status.busy": "2024-02-21T22:53:19.896931Z",
     "iopub.status.idle": "2024-02-21T22:53:19.906088Z",
     "shell.execute_reply": "2024-02-21T22:53:19.905104Z"
    },
    "papermill": {
     "duration": 0.029702,
     "end_time": "2024-02-21T22:53:19.908231",
     "exception": false,
     "start_time": "2024-02-21T22:53:19.878529",
     "status": "completed"
    },
    "tags": []
   },
   "outputs": [
    {
     "data": {
      "text/plain": [
       "NObeyesdad\n",
       "Obesity_Type_III       2631\n",
       "Normal_Weight          2497\n",
       "Obesity_Type_I         2262\n",
       "Obesity_Type_II        2157\n",
       "Overweight_Level_II    1501\n",
       "Overweight_Level_I     1477\n",
       "Insufficient_Weight    1315\n",
       "Name: count, dtype: int64"
      ]
     },
     "execution_count": 38,
     "metadata": {},
     "output_type": "execute_result"
    }
   ],
   "source": [
    "test['NObeyesdad'].value_counts()"
   ]
  },
  {
   "cell_type": "code",
   "execution_count": 39,
   "id": "473345cb",
   "metadata": {
    "execution": {
     "iopub.execute_input": "2024-02-21T22:53:19.945307Z",
     "iopub.status.busy": "2024-02-21T22:53:19.944625Z",
     "iopub.status.idle": "2024-02-21T22:53:19.950968Z",
     "shell.execute_reply": "2024-02-21T22:53:19.949980Z"
    },
    "papermill": {
     "duration": 0.027536,
     "end_time": "2024-02-21T22:53:19.953154",
     "exception": false,
     "start_time": "2024-02-21T22:53:19.925618",
     "status": "completed"
    },
    "tags": []
   },
   "outputs": [],
   "source": [
    "submission=test[['id','NObeyesdad']]\n"
   ]
  },
  {
   "cell_type": "code",
   "execution_count": 40,
   "id": "fff3f87b",
   "metadata": {
    "execution": {
     "iopub.execute_input": "2024-02-21T22:53:20.049590Z",
     "iopub.status.busy": "2024-02-21T22:53:20.048850Z",
     "iopub.status.idle": "2024-02-21T22:53:20.056814Z",
     "shell.execute_reply": "2024-02-21T22:53:20.055850Z"
    },
    "papermill": {
     "duration": 0.028731,
     "end_time": "2024-02-21T22:53:20.059021",
     "exception": false,
     "start_time": "2024-02-21T22:53:20.030290",
     "status": "completed"
    },
    "tags": []
   },
   "outputs": [
    {
     "data": {
      "text/plain": [
       "array(['Obesity_Type_II', 'Overweight_Level_I', 'Obesity_Type_III',\n",
       "       'Obesity_Type_I', 'Insufficient_Weight', 'Normal_Weight',\n",
       "       'Overweight_Level_II'], dtype=object)"
      ]
     },
     "execution_count": 40,
     "metadata": {},
     "output_type": "execute_result"
    }
   ],
   "source": [
    "submission['NObeyesdad'].unique()"
   ]
  },
  {
   "cell_type": "markdown",
   "id": "c8354b15",
   "metadata": {
    "papermill": {
     "duration": 0.016924,
     "end_time": "2024-02-21T22:53:20.093360",
     "exception": false,
     "start_time": "2024-02-21T22:53:20.076436",
     "status": "completed"
    },
    "tags": []
   },
   "source": [
    "# Creating the Submission File"
   ]
  },
  {
   "cell_type": "code",
   "execution_count": 41,
   "id": "b43cbc49",
   "metadata": {
    "execution": {
     "iopub.execute_input": "2024-02-21T22:53:20.129949Z",
     "iopub.status.busy": "2024-02-21T22:53:20.129240Z",
     "iopub.status.idle": "2024-02-21T22:53:20.139803Z",
     "shell.execute_reply": "2024-02-21T22:53:20.138950Z"
    },
    "papermill": {
     "duration": 0.031317,
     "end_time": "2024-02-21T22:53:20.142017",
     "exception": false,
     "start_time": "2024-02-21T22:53:20.110700",
     "status": "completed"
    },
    "tags": []
   },
   "outputs": [
    {
     "data": {
      "text/plain": [
       "NObeyesdad\n",
       "Obesity_Type_III       2631\n",
       "Normal_Weight          2497\n",
       "Obesity_Type_I         2262\n",
       "Obesity_Type_II        2157\n",
       "Overweight_Level_II    1501\n",
       "Overweight_Level_I     1477\n",
       "Insufficient_Weight    1315\n",
       "Name: count, dtype: int64"
      ]
     },
     "execution_count": 41,
     "metadata": {},
     "output_type": "execute_result"
    }
   ],
   "source": [
    "#submission['NObeyesdad'] = test['NObeyesdad'].map({0:'Overweight_Level_II', 1:'Normal_Weight',2:'Insufficient_Weight',3:'Obesity_Type_III',4:'Obesity_Type_II',5:'Overweight_Level_I',6:'Obesity_Type_I'})\n",
    "submission['NObeyesdad'].value_counts()"
   ]
  },
  {
   "cell_type": "code",
   "execution_count": 42,
   "id": "f71506f8",
   "metadata": {
    "execution": {
     "iopub.execute_input": "2024-02-21T22:53:20.179544Z",
     "iopub.status.busy": "2024-02-21T22:53:20.178828Z",
     "iopub.status.idle": "2024-02-21T22:53:20.203263Z",
     "shell.execute_reply": "2024-02-21T22:53:20.202212Z"
    },
    "papermill": {
     "duration": 0.045558,
     "end_time": "2024-02-21T22:53:20.205552",
     "exception": false,
     "start_time": "2024-02-21T22:53:20.159994",
     "status": "completed"
    },
    "tags": []
   },
   "outputs": [],
   "source": [
    "submission.to_csv('submission.csv', index=False)"
   ]
  },
  {
   "cell_type": "code",
   "execution_count": 43,
   "id": "f56f3e55",
   "metadata": {
    "execution": {
     "iopub.execute_input": "2024-02-21T22:53:20.243254Z",
     "iopub.status.busy": "2024-02-21T22:53:20.242293Z",
     "iopub.status.idle": "2024-02-21T22:53:20.251877Z",
     "shell.execute_reply": "2024-02-21T22:53:20.250681Z"
    },
    "papermill": {
     "duration": 0.030801,
     "end_time": "2024-02-21T22:53:20.254023",
     "exception": false,
     "start_time": "2024-02-21T22:53:20.223222",
     "status": "completed"
    },
    "tags": []
   },
   "outputs": [
    {
     "data": {
      "text/plain": [
       "NObeyesdad\n",
       "Obesity_Type_III       2631\n",
       "Normal_Weight          2497\n",
       "Obesity_Type_I         2262\n",
       "Obesity_Type_II        2157\n",
       "Overweight_Level_II    1501\n",
       "Overweight_Level_I     1477\n",
       "Insufficient_Weight    1315\n",
       "Name: count, dtype: int64"
      ]
     },
     "execution_count": 43,
     "metadata": {},
     "output_type": "execute_result"
    }
   ],
   "source": [
    "submission['NObeyesdad'].value_counts()"
   ]
  },
  {
   "cell_type": "code",
   "execution_count": null,
   "id": "1ddf3312",
   "metadata": {
    "papermill": {
     "duration": 0.017515,
     "end_time": "2024-02-21T22:53:20.289697",
     "exception": false,
     "start_time": "2024-02-21T22:53:20.272182",
     "status": "completed"
    },
    "tags": []
   },
   "outputs": [],
   "source": []
  }
 ],
 "metadata": {
  "kaggle": {
   "accelerator": "none",
   "dataSources": [
    {
     "databundleVersionId": 7609535,
     "sourceId": 68479,
     "sourceType": "competition"
    }
   ],
   "dockerImageVersionId": 30646,
   "isGpuEnabled": false,
   "isInternetEnabled": true,
   "language": "python",
   "sourceType": "notebook"
  },
  "kernelspec": {
   "display_name": "Python 3",
   "language": "python",
   "name": "python3"
  },
  "language_info": {
   "codemirror_mode": {
    "name": "ipython",
    "version": 3
   },
   "file_extension": ".py",
   "mimetype": "text/x-python",
   "name": "python",
   "nbconvert_exporter": "python",
   "pygments_lexer": "ipython3",
   "version": "3.10.13"
  },
  "papermill": {
   "default_parameters": {},
   "duration": 271.923363,
   "end_time": "2024-02-21T22:53:21.034969",
   "environment_variables": {},
   "exception": null,
   "input_path": "__notebook__.ipynb",
   "output_path": "__notebook__.ipynb",
   "parameters": {},
   "start_time": "2024-02-21T22:48:49.111606",
   "version": "2.5.0"
  },
  "widgets": {
   "application/vnd.jupyter.widget-state+json": {
    "state": {
     "51ccd0990cd14b8ea345e32e4e3a2518": {
      "model_module": "@jupyter-widgets/base",
      "model_module_version": "1.2.0",
      "model_name": "LayoutModel",
      "state": {
       "_model_module": "@jupyter-widgets/base",
       "_model_module_version": "1.2.0",
       "_model_name": "LayoutModel",
       "_view_count": null,
       "_view_module": "@jupyter-widgets/base",
       "_view_module_version": "1.2.0",
       "_view_name": "LayoutView",
       "align_content": null,
       "align_items": null,
       "align_self": "stretch",
       "border": null,
       "bottom": null,
       "display": null,
       "flex": null,
       "flex_flow": null,
       "grid_area": null,
       "grid_auto_columns": null,
       "grid_auto_flow": null,
       "grid_auto_rows": null,
       "grid_column": null,
       "grid_gap": null,
       "grid_row": null,
       "grid_template_areas": null,
       "grid_template_columns": null,
       "grid_template_rows": null,
       "height": "500px",
       "justify_content": null,
       "justify_items": null,
       "left": null,
       "margin": null,
       "max_height": null,
       "max_width": null,
       "min_height": null,
       "min_width": null,
       "object_fit": null,
       "object_position": null,
       "order": null,
       "overflow": null,
       "overflow_x": null,
       "overflow_y": null,
       "padding": null,
       "right": null,
       "top": null,
       "visibility": null,
       "width": null
      }
     },
     "fc3e0a7f9a9f49a2bff4753eb0c16bf8": {
      "model_module": "catboost-widget",
      "model_module_version": "^1.0.0",
      "model_name": "CatboostWidgetModel",
      "state": {
       "_dom_classes": [],
       "_model_module": "catboost-widget",
       "_model_module_version": "^1.0.0",
       "_model_name": "CatboostWidgetModel",
       "_view_count": null,
       "_view_module": "catboost-widget",
       "_view_module_version": "^1.0.0",
       "_view_name": "CatboostWidgetView",
       "data": {
        "catboost_info": {
         "content": {
          "data": {
           "iterations": [
            {
             "iteration": 0,
             "learn": [
              1.383762655
             ],
             "passed_time": 0.3109105825,
             "remaining_time": 310.5996719,
             "test": [
              1.38744585
             ]
            },
            {
             "iteration": 1,
             "learn": [
              1.144244858
             ],
             "passed_time": 0.5895381223,
             "remaining_time": 294.179523,
             "test": [
              1.146670459
             ]
            },
            {
             "iteration": 2,
             "learn": [
              0.9870933883
             ],
             "passed_time": 0.8620624084,
             "remaining_time": 286.4920737,
             "test": [
              0.9918508019
             ]
            },
            {
             "iteration": 3,
             "learn": [
              0.8675553063
             ],
             "passed_time": 1.120073476,
             "remaining_time": 278.8982956,
             "test": [
              0.8710537561
             ]
            },
            {
             "iteration": 4,
             "learn": [
              0.7728681181
             ],
             "passed_time": 1.383716306,
             "remaining_time": 275.3595449,
             "test": [
              0.7751681207
             ]
            },
            {
             "iteration": 5,
             "learn": [
              0.7087244814
             ],
             "passed_time": 1.630856379,
             "remaining_time": 270.1785401,
             "test": [
              0.7117890502
             ]
            },
            {
             "iteration": 6,
             "learn": [
              0.6503443687
             ],
             "passed_time": 1.859561805,
             "remaining_time": 263.7921246,
             "test": [
              0.6544452108
             ]
            },
            {
             "iteration": 7,
             "learn": [
              0.6035129009
             ],
             "passed_time": 2.108149542,
             "remaining_time": 261.4105432,
             "test": [
              0.6085778449
             ]
            },
            {
             "iteration": 8,
             "learn": [
              0.5653238341
             ],
             "passed_time": 2.333327359,
             "remaining_time": 256.9252681,
             "test": [
              0.5705224876
             ]
            },
            {
             "iteration": 9,
             "learn": [
              0.5344478218
             ],
             "passed_time": 2.56120234,
             "remaining_time": 253.5590316,
             "test": [
              0.5409231098
             ]
            },
            {
             "iteration": 10,
             "learn": [
              0.506625181
             ],
             "passed_time": 2.785027272,
             "remaining_time": 250.3992701,
             "test": [
              0.5146966008
             ]
            },
            {
             "iteration": 11,
             "learn": [
              0.484399652
             ],
             "passed_time": 3.014158713,
             "remaining_time": 248.165734,
             "test": [
              0.4933817568
             ]
            },
            {
             "iteration": 12,
             "learn": [
              0.4637550195
             ],
             "passed_time": 3.268809233,
             "remaining_time": 248.1780548,
             "test": [
              0.4741267091
             ]
            },
            {
             "iteration": 13,
             "learn": [
              0.4498916352
             ],
             "passed_time": 3.532710748,
             "remaining_time": 248.8037712,
             "test": [
              0.4621283548
             ]
            },
            {
             "iteration": 14,
             "learn": [
              0.4349121656
             ],
             "passed_time": 3.775221375,
             "remaining_time": 247.9062036,
             "test": [
              0.4501883633
             ]
            },
            {
             "iteration": 15,
             "learn": [
              0.4227622181
             ],
             "passed_time": 4.006467758,
             "remaining_time": 246.3977671,
             "test": [
              0.4391046361
             ]
            },
            {
             "iteration": 16,
             "learn": [
              0.4109244898
             ],
             "passed_time": 4.265819717,
             "remaining_time": 246.6647519,
             "test": [
              0.4285773245
             ]
            },
            {
             "iteration": 17,
             "learn": [
              0.4021442878
             ],
             "passed_time": 4.513845467,
             "remaining_time": 246.2553471,
             "test": [
              0.4203078844
             ]
            },
            {
             "iteration": 18,
             "learn": [
              0.3961808636
             ],
             "passed_time": 4.779149193,
             "remaining_time": 246.7550189,
             "test": [
              0.4150823336
             ]
            },
            {
             "iteration": 19,
             "learn": [
              0.3889411047
             ],
             "passed_time": 5.007004374,
             "remaining_time": 245.3432143,
             "test": [
              0.4081325902
             ]
            },
            {
             "iteration": 20,
             "learn": [
              0.3834257332
             ],
             "passed_time": 5.264435713,
             "remaining_time": 245.4229792,
             "test": [
              0.4035146939
             ]
            },
            {
             "iteration": 21,
             "learn": [
              0.3763597393
             ],
             "passed_time": 5.538257185,
             "remaining_time": 246.2007058,
             "test": [
              0.3976750353
             ]
            },
            {
             "iteration": 22,
             "learn": [
              0.3712123286
             ],
             "passed_time": 5.79754503,
             "remaining_time": 246.2696302,
             "test": [
              0.393055848
             ]
            },
            {
             "iteration": 23,
             "learn": [
              0.3650983243
             ],
             "passed_time": 6.043347907,
             "remaining_time": 245.7628149,
             "test": [
              0.3881420824
             ]
            },
            {
             "iteration": 24,
             "learn": [
              0.3600975524
             ],
             "passed_time": 6.309612018,
             "remaining_time": 246.0748687,
             "test": [
              0.3850672964
             ]
            },
            {
             "iteration": 25,
             "learn": [
              0.3545274389
             ],
             "passed_time": 6.539189013,
             "remaining_time": 244.9680807,
             "test": [
              0.3819658062
             ]
            },
            {
             "iteration": 26,
             "learn": [
              0.3524299734
             ],
             "passed_time": 6.814336055,
             "remaining_time": 245.5684808,
             "test": [
              0.3802452663
             ]
            },
            {
             "iteration": 27,
             "learn": [
              0.3498729728
             ],
             "passed_time": 7.085492525,
             "remaining_time": 245.9678119,
             "test": [
              0.379160161
             ]
            },
            {
             "iteration": 28,
             "learn": [
              0.3447303884
             ],
             "passed_time": 7.360049499,
             "remaining_time": 246.4347608,
             "test": [
              0.3751509057
             ]
            },
            {
             "iteration": 29,
             "learn": [
              0.3417603632
             ],
             "passed_time": 7.621840251,
             "remaining_time": 246.4395014,
             "test": [
              0.3733503202
             ]
            },
            {
             "iteration": 30,
             "learn": [
              0.3383550384
             ],
             "passed_time": 7.870158976,
             "remaining_time": 246.005937,
             "test": [
              0.3717358768
             ]
            },
            {
             "iteration": 31,
             "learn": [
              0.3355118554
             ],
             "passed_time": 8.125337886,
             "remaining_time": 245.7914711,
             "test": [
              0.3695183964
             ]
            },
            {
             "iteration": 32,
             "learn": [
              0.3327667709
             ],
             "passed_time": 8.395896159,
             "remaining_time": 246.0251996,
             "test": [
              0.3678734125
             ]
            },
            {
             "iteration": 33,
             "learn": [
              0.3287766296
             ],
             "passed_time": 8.665135907,
             "remaining_time": 246.1918025,
             "test": [
              0.3660788106
             ]
            },
            {
             "iteration": 34,
             "learn": [
              0.3267746737
             ],
             "passed_time": 8.924092133,
             "remaining_time": 246.0499688,
             "test": [
              0.3651383112
             ]
            },
            {
             "iteration": 35,
             "learn": [
              0.3236610693
             ],
             "passed_time": 9.196530139,
             "remaining_time": 246.2626404,
             "test": [
              0.3625995248
             ]
            },
            {
             "iteration": 36,
             "learn": [
              0.3205784461
             ],
             "passed_time": 9.470551122,
             "remaining_time": 246.49029,
             "test": [
              0.3615822938
             ]
            },
            {
             "iteration": 37,
             "learn": [
              0.3189387032
             ],
             "passed_time": 9.733278246,
             "remaining_time": 246.405623,
             "test": [
              0.3606341891
             ]
            },
            {
             "iteration": 38,
             "learn": [
              0.3159158377
             ],
             "passed_time": 9.995110961,
             "remaining_time": 246.2897855,
             "test": [
              0.3589421699
             ]
            },
            {
             "iteration": 39,
             "learn": [
              0.3125749233
             ],
             "passed_time": 10.25715852,
             "remaining_time": 246.1718045,
             "test": [
              0.3572537432
             ]
            },
            {
             "iteration": 40,
             "learn": [
              0.3090955568
             ],
             "passed_time": 10.55375161,
             "remaining_time": 246.8548243,
             "test": [
              0.3554410322
             ]
            },
            {
             "iteration": 41,
             "learn": [
              0.3067844758
             ],
             "passed_time": 10.81304254,
             "remaining_time": 246.6403513,
             "test": [
              0.3544654958
             ]
            },
            {
             "iteration": 42,
             "learn": [
              0.3046562264
             ],
             "passed_time": 11.08848725,
             "remaining_time": 246.7833092,
             "test": [
              0.3539043115
             ]
            },
            {
             "iteration": 43,
             "learn": [
              0.3030139601
             ],
             "passed_time": 11.34626456,
             "remaining_time": 246.5233846,
             "test": [
              0.3527332537
             ]
            },
            {
             "iteration": 44,
             "learn": [
              0.3028704459
             ],
             "passed_time": 11.4269336,
             "remaining_time": 242.5049242,
             "test": [
              0.3526500411
             ]
            },
            {
             "iteration": 45,
             "learn": [
              0.3005687095
             ],
             "passed_time": 11.68669416,
             "remaining_time": 242.3718746,
             "test": [
              0.3517098948
             ]
            },
            {
             "iteration": 46,
             "learn": [
              0.2983299963
             ],
             "passed_time": 11.95218548,
             "remaining_time": 242.3496332,
             "test": [
              0.350104439
             ]
            },
            {
             "iteration": 47,
             "learn": [
              0.296564917
             ],
             "passed_time": 12.22460863,
             "remaining_time": 242.4547378,
             "test": [
              0.3492137813
             ]
            },
            {
             "iteration": 48,
             "learn": [
              0.2955751603
             ],
             "passed_time": 12.47992596,
             "remaining_time": 242.2124405,
             "test": [
              0.3490811028
             ]
            },
            {
             "iteration": 49,
             "learn": [
              0.2925453913
             ],
             "passed_time": 12.71599288,
             "remaining_time": 241.6038647,
             "test": [
              0.3481809615
             ]
            },
            {
             "iteration": 50,
             "learn": [
              0.2911509878
             ],
             "passed_time": 12.98383757,
             "remaining_time": 241.6012128,
             "test": [
              0.3469390207
             ]
            },
            {
             "iteration": 51,
             "learn": [
              0.2896169641
             ],
             "passed_time": 13.24814759,
             "remaining_time": 241.5239215,
             "test": [
              0.3460531523
             ]
            },
            {
             "iteration": 52,
             "learn": [
              0.2876441497
             ],
             "passed_time": 13.50974624,
             "remaining_time": 241.3911263,
             "test": [
              0.3449534564
             ]
            },
            {
             "iteration": 53,
             "learn": [
              0.2854057861
             ],
             "passed_time": 13.76210295,
             "remaining_time": 241.0916554,
             "test": [
              0.3443167205
             ]
            },
            {
             "iteration": 54,
             "learn": [
              0.2840532317
             ],
             "passed_time": 14.00935803,
             "remaining_time": 240.7062425,
             "test": [
              0.3435248553
             ]
            },
            {
             "iteration": 55,
             "learn": [
              0.2824374901
             ],
             "passed_time": 14.27881855,
             "remaining_time": 240.7000841,
             "test": [
              0.3419235484
             ]
            },
            {
             "iteration": 56,
             "learn": [
              0.2806827182
             ],
             "passed_time": 14.5485579,
             "remaining_time": 240.6893,
             "test": [
              0.3410530393
             ]
            },
            {
             "iteration": 57,
             "learn": [
              0.279366479
             ],
             "passed_time": 14.84587597,
             "remaining_time": 241.1175027,
             "test": [
              0.3404821863
             ]
            },
            {
             "iteration": 58,
             "learn": [
              0.2778511803
             ],
             "passed_time": 15.08115983,
             "remaining_time": 240.5317186,
             "test": [
              0.3395960321
             ]
            },
            {
             "iteration": 59,
             "learn": [
              0.2761571454
             ],
             "passed_time": 15.35047229,
             "remaining_time": 240.4907325,
             "test": [
              0.3393924658
             ]
            },
            {
             "iteration": 60,
             "learn": [
              0.274814046
             ],
             "passed_time": 15.62344562,
             "remaining_time": 240.4986138,
             "test": [
              0.3387153318
             ]
            },
            {
             "iteration": 61,
             "learn": [
              0.2730435109
             ],
             "passed_time": 15.85026047,
             "remaining_time": 239.799102,
             "test": [
              0.3385336919
             ]
            },
            {
             "iteration": 62,
             "learn": [
              0.2720696424
             ],
             "passed_time": 16.11489367,
             "remaining_time": 239.6770693,
             "test": [
              0.3375693196
             ]
            },
            {
             "iteration": 63,
             "learn": [
              0.270873234
             ],
             "passed_time": 16.37056966,
             "remaining_time": 239.4195813,
             "test": [
              0.3364395088
             ]
            },
            {
             "iteration": 64,
             "learn": [
              0.2693641813
             ],
             "passed_time": 16.6328133,
             "remaining_time": 239.2566221,
             "test": [
              0.3355789502
             ]
            },
            {
             "iteration": 65,
             "learn": [
              0.2672879096
             ],
             "passed_time": 16.86248377,
             "remaining_time": 238.6296946,
             "test": [
              0.3355053351
             ]
            },
            {
             "iteration": 66,
             "learn": [
              0.2651322554
             ],
             "passed_time": 17.09349772,
             "remaining_time": 238.0333339,
             "test": [
              0.3346614326
             ]
            },
            {
             "iteration": 67,
             "learn": [
              0.2628537545
             ],
             "passed_time": 17.32410845,
             "remaining_time": 237.4421923,
             "test": [
              0.3334729478
             ]
            },
            {
             "iteration": 68,
             "learn": [
              0.2613080926
             ],
             "passed_time": 17.57315037,
             "remaining_time": 237.1101883,
             "test": [
              0.332878597
             ]
            },
            {
             "iteration": 69,
             "learn": [
              0.2593515895
             ],
             "passed_time": 17.79659435,
             "remaining_time": 236.4404677,
             "test": [
              0.3319046878
             ]
            },
            {
             "iteration": 70,
             "learn": [
              0.2586061994
             ],
             "passed_time": 18.04721173,
             "remaining_time": 236.138869,
             "test": [
              0.3316929799
             ]
            },
            {
             "iteration": 71,
             "learn": [
              0.2569120407
             ],
             "passed_time": 18.30674643,
             "remaining_time": 235.9536207,
             "test": [
              0.3309749094
             ]
            },
            {
             "iteration": 72,
             "learn": [
              0.2547681055
             ],
             "passed_time": 18.53511287,
             "remaining_time": 235.3705428,
             "test": [
              0.3298482673
             ]
            },
            {
             "iteration": 73,
             "learn": [
              0.2537555241
             ],
             "passed_time": 18.77617939,
             "remaining_time": 234.9559745,
             "test": [
              0.3292204595
             ]
            },
            {
             "iteration": 74,
             "learn": [
              0.2525097451
             ],
             "passed_time": 19.00098379,
             "remaining_time": 234.3454668,
             "test": [
              0.3284964525
             ]
            },
            {
             "iteration": 75,
             "learn": [
              0.2509280809
             ],
             "passed_time": 19.22706019,
             "remaining_time": 233.7605738,
             "test": [
              0.3281267625
             ]
            },
            {
             "iteration": 76,
             "learn": [
              0.2492889098
             ],
             "passed_time": 19.4848708,
             "remaining_time": 233.5653993,
             "test": [
              0.3278509512
             ]
            },
            {
             "iteration": 77,
             "learn": [
              0.2475897145
             ],
             "passed_time": 19.72755733,
             "remaining_time": 233.1898443,
             "test": [
              0.328047255
             ]
            },
            {
             "iteration": 78,
             "learn": [
              0.2459049511
             ],
             "passed_time": 19.95567405,
             "remaining_time": 232.647795,
             "test": [
              0.3275443546
             ]
            },
            {
             "iteration": 79,
             "learn": [
              0.2444145527
             ],
             "passed_time": 20.19213721,
             "remaining_time": 232.2095779,
             "test": [
              0.3269928166
             ]
            },
            {
             "iteration": 80,
             "learn": [
              0.2420075171
             ],
             "passed_time": 20.60956387,
             "remaining_time": 233.8294963,
             "test": [
              0.326201787
             ]
            },
            {
             "iteration": 81,
             "learn": [
              0.2409298479
             ],
             "passed_time": 20.95391371,
             "remaining_time": 234.5816193,
             "test": [
              0.3256249084
             ]
            },
            {
             "iteration": 82,
             "learn": [
              0.2390265768
             ],
             "passed_time": 21.24844887,
             "remaining_time": 234.7569592,
             "test": [
              0.3248429861
             ]
            },
            {
             "iteration": 83,
             "learn": [
              0.2379598245
             ],
             "passed_time": 21.56839433,
             "remaining_time": 235.1982049,
             "test": [
              0.3242058545
             ]
            },
            {
             "iteration": 84,
             "learn": [
              0.2370838361
             ],
             "passed_time": 21.89800357,
             "remaining_time": 235.7255679,
             "test": [
              0.3241781873
             ]
            },
            {
             "iteration": 85,
             "learn": [
              0.2358073751
             ],
             "passed_time": 22.17078352,
             "remaining_time": 235.6290248,
             "test": [
              0.3244598861
             ]
            },
            {
             "iteration": 86,
             "learn": [
              0.2342597666
             ],
             "passed_time": 22.44179436,
             "remaining_time": 235.509865,
             "test": [
              0.3236909062
             ]
            },
            {
             "iteration": 87,
             "learn": [
              0.2329184299
             ],
             "passed_time": 22.66962013,
             "remaining_time": 234.9396995,
             "test": [
              0.3234209619
             ]
            },
            {
             "iteration": 88,
             "learn": [
              0.231180666
             ],
             "passed_time": 22.89752596,
             "remaining_time": 234.3780466,
             "test": [
              0.3232176661
             ]
            },
            {
             "iteration": 89,
             "learn": [
              0.230071463
             ],
             "passed_time": 23.12181083,
             "remaining_time": 233.7871984,
             "test": [
              0.3231236278
             ]
            },
            {
             "iteration": 90,
             "learn": [
              0.2290715818
             ],
             "passed_time": 23.3996645,
             "remaining_time": 233.7395059,
             "test": [
              0.3229413522
             ]
            },
            {
             "iteration": 91,
             "learn": [
              0.2280062154
             ],
             "passed_time": 23.62176949,
             "remaining_time": 233.1365946,
             "test": [
              0.3225259276
             ]
            },
            {
             "iteration": 92,
             "learn": [
              0.2268987349
             ],
             "passed_time": 23.88859521,
             "remaining_time": 232.97802,
             "test": [
              0.3220632183
             ]
            },
            {
             "iteration": 93,
             "learn": [
              0.2261673996
             ],
             "passed_time": 24.12983462,
             "remaining_time": 232.5705336,
             "test": [
              0.3215267596
             ]
            },
            {
             "iteration": 94,
             "learn": [
              0.2251080772
             ],
             "passed_time": 24.36217236,
             "remaining_time": 232.0817472,
             "test": [
              0.3216019274
             ]
            },
            {
             "iteration": 95,
             "learn": [
              0.2240288471
             ],
             "passed_time": 24.58720628,
             "remaining_time": 231.5295258,
             "test": [
              0.3212395762
             ]
            },
            {
             "iteration": 96,
             "learn": [
              0.2233377848
             ],
             "passed_time": 24.84858403,
             "remaining_time": 231.3223854,
             "test": [
              0.3211068217
             ]
            },
            {
             "iteration": 97,
             "learn": [
              0.2225234278
             ],
             "passed_time": 25.11053372,
             "remaining_time": 231.1194022,
             "test": [
              0.3205040886
             ]
            },
            {
             "iteration": 98,
             "learn": [
              0.2216683477
             ],
             "passed_time": 25.33961804,
             "remaining_time": 230.6161197,
             "test": [
              0.320209309
             ]
            },
            {
             "iteration": 99,
             "learn": [
              0.220733164
             ],
             "passed_time": 25.62023555,
             "remaining_time": 230.5821199,
             "test": [
              0.3198600925
             ]
            },
            {
             "iteration": 100,
             "learn": [
              0.2200594493
             ],
             "passed_time": 25.88849584,
             "remaining_time": 230.4332452,
             "test": [
              0.3195272061
             ]
            },
            {
             "iteration": 101,
             "learn": [
              0.2191090434
             ],
             "passed_time": 26.11418301,
             "remaining_time": 229.907219,
             "test": [
              0.3191923016
             ]
            },
            {
             "iteration": 102,
             "learn": [
              0.2186241249
             ],
             "passed_time": 26.37183345,
             "remaining_time": 229.6653845,
             "test": [
              0.3189642716
             ]
            },
            {
             "iteration": 103,
             "learn": [
              0.2180577429
             ],
             "passed_time": 26.62408858,
             "remaining_time": 229.3767631,
             "test": [
              0.3187077037
             ]
            },
            {
             "iteration": 104,
             "learn": [
              0.2173938384
             ],
             "passed_time": 26.88443934,
             "remaining_time": 229.15784,
             "test": [
              0.3183825958
             ]
            },
            {
             "iteration": 105,
             "learn": [
              0.2161004433
             ],
             "passed_time": 27.10948217,
             "remaining_time": 228.6403497,
             "test": [
              0.3182685946
             ]
            },
            {
             "iteration": 106,
             "learn": [
              0.2151099082
             ],
             "passed_time": 27.38057735,
             "remaining_time": 228.5126689,
             "test": [
              0.3179159239
             ]
            },
            {
             "iteration": 107,
             "learn": [
              0.2142643319
             ],
             "passed_time": 27.6496744,
             "remaining_time": 228.3658293,
             "test": [
              0.3170836024
             ]
            },
            {
             "iteration": 108,
             "learn": [
              0.2135138437
             ],
             "passed_time": 27.91591471,
             "remaining_time": 228.1933946,
             "test": [
              0.3169557784
             ]
            },
            {
             "iteration": 109,
             "learn": [
              0.2129869208
             ],
             "passed_time": 28.17565761,
             "remaining_time": 227.9666843,
             "test": [
              0.3168503572
             ]
            },
            {
             "iteration": 110,
             "learn": [
              0.212370509
             ],
             "passed_time": 28.42737304,
             "remaining_time": 227.6750868,
             "test": [
              0.3166122018
             ]
            },
            {
             "iteration": 111,
             "learn": [
              0.212014108
             ],
             "passed_time": 28.68492654,
             "remaining_time": 227.430489,
             "test": [
              0.3165936721
             ]
            },
            {
             "iteration": 112,
             "learn": [
              0.2113004342
             ],
             "passed_time": 28.95459697,
             "remaining_time": 227.2807744,
             "test": [
              0.3166196477
             ]
            },
            {
             "iteration": 113,
             "learn": [
              0.2109017892
             ],
             "passed_time": 29.21562171,
             "remaining_time": 227.0617617,
             "test": [
              0.3164064829
             ]
            },
            {
             "iteration": 114,
             "learn": [
              0.2105827749
             ],
             "passed_time": 29.46247124,
             "remaining_time": 226.7329308,
             "test": [
              0.3162198058
             ]
            },
            {
             "iteration": 115,
             "learn": [
              0.2094763389
             ],
             "passed_time": 29.68989787,
             "remaining_time": 226.2574976,
             "test": [
              0.3162727216
             ]
            },
            {
             "iteration": 116,
             "learn": [
              0.2084093801
             ],
             "passed_time": 29.96309967,
             "remaining_time": 226.1317693,
             "test": [
              0.3157552071
             ]
            },
            {
             "iteration": 117,
             "learn": [
              0.2074991136
             ],
             "passed_time": 30.2362557,
             "remaining_time": 226.0031994,
             "test": [
              0.3157695822
             ]
            },
            {
             "iteration": 118,
             "learn": [
              0.2069106142
             ],
             "passed_time": 30.54412209,
             "remaining_time": 226.1291728,
             "test": [
              0.3155973594
             ]
            },
            {
             "iteration": 119,
             "learn": [
              0.2062208906
             ],
             "passed_time": 30.80238369,
             "remaining_time": 225.884147,
             "test": [
              0.3150925697
             ]
            },
            {
             "iteration": 120,
             "learn": [
              0.2057258577
             ],
             "passed_time": 31.07200976,
             "remaining_time": 225.7214593,
             "test": [
              0.3149254775
             ]
            },
            {
             "iteration": 121,
             "learn": [
              0.2052088727
             ],
             "passed_time": 31.34162107,
             "remaining_time": 225.5569123,
             "test": [
              0.31466285
             ]
            },
            {
             "iteration": 122,
             "learn": [
              0.204065129
             ],
             "passed_time": 31.60253445,
             "remaining_time": 225.3286399,
             "test": [
              0.3147196992
             ]
            },
            {
             "iteration": 123,
             "learn": [
              0.2036166767
             ],
             "passed_time": 31.84816621,
             "remaining_time": 224.9918839,
             "test": [
              0.3145137817
             ]
            },
            {
             "iteration": 124,
             "learn": [
              0.2030974026
             ],
             "passed_time": 32.11538401,
             "remaining_time": 224.8076881,
             "test": [
              0.314513748
             ]
            },
            {
             "iteration": 125,
             "learn": [
              0.2025012057
             ],
             "passed_time": 32.39362056,
             "remaining_time": 224.6986061,
             "test": [
              0.3144041379
             ]
            },
            {
             "iteration": 126,
             "learn": [
              0.2015393731
             ],
             "passed_time": 32.64374837,
             "remaining_time": 224.3936404,
             "test": [
              0.3147933158
             ]
            },
            {
             "iteration": 127,
             "learn": [
              0.2007098544
             ],
             "passed_time": 32.87822718,
             "remaining_time": 223.9829227,
             "test": [
              0.3145683304
             ]
            },
            {
             "iteration": 128,
             "learn": [
              0.2003561237
             ],
             "passed_time": 33.15792583,
             "remaining_time": 223.8802589,
             "test": [
              0.3146056521
             ]
            },
            {
             "iteration": 129,
             "learn": [
              0.1997321597
             ],
             "passed_time": 33.41751415,
             "remaining_time": 223.640287,
             "test": [
              0.3145423928
             ]
            },
            {
             "iteration": 130,
             "learn": [
              0.1989430492
             ],
             "passed_time": 33.67951277,
             "remaining_time": 223.4160046,
             "test": [
              0.3145255588
             ]
            },
            {
             "iteration": 131,
             "learn": [
              0.1984750034
             ],
             "passed_time": 33.97254256,
             "remaining_time": 223.3952041,
             "test": [
              0.3145050156
             ]
            },
            {
             "iteration": 132,
             "learn": [
              0.1980613538
             ],
             "passed_time": 34.23003126,
             "remaining_time": 223.1386248,
             "test": [
              0.3144411533
             ]
            },
            {
             "iteration": 133,
             "learn": [
              0.1972977176
             ],
             "passed_time": 34.45863959,
             "remaining_time": 222.6953872,
             "test": [
              0.3143180127
             ]
            },
            {
             "iteration": 134,
             "learn": [
              0.1962767798
             ],
             "passed_time": 34.68103774,
             "remaining_time": 222.2155381,
             "test": [
              0.3143685726
             ]
            },
            {
             "iteration": 135,
             "learn": [
              0.1960342653
             ],
             "passed_time": 34.94992723,
             "remaining_time": 222.0348318,
             "test": [
              0.3143037164
             ]
            },
            {
             "iteration": 136,
             "learn": [
              0.1951764784
             ],
             "passed_time": 35.21752678,
             "remaining_time": 221.8447125,
             "test": [
              0.314262707
             ]
            },
            {
             "iteration": 137,
             "learn": [
              0.1946160783
             ],
             "passed_time": 35.50635142,
             "remaining_time": 221.7860501,
             "test": [
              0.3146302808
             ]
            },
            {
             "iteration": 138,
             "learn": [
              0.1939836714
             ],
             "passed_time": 35.81610185,
             "remaining_time": 221.8536956,
             "test": [
              0.3144734361
             ]
            },
            {
             "iteration": 139,
             "learn": [
              0.1933200343
             ],
             "passed_time": 36.08147601,
             "remaining_time": 221.6433526,
             "test": [
              0.3143892459
             ]
            },
            {
             "iteration": 140,
             "learn": [
              0.1922673738
             ],
             "passed_time": 36.32768237,
             "remaining_time": 221.315455,
             "test": [
              0.3144065444
             ]
            },
            {
             "iteration": 141,
             "learn": [
              0.1916545398
             ],
             "passed_time": 36.59014965,
             "remaining_time": 221.0869605,
             "test": [
              0.3144206647
             ]
            },
            {
             "iteration": 142,
             "learn": [
              0.1907478244
             ],
             "passed_time": 36.81940123,
             "remaining_time": 220.6589291,
             "test": [
              0.3143030668
             ]
            },
            {
             "iteration": 143,
             "learn": [
              0.1899167578
             ],
             "passed_time": 37.08677858,
             "remaining_time": 220.4602949,
             "test": [
              0.3141791212
             ]
            },
            {
             "iteration": 144,
             "learn": [
              0.1892266113
             ],
             "passed_time": 37.34423348,
             "remaining_time": 220.2022043,
             "test": [
              0.3142193625
             ]
            },
            {
             "iteration": 145,
             "learn": [
              0.1885256714
             ],
             "passed_time": 37.61144512,
             "remaining_time": 220.0011927,
             "test": [
              0.3144417142
             ]
            },
            {
             "iteration": 146,
             "learn": [
              0.1876913877
             ],
             "passed_time": 37.83485223,
             "remaining_time": 219.5450949,
             "test": [
              0.3142495161
             ]
            },
            {
             "iteration": 147,
             "learn": [
              0.1872109372
             ],
             "passed_time": 38.09682525,
             "remaining_time": 219.3141561,
             "test": [
              0.3138701399
             ]
            },
            {
             "iteration": 148,
             "learn": [
              0.1867032477
             ],
             "passed_time": 38.33024957,
             "remaining_time": 218.9197475,
             "test": [
              0.31363794
             ]
            },
            {
             "iteration": 149,
             "learn": [
              0.1859555194
             ],
             "passed_time": 38.57027019,
             "remaining_time": 218.5648644,
             "test": [
              0.3136083349
             ]
            },
            {
             "iteration": 150,
             "learn": [
              0.1850747863
             ],
             "passed_time": 38.81262632,
             "remaining_time": 218.2246341,
             "test": [
              0.3137174272
             ]
            },
            {
             "iteration": 151,
             "learn": [
              0.184636163
             ],
             "passed_time": 39.08350304,
             "remaining_time": 218.0448065,
             "test": [
              0.3135110492
             ]
            },
            {
             "iteration": 152,
             "learn": [
              0.1841772935
             ],
             "passed_time": 39.3611897,
             "remaining_time": 217.9014881,
             "test": [
              0.3133075189
             ]
            },
            {
             "iteration": 153,
             "learn": [
              0.1837144843
             ],
             "passed_time": 39.63037678,
             "remaining_time": 217.7097322,
             "test": [
              0.3132653825
             ]
            },
            {
             "iteration": 154,
             "learn": [
              0.1826313155
             ],
             "passed_time": 39.85359321,
             "remaining_time": 217.266363,
             "test": [
              0.3134213383
             ]
            },
            {
             "iteration": 155,
             "learn": [
              0.1821394617
             ],
             "passed_time": 40.11753357,
             "remaining_time": 217.0461432,
             "test": [
              0.3134394192
             ]
            },
            {
             "iteration": 156,
             "learn": [
              0.1815731213
             ],
             "passed_time": 40.40029746,
             "remaining_time": 216.926438,
             "test": [
              0.3137564316
             ]
            },
            {
             "iteration": 157,
             "learn": [
              0.1809235536
             ],
             "passed_time": 40.66371507,
             "remaining_time": 216.7015702,
             "test": [
              0.3137228455
             ]
            },
            {
             "iteration": 158,
             "learn": [
              0.180194777
             ],
             "passed_time": 40.92762986,
             "remaining_time": 216.4788472,
             "test": [
              0.3136197719
             ]
            },
            {
             "iteration": 159,
             "learn": [
              0.1796148035
             ],
             "passed_time": 41.15592899,
             "remaining_time": 216.0686272,
             "test": [
              0.3133978298
             ]
            },
            {
             "iteration": 160,
             "learn": [
              0.1789760637
             ],
             "passed_time": 41.41567916,
             "remaining_time": 215.8245641,
             "test": [
              0.3136426195
             ]
            },
            {
             "iteration": 161,
             "learn": [
              0.1780299042
             ],
             "passed_time": 41.6670606,
             "remaining_time": 215.5370172,
             "test": [
              0.3133922225
             ]
            },
            {
             "iteration": 162,
             "learn": [
              0.1771878511
             ],
             "passed_time": 41.91602803,
             "remaining_time": 215.2375182,
             "test": [
              0.3133095829
             ]
            },
            {
             "iteration": 163,
             "learn": [
              0.1769352607
             ],
             "passed_time": 42.18996511,
             "remaining_time": 215.0659197,
             "test": [
              0.3132268598
             ]
            },
            {
             "iteration": 164,
             "learn": [
              0.175916484
             ],
             "passed_time": 42.45161406,
             "remaining_time": 214.8308954,
             "test": [
              0.3128193638
             ]
            },
            {
             "iteration": 165,
             "learn": [
              0.1745907484
             ],
             "passed_time": 42.7322427,
             "remaining_time": 214.6909061,
             "test": [
              0.312956431
             ]
            },
            {
             "iteration": 166,
             "learn": [
              0.1737754936
             ],
             "passed_time": 42.97490345,
             "remaining_time": 214.3598478,
             "test": [
              0.3127711751
             ]
            },
            {
             "iteration": 167,
             "learn": [
              0.1735374795
             ],
             "passed_time": 43.24022188,
             "remaining_time": 214.1420512,
             "test": [
              0.3125970649
             ]
            },
            {
             "iteration": 168,
             "learn": [
              0.1730937879
             ],
             "passed_time": 43.53696431,
             "remaining_time": 214.0782091,
             "test": [
              0.3127564405
             ]
            },
            {
             "iteration": 169,
             "learn": [
              0.1722108708
             ],
             "passed_time": 43.80009854,
             "remaining_time": 213.8475399,
             "test": [
              0.3124811618
             ]
            },
            {
             "iteration": 170,
             "learn": [
              0.1712907154
             ],
             "passed_time": 44.04671634,
             "remaining_time": 213.5364202,
             "test": [
              0.3122658694
             ]
            },
            {
             "iteration": 171,
             "learn": [
              0.1706044915
             ],
             "passed_time": 44.31913376,
             "remaining_time": 213.3502486,
             "test": [
              0.3120690127
             ]
            },
            {
             "iteration": 172,
             "learn": [
              0.1700529496
             ],
             "passed_time": 44.55482473,
             "remaining_time": 212.9875147,
             "test": [
              0.312078115
             ]
            },
            {
             "iteration": 173,
             "learn": [
              0.1697371976
             ],
             "passed_time": 44.82533796,
             "remaining_time": 212.7915469,
             "test": [
              0.3121258609
             ]
            },
            {
             "iteration": 174,
             "learn": [
              0.1692891209
             ],
             "passed_time": 45.05258451,
             "remaining_time": 212.3907555,
             "test": [
              0.3122504525
             ]
            },
            {
             "iteration": 175,
             "learn": [
              0.168633705
             ],
             "passed_time": 45.31560733,
             "remaining_time": 212.1594343,
             "test": [
              0.3125678709
             ]
            },
            {
             "iteration": 176,
             "learn": [
              0.1682029972
             ],
             "passed_time": 45.57627481,
             "remaining_time": 211.9168032,
             "test": [
              0.3125217589
             ]
            },
            {
             "iteration": 177,
             "learn": [
              0.1675147198
             ],
             "passed_time": 45.80089961,
             "remaining_time": 211.5075251,
             "test": [
              0.3123622841
             ]
            },
            {
             "iteration": 178,
             "learn": [
              0.1667649797
             ],
             "passed_time": 46.03021085,
             "remaining_time": 211.1218051,
             "test": [
              0.3120513766
             ]
            },
            {
             "iteration": 179,
             "learn": [
              0.1660914418
             ],
             "passed_time": 46.26903822,
             "remaining_time": 210.7811741,
             "test": [
              0.3122461411
             ]
            },
            {
             "iteration": 180,
             "learn": [
              0.1658973769
             ],
             "passed_time": 46.52652872,
             "remaining_time": 210.5261161,
             "test": [
              0.3120380416
             ]
            },
            {
             "iteration": 181,
             "learn": [
              0.1652683258
             ],
             "passed_time": 46.78793333,
             "remaining_time": 210.2886234,
             "test": [
              0.311857511
             ]
            },
            {
             "iteration": 182,
             "learn": [
              0.164860993
             ],
             "passed_time": 47.04680518,
             "remaining_time": 210.0395619,
             "test": [
              0.312150789
             ]
            },
            {
             "iteration": 183,
             "learn": [
              0.1644534856
             ],
             "passed_time": 47.3160452,
             "remaining_time": 209.8363744,
             "test": [
              0.3121151369
             ]
            },
            {
             "iteration": 184,
             "learn": [
              0.1638094505
             ],
             "passed_time": 47.5663348,
             "remaining_time": 209.5489884,
             "test": [
              0.3117904324
             ]
            },
            {
             "iteration": 185,
             "learn": [
              0.1634077899
             ],
             "passed_time": 47.81420162,
             "remaining_time": 209.2513985,
             "test": [
              0.3116852991
             ]
            },
            {
             "iteration": 186,
             "learn": [
              0.162814129
             ],
             "passed_time": 48.07326009,
             "remaining_time": 209.0029971,
             "test": [
              0.3114146611
             ]
            },
            {
             "iteration": 187,
             "learn": [
              0.1623385649
             ],
             "passed_time": 48.3379782,
             "remaining_time": 208.7789271,
             "test": [
              0.3115654148
             ]
            },
            {
             "iteration": 188,
             "learn": [
              0.1619683516
             ],
             "passed_time": 48.56974831,
             "remaining_time": 208.413047,
             "test": [
              0.3118127646
             ]
            },
            {
             "iteration": 189,
             "learn": [
              0.1611862108
             ],
             "passed_time": 48.83332317,
             "remaining_time": 208.1841672,
             "test": [
              0.3119909857
             ]
            },
            {
             "iteration": 190,
             "learn": [
              0.1605247482
             ],
             "passed_time": 49.08308377,
             "remaining_time": 207.8964124,
             "test": [
              0.3118048363
             ]
            },
            {
             "iteration": 191,
             "learn": [
              0.1602414408
             ],
             "passed_time": 49.33223781,
             "remaining_time": 207.6065008,
             "test": [
              0.3117973877
             ]
            },
            {
             "iteration": 192,
             "learn": [
              0.159868493
             ],
             "passed_time": 49.56234592,
             "remaining_time": 207.2373739,
             "test": [
              0.3115414277
             ]
            },
            {
             "iteration": 193,
             "learn": [
              0.1596380119
             ],
             "passed_time": 49.8296656,
             "remaining_time": 207.0242808,
             "test": [
              0.3114933161
             ]
            },
            {
             "iteration": 194,
             "learn": [
              0.1590863699
             ],
             "passed_time": 50.05731775,
             "remaining_time": 206.6468758,
             "test": [
              0.3114853711
             ]
            },
            {
             "iteration": 195,
             "learn": [
              0.15855722
             ],
             "passed_time": 50.33960805,
             "remaining_time": 206.4951269,
             "test": [
              0.3114055424
             ]
            },
            {
             "iteration": 196,
             "learn": [
              0.1580155327
             ],
             "passed_time": 50.60900587,
             "remaining_time": 206.2895011,
             "test": [
              0.3114047126
             ]
            },
            {
             "iteration": 197,
             "learn": [
              0.1574644112
             ],
             "passed_time": 50.87880695,
             "remaining_time": 206.0848645,
             "test": [
              0.3116121466
             ]
            },
            {
             "iteration": 198,
             "learn": [
              0.1570110054
             ],
             "passed_time": 51.1429673,
             "remaining_time": 205.8568684,
             "test": [
              0.3116904403
             ]
            },
            {
             "iteration": 199,
             "learn": [
              0.1565023286
             ],
             "passed_time": 51.4145089,
             "remaining_time": 205.6580356,
             "test": [
              0.3119224813
             ]
            },
            {
             "iteration": 200,
             "learn": [
              0.1559838148
             ],
             "passed_time": 51.67594927,
             "remaining_time": 205.4183257,
             "test": [
              0.3119410643
             ]
            },
            {
             "iteration": 201,
             "learn": [
              0.1554585104
             ],
             "passed_time": 51.93403221,
             "remaining_time": 205.1651372,
             "test": [
              0.3119552175
             ]
            },
            {
             "iteration": 202,
             "learn": [
              0.1549829525
             ],
             "passed_time": 52.20009273,
             "remaining_time": 204.9432212,
             "test": [
              0.3118394009
             ]
            },
            {
             "iteration": 203,
             "learn": [
              0.1544740539
             ],
             "passed_time": 52.46184176,
             "remaining_time": 204.7040492,
             "test": [
              0.3119766754
             ]
            },
            {
             "iteration": 204,
             "learn": [
              0.1541182275
             ],
             "passed_time": 52.82726336,
             "remaining_time": 204.8667042,
             "test": [
              0.3118478642
             ]
            },
            {
             "iteration": 205,
             "learn": [
              0.1539034358
             ],
             "passed_time": 53.13277173,
             "remaining_time": 204.7933046,
             "test": [
              0.3118345157
             ]
            },
            {
             "iteration": 206,
             "learn": [
              0.1535605641
             ],
             "passed_time": 53.47271892,
             "remaining_time": 204.8495947,
             "test": [
              0.3118618225
             ]
            },
            {
             "iteration": 207,
             "learn": [
              0.1530194952
             ],
             "passed_time": 53.76976311,
             "remaining_time": 204.7387134,
             "test": [
              0.3117852905
             ]
            },
            {
             "iteration": 208,
             "learn": [
              0.1522885569
             ],
             "passed_time": 54.12049697,
             "remaining_time": 204.8292493,
             "test": [
              0.3118639797
             ]
            },
            {
             "iteration": 209,
             "learn": [
              0.1518612775
             ],
             "passed_time": 54.39184394,
             "remaining_time": 204.6169367,
             "test": [
              0.3119834252
             ]
            },
            {
             "iteration": 210,
             "learn": [
              0.1514269751
             ],
             "passed_time": 54.65066728,
             "remaining_time": 204.3572345,
             "test": [
              0.3118541929
             ]
            },
            {
             "iteration": 211,
             "learn": [
              0.150647297
             ],
             "passed_time": 54.87850957,
             "remaining_time": 203.9823846,
             "test": [
              0.3115821843
             ]
            },
            {
             "iteration": 212,
             "learn": [
              0.1500943213
             ],
             "passed_time": 55.10901646,
             "remaining_time": 203.6187603,
             "test": [
              0.3117331506
             ]
            },
            {
             "iteration": 213,
             "learn": [
              0.1495319811
             ],
             "passed_time": 55.37282648,
             "remaining_time": 203.3786991,
             "test": [
              0.3116990329
             ]
            },
            {
             "iteration": 214,
             "learn": [
              0.1490650358
             ],
             "passed_time": 55.64165198,
             "remaining_time": 203.1567293,
             "test": [
              0.3113579124
             ]
            },
            {
             "iteration": 215,
             "learn": [
              0.148341134
             ],
             "passed_time": 55.89265094,
             "remaining_time": 202.8696219,
             "test": [
              0.3114201428
             ]
            },
            {
             "iteration": 216,
             "learn": [
              0.1479146419
             ],
             "passed_time": 56.15111551,
             "remaining_time": 202.6097854,
             "test": [
              0.3112574489
             ]
            },
            {
             "iteration": 217,
             "learn": [
              0.1474775398
             ],
             "passed_time": 56.3882215,
             "remaining_time": 202.273345,
             "test": [
              0.3112937714
             ]
            },
            {
             "iteration": 218,
             "learn": [
              0.14712864
             ],
             "passed_time": 56.6551743,
             "remaining_time": 202.0442517,
             "test": [
              0.3111148068
             ]
            },
            {
             "iteration": 219,
             "learn": [
              0.1469342521
             ],
             "passed_time": 56.92477155,
             "remaining_time": 201.82419,
             "test": [
              0.3111201561
             ]
            },
            {
             "iteration": 220,
             "learn": [
              0.1462744624
             ],
             "passed_time": 57.15351433,
             "remaining_time": 201.4596727,
             "test": [
              0.3112341811
             ]
            },
            {
             "iteration": 221,
             "learn": [
              0.1458559098
             ],
             "passed_time": 57.38598776,
             "remaining_time": 201.1094526,
             "test": [
              0.3111423595
             ]
            },
            {
             "iteration": 222,
             "learn": [
              0.1452139697
             ],
             "passed_time": 57.62119761,
             "remaining_time": 200.7698231,
             "test": [
              0.311177224
             ]
            },
            {
             "iteration": 223,
             "learn": [
              0.1447682678
             ],
             "passed_time": 57.88699403,
             "remaining_time": 200.5370865,
             "test": [
              0.3113047459
             ]
            },
            {
             "iteration": 224,
             "learn": [
              0.1443850254
             ],
             "passed_time": 58.15456328,
             "remaining_time": 200.3101624,
             "test": [
              0.3112851352
             ]
            },
            {
             "iteration": 225,
             "learn": [
              0.1438986943
             ],
             "passed_time": 58.38621084,
             "remaining_time": 199.9598548,
             "test": [
              0.3112960618
             ]
            },
            {
             "iteration": 226,
             "learn": [
              0.1433558228
             ],
             "passed_time": 58.66106001,
             "remaining_time": 199.7577065,
             "test": [
              0.3113877966
             ]
            },
            {
             "iteration": 227,
             "learn": [
              0.1426176295
             ],
             "passed_time": 58.90302399,
             "remaining_time": 199.4435725,
             "test": [
              0.3111985878
             ]
            },
            {
             "iteration": 228,
             "learn": [
              0.1423901704
             ],
             "passed_time": 59.16410617,
             "remaining_time": 199.1944361,
             "test": [
              0.3112144715
             ]
            },
            {
             "iteration": 229,
             "learn": [
              0.1421309897
             ],
             "passed_time": 59.42066487,
             "remaining_time": 198.9300519,
             "test": [
              0.3110670675
             ]
            },
            {
             "iteration": 230,
             "learn": [
              0.1418366375
             ],
             "passed_time": 59.67251215,
             "remaining_time": 198.6500513,
             "test": [
              0.3110733913
             ]
            },
            {
             "iteration": 231,
             "learn": [
              0.1415705872
             ],
             "passed_time": 59.93961203,
             "remaining_time": 198.4207847,
             "test": [
              0.3109873989
             ]
            },
            {
             "iteration": 232,
             "learn": [
              0.1412944342
             ],
             "passed_time": 60.21225367,
             "remaining_time": 198.2094359,
             "test": [
              0.3109870424
             ]
            },
            {
             "iteration": 233,
             "learn": [
              0.1403728803
             ],
             "passed_time": 60.49714071,
             "remaining_time": 198.0376487,
             "test": [
              0.311146185
             ]
            },
            {
             "iteration": 234,
             "learn": [
              0.1398908383
             ],
             "passed_time": 60.76613372,
             "remaining_time": 197.8131587,
             "test": [
              0.3111974516
             ]
            },
            {
             "iteration": 235,
             "learn": [
              0.1395601851
             ],
             "passed_time": 61.02584191,
             "remaining_time": 197.558234,
             "test": [
              0.3113136516
             ]
            },
            {
             "iteration": 236,
             "learn": [
              0.1392307349
             ],
             "passed_time": 61.30360556,
             "remaining_time": 197.3613968,
             "test": [
              0.3112737979
             ]
            },
            {
             "iteration": 237,
             "learn": [
              0.1389654955
             ],
             "passed_time": 61.57093489,
             "remaining_time": 197.1304722,
             "test": [
              0.3113921333
             ]
            },
            {
             "iteration": 238,
             "learn": [
              0.1384367699
             ],
             "passed_time": 61.79806365,
             "remaining_time": 196.7712403,
             "test": [
              0.3116743384
             ]
            },
            {
             "iteration": 239,
             "learn": [
              0.1379597994
             ],
             "passed_time": 62.02958429,
             "remaining_time": 196.4270169,
             "test": [
              0.3117323194
             ]
            },
            {
             "iteration": 240,
             "learn": [
              0.1375513804
             ],
             "passed_time": 62.25497713,
             "remaining_time": 196.0644301,
             "test": [
              0.3116170815
             ]
            },
            {
             "iteration": 241,
             "learn": [
              0.137217149
             ],
             "passed_time": 62.53043128,
             "remaining_time": 195.8597806,
             "test": [
              0.3116888896
             ]
            },
            {
             "iteration": 242,
             "learn": [
              0.1368426853
             ],
             "passed_time": 62.77696915,
             "remaining_time": 195.5644677,
             "test": [
              0.3115367625
             ]
            },
            {
             "iteration": 243,
             "learn": [
              0.1365519286
             ],
             "passed_time": 63.0402334,
             "remaining_time": 195.3213789,
             "test": [
              0.3116288633
             ]
            },
            {
             "iteration": 244,
             "learn": [
              0.1363452639
             ],
             "passed_time": 63.35069455,
             "remaining_time": 195.2235689,
             "test": [
              0.3115954811
             ]
            },
            {
             "iteration": 245,
             "learn": [
              0.1358793556
             ],
             "passed_time": 63.57848881,
             "remaining_time": 194.8706527,
             "test": [
              0.3116214087
             ]
            },
            {
             "iteration": 246,
             "learn": [
              0.135513072
             ],
             "passed_time": 63.80102721,
             "remaining_time": 194.5027267,
             "test": [
              0.3115698234
             ]
            },
            {
             "iteration": 247,
             "learn": [
              0.1351401842
             ],
             "passed_time": 64.02293636,
             "remaining_time": 194.1340651,
             "test": [
              0.3116107697
             ]
            },
            {
             "iteration": 248,
             "learn": [
              0.134960567
             ],
             "passed_time": 64.28772224,
             "remaining_time": 193.8959012,
             "test": [
              0.3116417038
             ]
            },
            {
             "iteration": 249,
             "learn": [
              0.1345880366
             ],
             "passed_time": 64.56383862,
             "remaining_time": 193.6915159,
             "test": [
              0.3115726971
             ]
            },
            {
             "iteration": 250,
             "learn": [
              0.1341680171
             ],
             "passed_time": 64.83641588,
             "remaining_time": 193.475998,
             "test": [
              0.3114939213
             ]
            },
            {
             "iteration": 251,
             "learn": [
              0.1336769646
             ],
             "passed_time": 65.07718968,
             "remaining_time": 193.1656265,
             "test": [
              0.3111351563
             ]
            },
            {
             "iteration": 252,
             "learn": [
              0.1329857922
             ],
             "passed_time": 65.31055099,
             "remaining_time": 192.8339193,
             "test": [
              0.3111838174
             ]
            },
            {
             "iteration": 253,
             "learn": [
              0.132816331
             ],
             "passed_time": 65.62742693,
             "remaining_time": 192.7482696,
             "test": [
              0.3111728927
             ]
            },
            {
             "iteration": 254,
             "learn": [
              0.1324214725
             ],
             "passed_time": 65.89234434,
             "remaining_time": 192.509006,
             "test": [
              0.3112901172
             ]
            },
            {
             "iteration": 255,
             "learn": [
              0.1321591647
             ],
             "passed_time": 66.14900565,
             "remaining_time": 192.2455477,
             "test": [
              0.3113303807
             ]
            },
            {
             "iteration": 256,
             "learn": [
              0.131652098
             ],
             "passed_time": 66.42212951,
             "remaining_time": 192.0297363,
             "test": [
              0.3113267507
             ]
            },
            {
             "iteration": 257,
             "learn": [
              0.1312042027
             ],
             "passed_time": 66.66669957,
             "remaining_time": 191.7313608,
             "test": [
              0.3113048227
             ]
            },
            {
             "iteration": 258,
             "learn": [
              0.1309772936
             ],
             "passed_time": 66.9286812,
             "remaining_time": 191.4832153,
             "test": [
              0.3113686303
             ]
            },
            {
             "iteration": 259,
             "learn": [
              0.1306115195
             ],
             "passed_time": 67.17800165,
             "remaining_time": 191.1989278,
             "test": [
              0.31136603
             ]
            },
            {
             "iteration": 260,
             "learn": [
              0.1304154937
             ],
             "passed_time": 67.43264656,
             "remaining_time": 190.9299839,
             "test": [
              0.3114477554
             ]
            },
            {
             "iteration": 261,
             "learn": [
              0.130350422
             ],
             "passed_time": 67.65088542,
             "remaining_time": 190.5586009,
             "test": [
              0.3114823445
             ]
            },
            {
             "iteration": 262,
             "learn": [
              0.1300036333
             ],
             "passed_time": 67.91477031,
             "remaining_time": 190.3162955,
             "test": [
              0.3115294346
             ]
            },
            {
             "iteration": 263,
             "learn": [
              0.1296902943
             ],
             "passed_time": 68.18772451,
             "remaining_time": 190.0991108,
             "test": [
              0.3116508119
             ]
            },
            {
             "iteration": 264,
             "learn": [
              0.1293897522
             ],
             "passed_time": 68.41251851,
             "remaining_time": 189.7479287,
             "test": [
              0.3116385851
             ]
            },
            {
             "iteration": 265,
             "learn": [
              0.1286462528
             ],
             "passed_time": 68.66918132,
             "remaining_time": 189.4856357,
             "test": [
              0.311831719
             ]
            },
            {
             "iteration": 266,
             "learn": [
              0.1280584934
             ],
             "passed_time": 68.89976845,
             "remaining_time": 189.1517988,
             "test": [
              0.3119959547
             ]
            },
            {
             "iteration": 267,
             "learn": [
              0.1275615962
             ],
             "passed_time": 69.14192227,
             "remaining_time": 188.850325,
             "test": [
              0.3121634067
             ]
            },
            {
             "iteration": 268,
             "learn": [
              0.1272527768
             ],
             "passed_time": 69.38128914,
             "remaining_time": 188.5417188,
             "test": [
              0.3123311069
             ]
            },
            {
             "iteration": 269,
             "learn": [
              0.1270077473
             ],
             "passed_time": 69.65127714,
             "remaining_time": 188.316416,
             "test": [
              0.3123725768
             ]
            },
            {
             "iteration": 270,
             "learn": [
              0.1267032444
             ],
             "passed_time": 69.92102143,
             "remaining_time": 188.0901278,
             "test": [
              0.3123617949
             ]
            },
            {
             "iteration": 271,
             "learn": [
              0.1263081458
             ],
             "passed_time": 70.195239,
             "remaining_time": 187.8754926,
             "test": [
              0.3125426944
             ]
            },
            {
             "iteration": 272,
             "learn": [
              0.1262351797
             ],
             "passed_time": 70.47591033,
             "remaining_time": 187.6776074,
             "test": [
              0.3124723707
             ]
            },
            {
             "iteration": 273,
             "learn": [
              0.1259377941
             ],
             "passed_time": 70.74538319,
             "remaining_time": 187.449446,
             "test": [
              0.3126706434
             ]
            },
            {
             "iteration": 274,
             "learn": [
              0.1255645907
             ],
             "passed_time": 70.96984198,
             "remaining_time": 187.1023107,
             "test": [
              0.3126432366
             ]
            },
            {
             "iteration": 275,
             "learn": [
              0.1250988907
             ],
             "passed_time": 71.21789914,
             "remaining_time": 186.8179673,
             "test": [
              0.3127454842
             ]
            },
            {
             "iteration": 276,
             "learn": [
              0.1248398633
             ],
             "passed_time": 71.49055674,
             "remaining_time": 186.5980957,
             "test": [
              0.3128907149
             ]
            },
            {
             "iteration": 277,
             "learn": [
              0.1245423416
             ],
             "passed_time": 71.71347214,
             "remaining_time": 186.2486579,
             "test": [
              0.312984982
             ]
            },
            {
             "iteration": 278,
             "learn": [
              0.1242734773
             ],
             "passed_time": 71.98312284,
             "remaining_time": 186.0209017,
             "test": [
              0.3129142874
             ]
            },
            {
             "iteration": 279,
             "learn": [
              0.1237817194
             ],
             "passed_time": 72.22662462,
             "remaining_time": 185.7256062,
             "test": [
              0.31300119
             ]
            },
            {
             "iteration": 280,
             "learn": [
              0.1234555579
             ],
             "passed_time": 72.45082249,
             "remaining_time": 185.381286,
             "test": [
              0.3130664128
             ]
            },
            {
             "iteration": 281,
             "learn": [
              0.1231440659
             ],
             "passed_time": 72.70643196,
             "remaining_time": 185.1177948,
             "test": [
              0.3128594565
             ]
            },
            {
             "iteration": 282,
             "learn": [
              0.1227836589
             ],
             "passed_time": 72.93436875,
             "remaining_time": 184.7842487,
             "test": [
              0.3126787169
             ]
            },
            {
             "iteration": 283,
             "learn": [
              0.1223669184
             ],
             "passed_time": 73.21072959,
             "remaining_time": 184.5735295,
             "test": [
              0.3128650582
             ]
            },
            {
             "iteration": 284,
             "learn": [
              0.1221057082
             ],
             "passed_time": 73.44708577,
             "remaining_time": 184.2619871,
             "test": [
              0.3130055931
             ]
            },
            {
             "iteration": 285,
             "learn": [
              0.1215935598
             ],
             "passed_time": 73.68133772,
             "remaining_time": 183.9457172,
             "test": [
              0.3130737895
             ]
            },
            {
             "iteration": 286,
             "learn": [
              0.1213667231
             ],
             "passed_time": 73.95715419,
             "remaining_time": 183.7332785,
             "test": [
              0.3130429403
             ]
            },
            {
             "iteration": 287,
             "learn": [
              0.1211992922
             ],
             "passed_time": 74.23817122,
             "remaining_time": 183.5332566,
             "test": [
              0.3129970909
             ]
            },
            {
             "iteration": 288,
             "learn": [
              0.1209595866
             ],
             "passed_time": 74.50634231,
             "remaining_time": 183.3010705,
             "test": [
              0.3129476988
             ]
            },
            {
             "iteration": 289,
             "learn": [
              0.1205893714
             ],
             "passed_time": 74.78344472,
             "remaining_time": 183.0905026,
             "test": [
              0.3130339687
             ]
            },
            {
             "iteration": 290,
             "learn": [
              0.1204528329
             ],
             "passed_time": 75.06480707,
             "remaining_time": 182.8898564,
             "test": [
              0.3130781223
             ]
            },
            {
             "iteration": 291,
             "learn": [
              0.1202119518
             ],
             "passed_time": 75.32282786,
             "remaining_time": 182.6320621,
             "test": [
              0.31329728
             ]
            },
            {
             "iteration": 292,
             "learn": [
              0.1199221361
             ],
             "passed_time": 75.59408652,
             "remaining_time": 182.4062088,
             "test": [
              0.3132951476
             ]
            },
            {
             "iteration": 293,
             "learn": [
              0.1197592654
             ],
             "passed_time": 75.8523669,
             "remaining_time": 182.1488811,
             "test": [
              0.3132851689
             ]
            },
            {
             "iteration": 294,
             "learn": [
              0.1194180651
             ],
             "passed_time": 76.11644444,
             "remaining_time": 181.9054011,
             "test": [
              0.3134821518
             ]
            },
            {
             "iteration": 295,
             "learn": [
              0.1189566818
             ],
             "passed_time": 76.33978197,
             "remaining_time": 181.5648869,
             "test": [
              0.3136384484
             ]
            },
            {
             "iteration": 296,
             "learn": [
              0.1187169883
             ],
             "passed_time": 76.59481189,
             "remaining_time": 181.3001776,
             "test": [
              0.3135695674
             ]
            },
            {
             "iteration": 297,
             "learn": [
              0.1184704632
             ],
             "passed_time": 76.86293296,
             "remaining_time": 181.0663723,
             "test": [
              0.3136624864
             ]
            },
            {
             "iteration": 298,
             "learn": [
              0.1180225479
             ],
             "passed_time": 77.08678967,
             "remaining_time": 180.7285604,
             "test": [
              0.3137299458
             ]
            },
            {
             "iteration": 299,
             "learn": [
              0.1175974461
             ],
             "passed_time": 77.31495577,
             "remaining_time": 180.4015635,
             "test": [
              0.3136940977
             ]
            },
            {
             "iteration": 300,
             "learn": [
              0.1171744537
             ],
             "passed_time": 77.57472198,
             "remaining_time": 180.1486069,
             "test": [
              0.3139257205
             ]
            },
            {
             "iteration": 301,
             "learn": [
              0.117085616
             ],
             "passed_time": 77.83910672,
             "remaining_time": 179.9062798,
             "test": [
              0.3139885958
             ]
            },
            {
             "iteration": 302,
             "learn": [
              0.1167267045
             ],
             "passed_time": 78.11971302,
             "remaining_time": 179.701122,
             "test": [
              0.3138714278
             ]
            },
            {
             "iteration": 303,
             "learn": [
              0.1161850728
             ],
             "passed_time": 78.37483843,
             "remaining_time": 179.4371301,
             "test": [
              0.3139217325
             ]
            },
            {
             "iteration": 304,
             "learn": [
              0.1160845159
             ],
             "passed_time": 78.65311258,
             "remaining_time": 179.2259451,
             "test": [
              0.3139572769
             ]
            },
            {
             "iteration": 305,
             "learn": [
              0.1157769344
             ],
             "passed_time": 78.92513429,
             "remaining_time": 179.0001412,
             "test": [
              0.3137728641
             ]
            },
            {
             "iteration": 306,
             "learn": [
              0.1154709787
             ],
             "passed_time": 79.15828222,
             "remaining_time": 178.6862853,
             "test": [
              0.3138217087
             ]
            },
            {
             "iteration": 307,
             "learn": [
              0.1150651436
             ],
             "passed_time": 79.44321662,
             "remaining_time": 178.4893049,
             "test": [
              0.3138450058
             ]
            },
            {
             "iteration": 308,
             "learn": [
              0.1149515644
             ],
             "passed_time": 79.74357669,
             "remaining_time": 178.3262508,
             "test": [
              0.3136589306
             ]
            },
            {
             "iteration": 309,
             "learn": [
              0.1145826225
             ],
             "passed_time": 79.97298765,
             "remaining_time": 178.0043919,
             "test": [
              0.3138662298
             ]
            },
            {
             "iteration": 310,
             "learn": [
              0.1143905884
             ],
             "passed_time": 80.24916473,
             "remaining_time": 177.7867347,
             "test": [
              0.3139282843
             ]
            },
            {
             "iteration": 311,
             "learn": [
              0.1140798822
             ],
             "passed_time": 80.54270668,
             "remaining_time": 177.6069942,
             "test": [
              0.3139074591
             ]
            },
            {
             "iteration": 312,
             "learn": [
              0.1139240017
             ],
             "passed_time": 80.79195276,
             "remaining_time": 177.3293021,
             "test": [
              0.3137607422
             ]
            },
            {
             "iteration": 313,
             "learn": [
              0.1137307087
             ],
             "passed_time": 81.0654132,
             "remaining_time": 177.1046925,
             "test": [
              0.3138564851
             ]
            },
            {
             "iteration": 314,
             "learn": [
              0.113398721
             ],
             "passed_time": 81.33485123,
             "remaining_time": 176.8710257,
             "test": [
              0.3140826515
             ]
            },
            {
             "iteration": 315,
             "learn": [
              0.1132021479
             ],
             "passed_time": 81.60634678,
             "remaining_time": 176.6415861,
             "test": [
              0.3138530398
             ]
            },
            {
             "iteration": 316,
             "learn": [
              0.1129075138
             ],
             "passed_time": 81.83266456,
             "remaining_time": 176.3145422,
             "test": [
              0.3137319016
             ]
            },
            {
             "iteration": 317,
             "learn": [
              0.1125269502
             ],
             "passed_time": 82.08865791,
             "remaining_time": 176.0517758,
             "test": [
              0.3138755576
             ]
            },
            {
             "iteration": 318,
             "learn": [
              0.1120883452
             ],
             "passed_time": 82.34861617,
             "remaining_time": 175.797516,
             "test": [
              0.3140277577
             ]
            },
            {
             "iteration": 319,
             "learn": [
              0.1116989633
             ],
             "passed_time": 82.61412606,
             "remaining_time": 175.5550179,
             "test": [
              0.3142251344
             ]
            },
            {
             "iteration": 320,
             "learn": [
              0.111361667
             ],
             "passed_time": 82.87608069,
             "remaining_time": 175.304856,
             "test": [
              0.3141216377
             ]
            },
            {
             "iteration": 321,
             "learn": [
              0.111101052
             ],
             "passed_time": 83.11154889,
             "remaining_time": 174.9988514,
             "test": [
              0.3142515342
             ]
            },
            {
             "iteration": 322,
             "learn": [
              0.1108389987
             ],
             "passed_time": 83.3334043,
             "remaining_time": 174.6647514,
             "test": [
              0.3143086978
             ]
            },
            {
             "iteration": 323,
             "learn": [
              0.1102446442
             ],
             "passed_time": 83.60227143,
             "remaining_time": 174.4294305,
             "test": [
              0.3144095723
             ]
            },
            {
             "iteration": 324,
             "learn": [
              0.1101008874
             ],
             "passed_time": 83.89714054,
             "remaining_time": 174.2479073,
             "test": [
              0.3143859052
             ]
            },
            {
             "iteration": 325,
             "learn": [
              0.1097723765
             ],
             "passed_time": 84.17701031,
             "remaining_time": 174.0346778,
             "test": [
              0.3145936367
             ]
            },
            {
             "iteration": 326,
             "learn": [
              0.1095209499
             ],
             "passed_time": 84.4301423,
             "remaining_time": 173.7660115,
             "test": [
              0.3145320179
             ]
            },
            {
             "iteration": 327,
             "learn": [
              0.1091982541
             ],
             "passed_time": 84.69784925,
             "remaining_time": 173.5273009,
             "test": [
              0.3146334485
             ]
            },
            {
             "iteration": 328,
             "learn": [
              0.1089964381
             ],
             "passed_time": 85.06266678,
             "remaining_time": 173.4864724,
             "test": [
              0.3145939608
             ]
            },
            {
             "iteration": 329,
             "learn": [
              0.1087561116
             ],
             "passed_time": 85.38242355,
             "remaining_time": 173.3521933,
             "test": [
              0.3144142753
             ]
            },
            {
             "iteration": 330,
             "learn": [
              0.1085060837
             ],
             "passed_time": 85.7452206,
             "remaining_time": 173.3037842,
             "test": [
              0.3142737842
             ]
            },
            {
             "iteration": 331,
             "learn": [
              0.1082244622
             ],
             "passed_time": 86.04997584,
             "remaining_time": 173.1366984,
             "test": [
              0.3142944196
             ]
            },
            {
             "iteration": 332,
             "learn": [
              0.1079621043
             ],
             "passed_time": 86.41345364,
             "remaining_time": 173.0864071,
             "test": [
              0.3143338942
             ]
            },
            {
             "iteration": 333,
             "learn": [
              0.1076193136
             ],
             "passed_time": 86.70891988,
             "remaining_time": 172.8986247,
             "test": [
              0.3145470062
             ]
            },
            {
             "iteration": 334,
             "learn": [
              0.1073375595
             ],
             "passed_time": 86.97354616,
             "remaining_time": 172.6489797,
             "test": [
              0.3145506894
             ]
            },
            {
             "iteration": 335,
             "learn": [
              0.1069301527
             ],
             "passed_time": 87.27461021,
             "remaining_time": 172.4712535,
             "test": [
              0.3146354352
             ]
            },
            {
             "iteration": 336,
             "learn": [
              0.1065532685
             ],
             "passed_time": 87.51632992,
             "remaining_time": 172.1760437,
             "test": [
              0.3148365351
             ]
            },
            {
             "iteration": 337,
             "learn": [
              0.1064380651
             ],
             "passed_time": 87.76859192,
             "remaining_time": 171.9017984,
             "test": [
              0.3148701689
             ]
            },
            {
             "iteration": 338,
             "learn": [
              0.1061716057
             ],
             "passed_time": 88.02832902,
             "remaining_time": 171.6422581,
             "test": [
              0.3150068144
             ]
            },
            {
             "iteration": 339,
             "learn": [
              0.1057218133
             ],
             "passed_time": 88.25887198,
             "remaining_time": 171.3260456,
             "test": [
              0.3150972684
             ]
            },
            {
             "iteration": 340,
             "learn": [
              0.1055400221
             ],
             "passed_time": 88.53614013,
             "remaining_time": 171.1006344,
             "test": [
              0.3150446985
             ]
            },
            {
             "iteration": 341,
             "learn": [
              0.1053413477
             ],
             "passed_time": 88.77478676,
             "remaining_time": 170.8006131,
             "test": [
              0.3150513047
             ]
            },
            {
             "iteration": 342,
             "learn": [
              0.1051304389
             ],
             "passed_time": 89.01055066,
             "remaining_time": 170.4954279,
             "test": [
              0.3151532178
             ]
            },
            {
             "iteration": 343,
             "learn": [
              0.1048567785
             ],
             "passed_time": 89.23950338,
             "remaining_time": 170.1776576,
             "test": [
              0.3151320286
             ]
            },
            {
             "iteration": 344,
             "learn": [
              0.1045094095
             ],
             "passed_time": 89.49302158,
             "remaining_time": 169.907041,
             "test": [
              0.3151105673
             ]
            },
            {
             "iteration": 345,
             "learn": [
              0.104256851
             ],
             "passed_time": 89.76755046,
             "remaining_time": 169.676237,
             "test": [
              0.3152862562
             ]
            },
            {
             "iteration": 346,
             "learn": [
              0.1039201637
             ],
             "passed_time": 90.0098503,
             "remaining_time": 169.384531,
             "test": [
              0.3155203809
             ]
            },
            {
             "iteration": 347,
             "learn": [
              0.1037548228
             ],
             "passed_time": 90.25691414,
             "remaining_time": 169.1020345,
             "test": [
              0.3155267548
             ]
            },
            {
             "iteration": 348,
             "learn": [
              0.1036395142
             ],
             "passed_time": 90.55982103,
             "remaining_time": 168.9239068,
             "test": [
              0.3155658475
             ]
            },
            {
             "iteration": 349,
             "learn": [
              0.1034303049
             ],
             "passed_time": 90.79868552,
             "remaining_time": 168.6261303,
             "test": [
              0.3156744175
             ]
            },
            {
             "iteration": 350,
             "learn": [
              0.1032598559
             ],
             "passed_time": 91.07852644,
             "remaining_time": 168.4044549,
             "test": [
              0.3157965668
             ]
            },
            {
             "iteration": 351,
             "learn": [
              0.1028931878
             ],
             "passed_time": 91.31609492,
             "remaining_time": 168.1046293,
             "test": [
              0.3155143099
             ]
            },
            {
             "iteration": 352,
             "learn": [
              0.1028015608
             ],
             "passed_time": 91.57244943,
             "remaining_time": 167.8395886,
             "test": [
              0.315415867
             ]
            },
            {
             "iteration": 353,
             "learn": [
              0.1025755563
             ],
             "passed_time": 91.83128207,
             "remaining_time": 167.5791193,
             "test": [
              0.3154041006
             ]
            },
            {
             "iteration": 354,
             "learn": [
              0.1023137909
             ],
             "passed_time": 92.1342619,
             "remaining_time": 167.3988702,
             "test": [
              0.3153978327
             ]
            },
            {
             "iteration": 355,
             "learn": [
              0.1020329322
             ],
             "passed_time": 92.36441377,
             "remaining_time": 167.0861867,
             "test": [
              0.3154828442
             ]
            },
            {
             "iteration": 356,
             "learn": [
              0.1018012958
             ],
             "passed_time": 92.63556534,
             "remaining_time": 166.847811,
             "test": [
              0.3154961883
             ]
            },
            {
             "iteration": 357,
             "learn": [
              0.1012879024
             ],
             "passed_time": 92.91810351,
             "remaining_time": 166.6296717,
             "test": [
              0.3154995644
             ]
            },
            {
             "iteration": 358,
             "learn": [
              0.1009789463
             ],
             "passed_time": 93.20236159,
             "remaining_time": 166.4142445,
             "test": [
              0.3156017585
             ]
            },
            {
             "iteration": 359,
             "learn": [
              0.1006848354
             ],
             "passed_time": 93.43141626,
             "remaining_time": 166.1002956,
             "test": [
              0.3156480283
             ]
            },
            {
             "iteration": 360,
             "learn": [
              0.1004393788
             ],
             "passed_time": 93.70847716,
             "remaining_time": 165.871792,
             "test": [
              0.3157937115
             ]
            },
            {
             "iteration": 361,
             "learn": [
              0.1002679816
             ],
             "passed_time": 93.93624979,
             "remaining_time": 165.5561529,
             "test": [
              0.3159385524
             ]
            },
            {
             "iteration": 362,
             "learn": [
              0.100015373
             ],
             "passed_time": 94.19803576,
             "remaining_time": 165.3006853,
             "test": [
              0.3160038654
             ]
            },
            {
             "iteration": 363,
             "learn": [
              0.09990825302
             ],
             "passed_time": 94.45489862,
             "remaining_time": 165.0365811,
             "test": [
              0.3159897629
             ]
            },
            {
             "iteration": 364,
             "learn": [
              0.09978907961
             ],
             "passed_time": 94.72858736,
             "remaining_time": 164.801789,
             "test": [
              0.3158844768
             ]
            },
            {
             "iteration": 365,
             "learn": [
              0.09958246409
             ],
             "passed_time": 94.98381075,
             "remaining_time": 164.5347979,
             "test": [
              0.3160380762
             ]
            },
            {
             "iteration": 366,
             "learn": [
              0.09935766706
             ],
             "passed_time": 95.24015211,
             "remaining_time": 164.2697991,
             "test": [
              0.3159238428
             ]
            },
            {
             "iteration": 367,
             "learn": [
              0.09895257892
             ],
             "passed_time": 95.51744802,
             "remaining_time": 164.0408346,
             "test": [
              0.3160935342
             ]
            },
            {
             "iteration": 368,
             "learn": [
              0.09865969274
             ],
             "passed_time": 95.77047364,
             "remaining_time": 163.7701053,
             "test": [
              0.316120239
             ]
            },
            {
             "iteration": 369,
             "learn": [
              0.09838864009
             ],
             "passed_time": 96.04858051,
             "remaining_time": 163.5421776,
             "test": [
              0.3165005855
             ]
            },
            {
             "iteration": 370,
             "learn": [
              0.09805388419
             ],
             "passed_time": 96.28402501,
             "remaining_time": 163.2416489,
             "test": [
              0.316678714
             ]
            },
            {
             "iteration": 371,
             "learn": [
              0.09785985784
             ],
             "passed_time": 96.50739067,
             "remaining_time": 162.9210789,
             "test": [
              0.316676751
             ]
            },
            {
             "iteration": 372,
             "learn": [
              0.09778614251
             ],
             "passed_time": 96.75284819,
             "remaining_time": 162.6381657,
             "test": [
              0.3167234413
             ]
            },
            {
             "iteration": 373,
             "learn": [
              0.09755780913
             ],
             "passed_time": 97.01282256,
             "remaining_time": 162.3797511,
             "test": [
              0.3167909235
             ]
            },
            {
             "iteration": 374,
             "learn": [
              0.0972631491
             ],
             "passed_time": 97.26756237,
             "remaining_time": 162.112604,
             "test": [
              0.3167873348
             ]
            },
            {
             "iteration": 375,
             "learn": [
              0.09700449466
             ],
             "passed_time": 97.49612891,
             "remaining_time": 161.8020863,
             "test": [
              0.3167193309
             ]
            },
            {
             "iteration": 376,
             "learn": [
              0.09667819249
             ],
             "passed_time": 97.72652766,
             "remaining_time": 161.4950311,
             "test": [
              0.3168023418
             ]
            },
            {
             "iteration": 377,
             "learn": [
              0.096459641
             ],
             "passed_time": 97.97097795,
             "remaining_time": 161.2115034,
             "test": [
              0.3167822655
             ]
            },
            {
             "iteration": 378,
             "learn": [
              0.09618112059
             ],
             "passed_time": 98.22243831,
             "remaining_time": 160.939668,
             "test": [
              0.3169223095
             ]
            },
            {
             "iteration": 379,
             "learn": [
              0.09591491735
             ],
             "passed_time": 98.49235079,
             "remaining_time": 160.698046,
             "test": [
              0.3167275467
             ]
            },
            {
             "iteration": 380,
             "learn": [
              0.09555010546
             ],
             "passed_time": 98.75883809,
             "remaining_time": 160.4507107,
             "test": [
              0.3168652109
             ]
            },
            {
             "iteration": 381,
             "learn": [
              0.09538689033
             ],
             "passed_time": 99.06079475,
             "remaining_time": 160.2606575,
             "test": [
              0.3168625518
             ]
            },
            {
             "iteration": 382,
             "learn": [
              0.09526120059
             ],
             "passed_time": 99.31702717,
             "remaining_time": 159.9963597,
             "test": [
              0.3169801102
             ]
            },
            {
             "iteration": 383,
             "learn": [
              0.09500924603
             ],
             "passed_time": 99.54869501,
             "remaining_time": 159.6926983,
             "test": [
              0.3170484563
             ]
            },
            {
             "iteration": 384,
             "learn": [
              0.09479314251
             ],
             "passed_time": 99.77879843,
             "remaining_time": 159.3869118,
             "test": [
              0.3171893307
             ]
            },
            {
             "iteration": 385,
             "learn": [
              0.09437830918
             ],
             "passed_time": 100.0571652,
             "remaining_time": 159.1582887,
             "test": [
              0.3172165463
             ]
            },
            {
             "iteration": 386,
             "learn": [
              0.09430021762
             ],
             "passed_time": 100.3668847,
             "remaining_time": 158.9790706,
             "test": [
              0.3172934143
             ]
            },
            {
             "iteration": 387,
             "learn": [
              0.09395760181
             ],
             "passed_time": 100.6185584,
             "remaining_time": 158.707623,
             "test": [
              0.3174924039
             ]
            },
            {
             "iteration": 388,
             "learn": [
              0.0937858851
             ],
             "passed_time": 100.8970619,
             "remaining_time": 158.4784186,
             "test": [
              0.3175331759
             ]
            },
            {
             "iteration": 389,
             "learn": [
              0.0936098855
             ],
             "passed_time": 101.1488179,
             "remaining_time": 158.2071255,
             "test": [
              0.3177903455
             ]
            },
            {
             "iteration": 390,
             "learn": [
              0.09336342691
             ],
             "passed_time": 101.3898738,
             "remaining_time": 157.9192663,
             "test": [
              0.3179710195
             ]
            },
            {
             "iteration": 391,
             "learn": [
              0.09289361744
             ],
             "passed_time": 101.6132421,
             "remaining_time": 157.6042123,
             "test": [
              0.3181568131
             ]
            },
            {
             "iteration": 392,
             "learn": [
              0.09266066221
             ],
             "passed_time": 101.8432617,
             "remaining_time": 157.2998979,
             "test": [
              0.3181921252
             ]
            },
            {
             "iteration": 393,
             "learn": [
              0.09209571912
             ],
             "passed_time": 102.1178007,
             "remaining_time": 157.0644346,
             "test": [
              0.3188797054
             ]
            },
            {
             "iteration": 394,
             "learn": [
              0.09192962554
             ],
             "passed_time": 102.3894103,
             "remaining_time": 156.8242867,
             "test": [
              0.3186928597
             ]
            },
            {
             "iteration": 395,
             "learn": [
              0.0916549478
             ],
             "passed_time": 102.6194142,
             "remaining_time": 156.5205207,
             "test": [
              0.3187363441
             ]
            },
            {
             "iteration": 396,
             "learn": [
              0.0913936759
             ],
             "passed_time": 102.8731859,
             "remaining_time": 156.2532269,
             "test": [
              0.3186408203
             ]
            },
            {
             "iteration": 397,
             "learn": [
              0.0911211238
             ],
             "passed_time": 103.1021659,
             "remaining_time": 155.9485022,
             "test": [
              0.3187035217
             ]
            },
            {
             "iteration": 398,
             "learn": [
              0.09082800692
             ],
             "passed_time": 103.3418962,
             "remaining_time": 155.6603499,
             "test": [
              0.318599232
             ]
            },
            {
             "iteration": 399,
             "learn": [
              0.09062016446
             ],
             "passed_time": 103.6014303,
             "remaining_time": 155.4021455,
             "test": [
              0.3184835146
             ]
            },
            {
             "iteration": 400,
             "learn": [
              0.09017808054
             ],
             "passed_time": 103.8760953,
             "remaining_time": 155.1665364,
             "test": [
              0.3190363729
             ]
            },
            {
             "iteration": 401,
             "learn": [
              0.09006678206
             ],
             "passed_time": 104.1462413,
             "remaining_time": 154.9240108,
             "test": [
              0.3190469209
             ]
            },
            {
             "iteration": 402,
             "learn": [
              0.08989184879
             ],
             "passed_time": 104.3767097,
             "remaining_time": 154.6225699,
             "test": [
              0.3191499696
             ]
            },
            {
             "iteration": 403,
             "learn": [
              0.08978087542
             ],
             "passed_time": 104.6507479,
             "remaining_time": 154.3857568,
             "test": [
              0.3190893599
             ]
            },
            {
             "iteration": 404,
             "learn": [
              0.08965121386
             ],
             "passed_time": 104.883821,
             "remaining_time": 154.0885765,
             "test": [
              0.3191365539
             ]
            },
            {
             "iteration": 405,
             "learn": [
              0.08944296197
             ],
             "passed_time": 105.1062982,
             "remaining_time": 153.7762097,
             "test": [
              0.3191655589
             ]
            },
            {
             "iteration": 406,
             "learn": [
              0.0893140037
             ],
             "passed_time": 105.3406787,
             "remaining_time": 153.4816276,
             "test": [
              0.3193042637
             ]
            },
            {
             "iteration": 407,
             "learn": [
              0.08906672201
             ],
             "passed_time": 105.5620365,
             "remaining_time": 153.1684451,
             "test": [
              0.3194291901
             ]
            },
            {
             "iteration": 408,
             "learn": [
              0.08899065886
             ],
             "passed_time": 105.83295,
             "remaining_time": 152.927319,
             "test": [
              0.3196689816
             ]
            },
            {
             "iteration": 409,
             "learn": [
              0.08889279067
             ],
             "passed_time": 106.0991856,
             "remaining_time": 152.6793159,
             "test": [
              0.3197577546
             ]
            },
            {
             "iteration": 410,
             "learn": [
              0.08861449457
             ],
             "passed_time": 106.3760133,
             "remaining_time": 152.4464035,
             "test": [
              0.3198606448
             ]
            },
            {
             "iteration": 411,
             "learn": [
              0.08847024369
             ],
             "passed_time": 106.6470847,
             "remaining_time": 152.2050626,
             "test": [
              0.3197802756
             ]
            },
            {
             "iteration": 412,
             "learn": [
              0.0882200586
             ],
             "passed_time": 106.896189,
             "remaining_time": 151.9323558,
             "test": [
              0.3198342385
             ]
            },
            {
             "iteration": 413,
             "learn": [
              0.08798170442
             ],
             "passed_time": 107.2410245,
             "remaining_time": 151.7952666,
             "test": [
              0.3199809535
             ]
            },
            {
             "iteration": 414,
             "learn": [
              0.08791279339
             ],
             "passed_time": 107.5013392,
             "remaining_time": 151.5380324,
             "test": [
              0.3200093122
             ]
            },
            {
             "iteration": 415,
             "learn": [
              0.08780289081
             ],
             "passed_time": 107.7439076,
             "remaining_time": 151.2558703,
             "test": [
              0.3200057744
             ]
            },
            {
             "iteration": 416,
             "learn": [
              0.08752320046
             ],
             "passed_time": 107.9738628,
             "remaining_time": 150.9562638,
             "test": [
              0.3200854934
             ]
            },
            {
             "iteration": 417,
             "learn": [
              0.08738986608
             ],
             "passed_time": 108.2425558,
             "remaining_time": 150.710927,
             "test": [
              0.3200815966
             ]
            },
            {
             "iteration": 418,
             "learn": [
              0.08733955983
             ],
             "passed_time": 108.5284086,
             "remaining_time": 150.489273,
             "test": [
              0.3200253387
             ]
            },
            {
             "iteration": 419,
             "learn": [
              0.0872446937
             ],
             "passed_time": 108.7868685,
             "remaining_time": 150.229485,
             "test": [
              0.3201583407
             ]
            },
            {
             "iteration": 420,
             "learn": [
              0.08670356752
             ],
             "passed_time": 109.0163156,
             "remaining_time": 149.9298023,
             "test": [
              0.3201239911
             ]
            },
            {
             "iteration": 421,
             "learn": [
              0.08652164314
             ],
             "passed_time": 109.2542162,
             "remaining_time": 149.6420308,
             "test": [
              0.3201431295
             ]
            },
            {
             "iteration": 422,
             "learn": [
              0.08626721336
             ],
             "passed_time": 109.476233,
             "remaining_time": 149.3328285,
             "test": [
              0.3200937789
             ]
            },
            {
             "iteration": 423,
             "learn": [
              0.08602040106
             ],
             "passed_time": 109.7073582,
             "remaining_time": 149.0364111,
             "test": [
              0.3202349998
             ]
            },
            {
             "iteration": 424,
             "learn": [
              0.0857424571
             ],
             "passed_time": 109.9856965,
             "remaining_time": 148.8041776,
             "test": [
              0.3204144068
             ]
            },
            {
             "iteration": 425,
             "learn": [
              0.08558274231
             ],
             "passed_time": 110.2625828,
             "remaining_time": 148.5697712,
             "test": [
              0.3204288553
             ]
            },
            {
             "iteration": 426,
             "learn": [
              0.08544460677
             ],
             "passed_time": 110.5754449,
             "remaining_time": 148.3834425,
             "test": [
              0.3205475758
             ]
            },
            {
             "iteration": 427,
             "learn": [
              0.08518900417
             ],
             "passed_time": 110.8158557,
             "remaining_time": 148.099695,
             "test": [
              0.3206757879
             ]
            },
            {
             "iteration": 428,
             "learn": [
              0.08495414843
             ],
             "passed_time": 111.0968333,
             "remaining_time": 147.8701441,
             "test": [
              0.3207932598
             ]
            },
            {
             "iteration": 429,
             "learn": [
              0.08481351766
             ],
             "passed_time": 111.3579496,
             "remaining_time": 147.6140263,
             "test": [
              0.3208180102
             ]
            },
            {
             "iteration": 430,
             "learn": [
              0.08469201357
             ],
             "passed_time": 111.6508304,
             "remaining_time": 147.3998202,
             "test": [
              0.3208305128
             ]
            },
            {
             "iteration": 431,
             "learn": [
              0.0843890967
             ],
             "passed_time": 111.9167862,
             "remaining_time": 147.1498485,
             "test": [
              0.3208184319
             ]
            },
            {
             "iteration": 432,
             "learn": [
              0.08405888379
             ],
             "passed_time": 112.1517945,
             "remaining_time": 146.8592783,
             "test": [
              0.3211266696
             ]
            },
            {
             "iteration": 433,
             "learn": [
              0.08379824
             ],
             "passed_time": 112.3803296,
             "remaining_time": 146.5605221,
             "test": [
              0.3213067015
             ]
            },
            {
             "iteration": 434,
             "learn": [
              0.0835578857
             ],
             "passed_time": 112.6359606,
             "remaining_time": 146.2972821,
             "test": [
              0.3211762554
             ]
            },
            {
             "iteration": 435,
             "learn": [
              0.08341130159
             ],
             "passed_time": 112.9126328,
             "remaining_time": 146.0612957,
             "test": [
              0.321286966
             ]
            },
            {
             "iteration": 436,
             "learn": [
              0.0832073199
             ],
             "passed_time": 113.1532847,
             "remaining_time": 145.7787169,
             "test": [
              0.3211224753
             ]
            },
            {
             "iteration": 437,
             "learn": [
              0.08311001365
             ],
             "passed_time": 113.3810734,
             "remaining_time": 145.4798248,
             "test": [
              0.3211765119
             ]
            },
            {
             "iteration": 438,
             "learn": [
              0.0829722799
             ],
             "passed_time": 113.603907,
             "remaining_time": 145.1749244,
             "test": [
              0.321090424
             ]
            },
            {
             "iteration": 439,
             "learn": [
              0.08267576716
             ],
             "passed_time": 113.849562,
             "remaining_time": 144.8994425,
             "test": [
              0.321326859
             ]
            },
            {
             "iteration": 440,
             "learn": [
              0.08241167219
             ],
             "passed_time": 114.1345166,
             "remaining_time": 144.673911,
             "test": [
              0.3211858672
             ]
            },
            {
             "iteration": 441,
             "learn": [
              0.08220763876
             ],
             "passed_time": 114.3814348,
             "remaining_time": 144.400092,
             "test": [
              0.3212904456
             ]
            },
            {
             "iteration": 442,
             "learn": [
              0.08179511309
             ],
             "passed_time": 114.6490764,
             "remaining_time": 144.1524505,
             "test": [
              0.3215829863
             ]
            },
            {
             "iteration": 443,
             "learn": [
              0.0816354432
             ],
             "passed_time": 114.9180437,
             "remaining_time": 143.906379,
             "test": [
              0.321523313
             ]
            },
            {
             "iteration": 444,
             "learn": [
              0.08145805317
             ],
             "passed_time": 115.1744799,
             "remaining_time": 143.644576,
             "test": [
              0.3217217705
             ]
            },
            {
             "iteration": 445,
             "learn": [
              0.08113490426
             ],
             "passed_time": 115.4505017,
             "remaining_time": 143.4071254,
             "test": [
              0.3216739264
             ]
            },
            {
             "iteration": 446,
             "learn": [
              0.08099665716
             ],
             "passed_time": 115.6721232,
             "remaining_time": 143.1022016,
             "test": [
              0.3216756074
             ]
            },
            {
             "iteration": 447,
             "learn": [
              0.0808757579
             ],
             "passed_time": 115.942979,
             "remaining_time": 142.8583134,
             "test": [
              0.321747352
             ]
            },
            {
             "iteration": 448,
             "learn": [
              0.08077566341
             ],
             "passed_time": 116.186408,
             "remaining_time": 142.5806476,
             "test": [
              0.3218455125
             ]
            },
            {
             "iteration": 449,
             "learn": [
              0.08053579222
             ],
             "passed_time": 116.4544387,
             "remaining_time": 142.3332028,
             "test": [
              0.3218431716
             ]
            },
            {
             "iteration": 450,
             "learn": [
              0.08032971477
             ],
             "passed_time": 116.7230283,
             "remaining_time": 142.0863471,
             "test": [
              0.3220735038
             ]
            },
            {
             "iteration": 451,
             "learn": [
              0.08014372646
             ],
             "passed_time": 117.0224057,
             "remaining_time": 141.8767219,
             "test": [
              0.3221208561
             ]
            },
            {
             "iteration": 452,
             "learn": [
              0.07998007384
             ],
             "passed_time": 117.3755002,
             "remaining_time": 141.7315642,
             "test": [
              0.3222357915
             ]
            },
            {
             "iteration": 453,
             "learn": [
              0.07980261213
             ],
             "passed_time": 117.7186951,
             "remaining_time": 141.5735848,
             "test": [
              0.3222590392
             ]
            },
            {
             "iteration": 454,
             "learn": [
              0.07964147391
             ],
             "passed_time": 118.0264469,
             "remaining_time": 141.3723375,
             "test": [
              0.3221397848
             ]
            },
            {
             "iteration": 455,
             "learn": [
              0.07956744718
             ],
             "passed_time": 118.4308066,
             "remaining_time": 141.2858745,
             "test": [
              0.3221423399
             ]
            },
            {
             "iteration": 456,
             "learn": [
              0.07951001834
             ],
             "passed_time": 118.7424862,
             "remaining_time": 141.0878994,
             "test": [
              0.3221561901
             ]
            },
            {
             "iteration": 457,
             "learn": [
              0.07925046348
             ],
             "passed_time": 118.9643122,
             "remaining_time": 140.7830943,
             "test": [
              0.3224064341
             ]
            },
            {
             "iteration": 458,
             "learn": [
              0.07906278381
             ],
             "passed_time": 119.1915406,
             "remaining_time": 140.4850184,
             "test": [
              0.3224667428
             ]
            },
            {
             "iteration": 459,
             "learn": [
              0.07881247432
             ],
             "passed_time": 119.457064,
             "remaining_time": 140.2322055,
             "test": [
              0.3225165974
             ]
            },
            {
             "iteration": 460,
             "learn": [
              0.07863803148
             ],
             "passed_time": 119.7190985,
             "remaining_time": 139.9752584,
             "test": [
              0.3225371419
             ]
            },
            {
             "iteration": 461,
             "learn": [
              0.07834149221
             ],
             "passed_time": 119.9612965,
             "remaining_time": 139.6951895,
             "test": [
              0.3224160191
             ]
            },
            {
             "iteration": 462,
             "learn": [
              0.07819560375
             ],
             "passed_time": 120.2302352,
             "remaining_time": 139.4462988,
             "test": [
              0.3223714627
             ]
            },
            {
             "iteration": 463,
             "learn": [
              0.07800220056
             ],
             "passed_time": 120.5358071,
             "remaining_time": 139.2396392,
             "test": [
              0.3224349505
             ]
            },
            {
             "iteration": 464,
             "learn": [
              0.07790527368
             ],
             "passed_time": 120.8002304,
             "remaining_time": 138.9852113,
             "test": [
              0.3225096821
             ]
            },
            {
             "iteration": 465,
             "learn": [
              0.07778304241
             ],
             "passed_time": 121.0551815,
             "remaining_time": 138.7198861,
             "test": [
              0.3225901214
             ]
            },
            {
             "iteration": 466,
             "learn": [
              0.07768819378
             ],
             "passed_time": 121.3279171,
             "remaining_time": 138.4749033,
             "test": [
              0.3225243504
             ]
            },
            {
             "iteration": 467,
             "learn": [
              0.07753040048
             ],
             "passed_time": 121.6007887,
             "remaining_time": 138.2299564,
             "test": [
              0.322617163
             ]
            },
            {
             "iteration": 468,
             "learn": [
              0.07720770964
             ],
             "passed_time": 121.8312677,
             "remaining_time": 137.9368938,
             "test": [
              0.3226824645
             ]
            },
            {
             "iteration": 469,
             "learn": [
              0.07703172816
             ],
             "passed_time": 122.0763224,
             "remaining_time": 137.6605338,
             "test": [
              0.3228375124
             ]
            },
            {
             "iteration": 470,
             "learn": [
              0.07679051266
             ],
             "passed_time": 122.3010955,
             "remaining_time": 137.3615276,
             "test": [
              0.322889739
             ]
            },
            {
             "iteration": 471,
             "learn": [
              0.0766234059
             ],
             "passed_time": 122.5471787,
             "remaining_time": 137.0866745,
             "test": [
              0.3230178467
             ]
            },
            {
             "iteration": 472,
             "learn": [
              0.07656484394
             ],
             "passed_time": 122.8338306,
             "remaining_time": 136.8571432,
             "test": [
              0.3230622773
             ]
            },
            {
             "iteration": 473,
             "learn": [
              0.07645613198
             ],
             "passed_time": 123.0881052,
             "remaining_time": 136.5914416,
             "test": [
              0.3231258417
             ]
            },
            {
             "iteration": 474,
             "learn": [
              0.07622401471
             ],
             "passed_time": 123.3260456,
             "remaining_time": 136.3077346,
             "test": [
              0.3232032754
             ]
            },
            {
             "iteration": 475,
             "learn": [
              0.07611936376
             ],
             "passed_time": 123.5478287,
             "remaining_time": 136.0064332,
             "test": [
              0.3233248544
             ]
            },
            {
             "iteration": 476,
             "learn": [
              0.07589917243
             ],
             "passed_time": 123.7994509,
             "remaining_time": 135.7381821,
             "test": [
              0.3234278292
             ]
            },
            {
             "iteration": 477,
             "learn": [
              0.07572161405
             ],
             "passed_time": 124.0784414,
             "remaining_time": 135.4998879,
             "test": [
              0.3235098555
             ]
            },
            {
             "iteration": 478,
             "learn": [
              0.07567648869
             ],
             "passed_time": 124.355713,
             "remaining_time": 135.2595542,
             "test": [
              0.3235674065
             ]
            },
            {
             "iteration": 479,
             "learn": [
              0.07548963031
             ],
             "passed_time": 124.6056452,
             "remaining_time": 134.989449,
             "test": [
              0.3238731751
             ]
            },
            {
             "iteration": 480,
             "learn": [
              0.07529930513
             ],
             "passed_time": 124.8411686,
             "remaining_time": 134.7038804,
             "test": [
              0.3240434233
             ]
            },
            {
             "iteration": 481,
             "learn": [
              0.07520455868
             ],
             "passed_time": 125.0747986,
             "remaining_time": 134.4164848,
             "test": [
              0.3241095251
             ]
            },
            {
             "iteration": 482,
             "learn": [
              0.07509717177
             ],
             "passed_time": 125.3453723,
             "remaining_time": 134.168856,
             "test": [
              0.3242664816
             ]
            },
            {
             "iteration": 483,
             "learn": [
              0.07498776635
             ],
             "passed_time": 125.6048762,
             "remaining_time": 133.9093308,
             "test": [
              0.3243618736
             ]
            },
            {
             "iteration": 484,
             "learn": [
              0.07472681416
             ],
             "passed_time": 125.8290641,
             "remaining_time": 133.6123052,
             "test": [
              0.3243426519
             ]
            },
            {
             "iteration": 485,
             "learn": [
              0.07447306727
             ],
             "passed_time": 126.0528415,
             "remaining_time": 133.3151452,
             "test": [
              0.3244847043
             ]
            },
            {
             "iteration": 486,
             "learn": [
              0.07434529117
             ],
             "passed_time": 126.3000686,
             "remaining_time": 133.0429881,
             "test": [
              0.3245705755
             ]
            },
            {
             "iteration": 487,
             "learn": [
              0.07415846218
             ],
             "passed_time": 126.5680193,
             "remaining_time": 132.792676,
             "test": [
              0.3246780037
             ]
            },
            {
             "iteration": 488,
             "learn": [
              0.07401682564
             ],
             "passed_time": 126.8333969,
             "remaining_time": 132.5396029,
             "test": [
              0.3248188889
             ]
            },
            {
             "iteration": 489,
             "learn": [
              0.07386601181
             ],
             "passed_time": 127.1199172,
             "remaining_time": 132.3084853,
             "test": [
              0.3247220246
             ]
            },
            {
             "iteration": 490,
             "learn": [
              0.07374902355
             ],
             "passed_time": 127.3845211,
             "remaining_time": 132.0544221,
             "test": [
              0.3247361246
             ]
            },
            {
             "iteration": 491,
             "learn": [
              0.07354635985
             ],
             "passed_time": 127.6158031,
             "remaining_time": 131.7659105,
             "test": [
              0.3250618475
             ]
            },
            {
             "iteration": 492,
             "learn": [
              0.07327731011
             ],
             "passed_time": 127.8630678,
             "remaining_time": 131.4940676,
             "test": [
              0.3251285662
             ]
            },
            {
             "iteration": 493,
             "learn": [
              0.07312723366
             ],
             "passed_time": 128.1012942,
             "remaining_time": 131.2130665,
             "test": [
              0.3251023792
             ]
            },
            {
             "iteration": 494,
             "learn": [
              0.07303885521
             ],
             "passed_time": 128.4011553,
             "remaining_time": 130.995118,
             "test": [
              0.3250809108
             ]
            },
            {
             "iteration": 495,
             "learn": [
              0.07296317676
             ],
             "passed_time": 128.680406,
             "remaining_time": 130.7558964,
             "test": [
              0.3251327245
             ]
            },
            {
             "iteration": 496,
             "learn": [
              0.07288222803
             ],
             "passed_time": 128.9370895,
             "remaining_time": 130.4936741,
             "test": [
              0.3252938082
             ]
            },
            {
             "iteration": 497,
             "learn": [
              0.07279599187
             ],
             "passed_time": 129.2080036,
             "remaining_time": 130.2458189,
             "test": [
              0.3252952699
             ]
            },
            {
             "iteration": 498,
             "learn": [
              0.07265977397
             ],
             "passed_time": 129.4925128,
             "remaining_time": 130.0115209,
             "test": [
              0.3251560085
             ]
            },
            {
             "iteration": 499,
             "learn": [
              0.07253466708
             ],
             "passed_time": 129.7748243,
             "remaining_time": 129.7748243,
             "test": [
              0.3251992865
             ]
            },
            {
             "iteration": 500,
             "learn": [
              0.0722420201
             ],
             "passed_time": 130.0040961,
             "remaining_time": 129.4851176,
             "test": [
              0.3254950023
             ]
            },
            {
             "iteration": 501,
             "learn": [
              0.07207486387
             ],
             "passed_time": 130.2592672,
             "remaining_time": 129.2213447,
             "test": [
              0.3256079442
             ]
            },
            {
             "iteration": 502,
             "learn": [
              0.07204125993
             ],
             "passed_time": 130.553915,
             "remaining_time": 128.9966119,
             "test": [
              0.3256533314
             ]
            },
            {
             "iteration": 503,
             "learn": [
              0.07197565563
             ],
             "passed_time": 130.8028194,
             "remaining_time": 128.7265842,
             "test": [
              0.3257819205
             ]
            },
            {
             "iteration": 504,
             "learn": [
              0.07179122859
             ],
             "passed_time": 131.074994,
             "remaining_time": 128.4794495,
             "test": [
              0.3259447693
             ]
            },
            {
             "iteration": 505,
             "learn": [
              0.07156312303
             ],
             "passed_time": 131.3022781,
             "remaining_time": 128.1883901,
             "test": [
              0.3262277127
             ]
            },
            {
             "iteration": 506,
             "learn": [
              0.07143635814
             ],
             "passed_time": 131.5680804,
             "remaining_time": 127.9350367,
             "test": [
              0.326325955
             ]
            },
            {
             "iteration": 507,
             "learn": [
              0.07136287423
             ],
             "passed_time": 131.8133647,
             "remaining_time": 127.6617627,
             "test": [
              0.3263348301
             ]
            },
            {
             "iteration": 508,
             "learn": [
              0.07124846193
             ],
             "passed_time": 132.0530228,
             "remaining_time": 127.3831713,
             "test": [
              0.3263316986
             ]
            },
            {
             "iteration": 509,
             "learn": [
              0.07100940212
             ],
             "passed_time": 132.3037481,
             "remaining_time": 127.1153659,
             "test": [
              0.3263806741
             ]
            },
            {
             "iteration": 510,
             "learn": [
              0.07077699563
             ],
             "passed_time": 132.5403935,
             "remaining_time": 126.8341534,
             "test": [
              0.326338713
             ]
            },
            {
             "iteration": 511,
             "learn": [
              0.07064926563
             ],
             "passed_time": 132.8066589,
             "remaining_time": 126.5813468,
             "test": [
              0.3264187002
             ]
            },
            {
             "iteration": 512,
             "learn": [
              0.07047297541
             ],
             "passed_time": 133.0751427,
             "remaining_time": 126.3305936,
             "test": [
              0.3263369933
             ]
            },
            {
             "iteration": 513,
             "learn": [
              0.0702963595
             ],
             "passed_time": 133.3022178,
             "remaining_time": 126.0406184,
             "test": [
              0.326540303
             ]
            },
            {
             "iteration": 514,
             "learn": [
              0.07016903646
             ],
             "passed_time": 133.5696711,
             "remaining_time": 125.7889136,
             "test": [
              0.3266148568
             ]
            },
            {
             "iteration": 515,
             "learn": [
              0.0699955164
             ],
             "passed_time": 133.8266859,
             "remaining_time": 125.5273566,
             "test": [
              0.326642656
             ]
            },
            {
             "iteration": 516,
             "learn": [
              0.0697500416
             ],
             "passed_time": 134.0558523,
             "remaining_time": 125.2398001,
             "test": [
              0.3269292964
             ]
            },
            {
             "iteration": 517,
             "learn": [
              0.06956374874
             ],
             "passed_time": 134.3065264,
             "remaining_time": 124.9724821,
             "test": [
              0.3271403837
             ]
            },
            {
             "iteration": 518,
             "learn": [
              0.06943443436
             ],
             "passed_time": 134.5359587,
             "remaining_time": 124.6855417,
             "test": [
              0.3272397001
             ]
            },
            {
             "iteration": 519,
             "learn": [
              0.06928655285
             ],
             "passed_time": 134.7856303,
             "remaining_time": 124.4175049,
             "test": [
              0.327384281
             ]
            },
            {
             "iteration": 520,
             "learn": [
              0.06921544728
             ],
             "passed_time": 135.0411683,
             "remaining_time": 124.1549321,
             "test": [
              0.3274156775
             ]
            },
            {
             "iteration": 521,
             "learn": [
              0.06911451074
             ],
             "passed_time": 135.3293943,
             "remaining_time": 123.9223189,
             "test": [
              0.3275844545
             ]
            },
            {
             "iteration": 522,
             "learn": [
              0.06895867427
             ],
             "passed_time": 135.6136511,
             "remaining_time": 123.6858729,
             "test": [
              0.3277401059
             ]
            },
            {
             "iteration": 523,
             "learn": [
              0.06866093715
             ],
             "passed_time": 135.8391902,
             "remaining_time": 123.3959056,
             "test": [
              0.3278692934
             ]
            },
            {
             "iteration": 524,
             "learn": [
              0.06845980543
             ],
             "passed_time": 136.0622945,
             "remaining_time": 123.1039807,
             "test": [
              0.3278341436
             ]
            },
            {
             "iteration": 525,
             "learn": [
              0.06832400027
             ],
             "passed_time": 136.3257274,
             "remaining_time": 122.8486593,
             "test": [
              0.3279853006
             ]
            },
            {
             "iteration": 526,
             "learn": [
              0.06812656391
             ],
             "passed_time": 136.6149868,
             "remaining_time": 122.6164872,
             "test": [
              0.3281978062
             ]
            },
            {
             "iteration": 527,
             "learn": [
              0.06799948055
             ],
             "passed_time": 136.8435919,
             "remaining_time": 122.3298776,
             "test": [
              0.3281957072
             ]
            },
            {
             "iteration": 528,
             "learn": [
              0.06788346917
             ],
             "passed_time": 137.1166322,
             "remaining_time": 122.0830506,
             "test": [
              0.3282440401
             ]
            },
            {
             "iteration": 529,
             "learn": [
              0.06781721717
             ],
             "passed_time": 137.3880205,
             "remaining_time": 121.8346597,
             "test": [
              0.3282301447
             ]
            },
            {
             "iteration": 530,
             "learn": [
              0.06770606997
             ],
             "passed_time": 137.6220789,
             "remaining_time": 121.5532109,
             "test": [
              0.3282267451
             ]
            },
            {
             "iteration": 531,
             "learn": [
              0.06753902619
             ],
             "passed_time": 137.8750499,
             "remaining_time": 121.2885777,
             "test": [
              0.3283270499
             ]
            },
            {
             "iteration": 532,
             "learn": [
              0.06739668345
             ],
             "passed_time": 138.1550267,
             "remaining_time": 121.04765,
             "test": [
              0.3285180214
             ]
            },
            {
             "iteration": 533,
             "learn": [
              0.06729772101
             ],
             "passed_time": 138.3846808,
             "remaining_time": 120.7626615,
             "test": [
              0.3285818515
             ]
            },
            {
             "iteration": 534,
             "learn": [
              0.06710660923
             ],
             "passed_time": 138.6302221,
             "remaining_time": 120.4916883,
             "test": [
              0.3287154067
             ]
            },
            {
             "iteration": 535,
             "learn": [
              0.06698994188
             ],
             "passed_time": 138.8897035,
             "remaining_time": 120.2328777,
             "test": [
              0.3287859302
             ]
            },
            {
             "iteration": 536,
             "learn": [
              0.06693998122
             ],
             "passed_time": 139.1248408,
             "remaining_time": 119.953075,
             "test": [
              0.3287991473
             ]
            },
            {
             "iteration": 537,
             "learn": [
              0.0667488979
             ],
             "passed_time": 139.3557644,
             "remaining_time": 119.66982,
             "test": [
              0.3289537054
             ]
            },
            {
             "iteration": 538,
             "learn": [
              0.06655957861
             ],
             "passed_time": 139.5904716,
             "remaining_time": 119.3899952,
             "test": [
              0.3291412221
             ]
            },
            {
             "iteration": 539,
             "learn": [
              0.06637766449
             ],
             "passed_time": 139.8241987,
             "remaining_time": 119.1095026,
             "test": [
              0.3291980468
             ]
            },
            {
             "iteration": 540,
             "learn": [
              0.06628613148
             ],
             "passed_time": 140.0705535,
             "remaining_time": 118.8398966,
             "test": [
              0.3292496244
             ]
            },
            {
             "iteration": 541,
             "learn": [
              0.06594037847
             ],
             "passed_time": 140.3195907,
             "remaining_time": 118.5726431,
             "test": [
              0.3291294868
             ]
            },
            {
             "iteration": 542,
             "learn": [
              0.06582409795
             ],
             "passed_time": 140.5883949,
             "remaining_time": 118.3220929,
             "test": [
              0.3292002655
             ]
            },
            {
             "iteration": 543,
             "learn": [
              0.06564011376
             ],
             "passed_time": 140.8665217,
             "remaining_time": 118.0792902,
             "test": [
              0.3293193047
             ]
            },
            {
             "iteration": 544,
             "learn": [
              0.06551335363
             ],
             "passed_time": 141.140889,
             "remaining_time": 117.8332193,
             "test": [
              0.3295044505
             ]
            },
            {
             "iteration": 545,
             "learn": [
              0.065377959
             ],
             "passed_time": 141.4018061,
             "remaining_time": 117.5758608,
             "test": [
              0.3295760682
             ]
            },
            {
             "iteration": 546,
             "learn": [
              0.06521339019
             ],
             "passed_time": 141.6819373,
             "remaining_time": 117.3344014,
             "test": [
              0.3296220044
             ]
            },
            {
             "iteration": 547,
             "learn": [
              0.06517130376
             ],
             "passed_time": 141.9411585,
             "remaining_time": 117.0755541,
             "test": [
              0.3296673958
             ]
            },
            {
             "iteration": 548,
             "learn": [
              0.06504740857
             ],
             "passed_time": 142.1762277,
             "remaining_time": 116.7968646,
             "test": [
              0.3297298695
             ]
            },
            {
             "iteration": 549,
             "learn": [
              0.06496325572
             ],
             "passed_time": 142.4436597,
             "remaining_time": 116.5448125,
             "test": [
              0.3298234804
             ]
            },
            {
             "iteration": 550,
             "learn": [
              0.06482441122
             ],
             "passed_time": 142.6715667,
             "remaining_time": 116.2604963,
             "test": [
              0.3298878501
             ]
            },
            {
             "iteration": 551,
             "learn": [
              0.06473804101
             ],
             "passed_time": 142.9384077,
             "remaining_time": 116.007983,
             "test": [
              0.3298776838
             ]
            },
            {
             "iteration": 552,
             "learn": [
              0.06461401782
             ],
             "passed_time": 143.1676353,
             "remaining_time": 115.7250144,
             "test": [
              0.3300345756
             ]
            },
            {
             "iteration": 553,
             "learn": [
              0.06450640365
             ],
             "passed_time": 143.4281229,
             "remaining_time": 115.4674058,
             "test": [
              0.3301894257
             ]
            },
            {
             "iteration": 554,
             "learn": [
              0.06439742496
             ],
             "passed_time": 143.69271,
             "remaining_time": 115.2130738,
             "test": [
              0.3303106127
             ]
            },
            {
             "iteration": 555,
             "learn": [
              0.06427979024
             ],
             "passed_time": 143.9318212,
             "remaining_time": 114.9383608,
             "test": [
              0.3303715277
             ]
            },
            {
             "iteration": 556,
             "learn": [
              0.06420684356
             ],
             "passed_time": 144.1895919,
             "remaining_time": 114.6786162,
             "test": [
              0.3305122665
             ]
            },
            {
             "iteration": 557,
             "learn": [
              0.06417319958
             ],
             "passed_time": 144.4724241,
             "remaining_time": 114.4387302,
             "test": [
              0.3304513769
             ]
            },
            {
             "iteration": 558,
             "learn": [
              0.063999789
             ],
             "passed_time": 144.7010468,
             "remaining_time": 114.1559242,
             "test": [
              0.3307446207
             ]
            },
            {
             "iteration": 559,
             "learn": [
              0.06383079818
             ],
             "passed_time": 144.9810187,
             "remaining_time": 113.9136576,
             "test": [
              0.3306743738
             ]
            },
            {
             "iteration": 560,
             "learn": [
              0.06373834728
             ],
             "passed_time": 145.2533757,
             "remaining_time": 113.6652975,
             "test": [
              0.3306279801
             ]
            },
            {
             "iteration": 561,
             "learn": [
              0.0635134129
             ],
             "passed_time": 145.4822695,
             "remaining_time": 113.3829787,
             "test": [
              0.3308959818
             ]
            },
            {
             "iteration": 562,
             "learn": [
              0.06338399273
             ],
             "passed_time": 145.7409634,
             "remaining_time": 113.1239805,
             "test": [
              0.3310812399
             ]
            },
            {
             "iteration": 563,
             "learn": [
              0.06333629009
             ],
             "passed_time": 146.0097126,
             "remaining_time": 112.8727566,
             "test": [
              0.3311008946
             ]
            },
            {
             "iteration": 564,
             "learn": [
              0.06321131978
             ],
             "passed_time": 146.2372594,
             "remaining_time": 112.5897484,
             "test": [
              0.3311386417
             ]
            },
            {
             "iteration": 565,
             "learn": [
              0.06311611933
             ],
             "passed_time": 146.5253411,
             "remaining_time": 112.3533534,
             "test": [
              0.331092721
             ]
            },
            {
             "iteration": 566,
             "learn": [
              0.06295012304
             ],
             "passed_time": 146.7602337,
             "remaining_time": 112.0761573,
             "test": [
              0.3312177054
             ]
            },
            {
             "iteration": 567,
             "learn": [
              0.06278111779
             ],
             "passed_time": 146.9871576,
             "remaining_time": 111.7930495,
             "test": [
              0.3314008462
             ]
            },
            {
             "iteration": 568,
             "learn": [
              0.06258830819
             ],
             "passed_time": 147.2429907,
             "remaining_time": 111.5320369,
             "test": [
              0.3317222227
             ]
            },
            {
             "iteration": 569,
             "learn": [
              0.06246073594
             ],
             "passed_time": 147.49133,
             "remaining_time": 111.2653893,
             "test": [
              0.3316603968
             ]
            },
            {
             "iteration": 570,
             "learn": [
              0.06235350192
             ],
             "passed_time": 147.7512977,
             "remaining_time": 111.0075424,
             "test": [
              0.3317352214
             ]
            },
            {
             "iteration": 571,
             "learn": [
              0.06215259771
             ],
             "passed_time": 148.0352025,
             "remaining_time": 110.767599,
             "test": [
              0.3318334391
             ]
            },
            {
             "iteration": 572,
             "learn": [
              0.06200771592
             ],
             "passed_time": 148.3065,
             "remaining_time": 110.5181073,
             "test": [
              0.3319275865
             ]
            },
            {
             "iteration": 573,
             "learn": [
              0.06178686747
             ],
             "passed_time": 148.5541785,
             "remaining_time": 110.2510106,
             "test": [
              0.331971039
             ]
            },
            {
             "iteration": 574,
             "learn": [
              0.06167339517
             ],
             "passed_time": 148.8291048,
             "remaining_time": 110.0041209,
             "test": [
              0.3319689309
             ]
            },
            {
             "iteration": 575,
             "learn": [
              0.06159267338
             ],
             "passed_time": 149.08256,
             "remaining_time": 109.7413289,
             "test": [
              0.3319739124
             ]
            },
            {
             "iteration": 576,
             "learn": [
              0.061513199
             ],
             "passed_time": 149.3995413,
             "remaining_time": 109.5251404,
             "test": [
              0.3319800386
             ]
            },
            {
             "iteration": 577,
             "learn": [
              0.06144547663
             ],
             "passed_time": 149.7517595,
             "remaining_time": 109.3343296,
             "test": [
              0.3318643479
             ]
            },
            {
             "iteration": 578,
             "learn": [
              0.06135367318
             ],
             "passed_time": 150.085073,
             "remaining_time": 109.1292155,
             "test": [
              0.3319198341
             ]
            },
            {
             "iteration": 579,
             "learn": [
              0.06125961885
             ],
             "passed_time": 150.4318028,
             "remaining_time": 108.9333744,
             "test": [
              0.3320088273
             ]
            },
            {
             "iteration": 580,
             "learn": [
              0.06110218208
             ],
             "passed_time": 150.7416723,
             "remaining_time": 108.7104315,
             "test": [
              0.33200049
             ]
            },
            {
             "iteration": 581,
             "learn": [
              0.06090034064
             ],
             "passed_time": 151.0879132,
             "remaining_time": 108.5133122,
             "test": [
              0.3320975568
             ]
            },
            {
             "iteration": 582,
             "learn": [
              0.06068720347
             ],
             "passed_time": 151.3291829,
             "remaining_time": 108.2405991,
             "test": [
              0.3321114186
             ]
            },
            {
             "iteration": 583,
             "learn": [
              0.06062840431
             ],
             "passed_time": 151.6203179,
             "remaining_time": 108.0035141,
             "test": [
              0.3322348092
             ]
            },
            {
             "iteration": 584,
             "learn": [
              0.06045802552
             ],
             "passed_time": 151.848401,
             "remaining_time": 107.7215152,
             "test": [
              0.3324467199
             ]
            },
            {
             "iteration": 585,
             "learn": [
              0.06038363519
             ],
             "passed_time": 152.1175768,
             "remaining_time": 107.4687317,
             "test": [
              0.3326025746
             ]
            },
            {
             "iteration": 586,
             "learn": [
              0.06021169784
             ],
             "passed_time": 152.3599673,
             "remaining_time": 107.1970469,
             "test": [
              0.3325731943
             ]
            },
            {
             "iteration": 587,
             "learn": [
              0.06006804841
             ],
             "passed_time": 152.6199879,
             "remaining_time": 106.9378146,
             "test": [
              0.3326776411
             ]
            },
            {
             "iteration": 588,
             "learn": [
              0.05986985796
             ],
             "passed_time": 152.8447212,
             "remaining_time": 106.6539565,
             "test": [
              0.3327985315
             ]
            },
            {
             "iteration": 589,
             "learn": [
              0.05980907827
             ],
             "passed_time": 153.1217219,
             "remaining_time": 106.4066203,
             "test": [
              0.3329407923
             ]
            },
            {
             "iteration": 590,
             "learn": [
              0.0597669791
             ],
             "passed_time": 153.3992714,
             "remaining_time": 106.1595634,
             "test": [
              0.3329953782
             ]
            },
            {
             "iteration": 591,
             "learn": [
              0.05964229776
             ],
             "passed_time": 153.6590601,
             "remaining_time": 105.900163,
             "test": [
              0.3332060817
             ]
            },
            {
             "iteration": 592,
             "learn": [
              0.05960119106
             ],
             "passed_time": 153.9393617,
             "remaining_time": 105.6548401,
             "test": [
              0.3332191079
             ]
            },
            {
             "iteration": 593,
             "learn": [
              0.05955149034
             ],
             "passed_time": 154.2231219,
             "remaining_time": 105.4117634,
             "test": [
              0.3331997112
             ]
            },
            {
             "iteration": 594,
             "learn": [
              0.05935716104
             ],
             "passed_time": 154.4524565,
             "remaining_time": 105.131504,
             "test": [
              0.3334066607
             ]
            },
            {
             "iteration": 595,
             "learn": [
              0.05925520582
             ],
             "passed_time": 154.7266223,
             "remaining_time": 104.8818044,
             "test": [
              0.3334449256
             ]
            },
            {
             "iteration": 596,
             "learn": [
              0.05905779252
             ],
             "passed_time": 155.081702,
             "remaining_time": 104.686643,
             "test": [
              0.3336714645
             ]
            },
            {
             "iteration": 597,
             "learn": [
              0.05898516571
             ],
             "passed_time": 155.3402656,
             "remaining_time": 104.4260648,
             "test": [
              0.3336524603
             ]
            },
            {
             "iteration": 598,
             "learn": [
              0.05883410039
             ],
             "passed_time": 155.5684139,
             "remaining_time": 104.1451318,
             "test": [
              0.333722097
             ]
            },
            {
             "iteration": 599,
             "learn": [
              0.05876915933
             ],
             "passed_time": 155.7945052,
             "remaining_time": 103.8630035,
             "test": [
              0.3337351918
             ]
            },
            {
             "iteration": 600,
             "learn": [
              0.0586390449
             ],
             "passed_time": 156.066195,
             "remaining_time": 103.6113341,
             "test": [
              0.3339588629
             ]
            },
            {
             "iteration": 601,
             "learn": [
              0.05853171069
             ],
             "passed_time": 156.3146934,
             "remaining_time": 103.3442657,
             "test": [
              0.334091038
             ]
            },
            {
             "iteration": 602,
             "learn": [
              0.05835653364
             ],
             "passed_time": 156.5772858,
             "remaining_time": 103.0865381,
             "test": [
              0.3342690254
             ]
            },
            {
             "iteration": 603,
             "learn": [
              0.05828319172
             ],
             "passed_time": 156.84344,
             "remaining_time": 102.8311295,
             "test": [
              0.3342403592
             ]
            },
            {
             "iteration": 604,
             "learn": [
              0.05819258876
             ],
             "passed_time": 157.1259057,
             "remaining_time": 102.5863351,
             "test": [
              0.3342451903
             ]
            },
            {
             "iteration": 605,
             "learn": [
              0.05808784912
             ],
             "passed_time": 157.3804731,
             "remaining_time": 102.3232779,
             "test": [
              0.3342873304
             ]
            },
            {
             "iteration": 606,
             "learn": [
              0.05803252657
             ],
             "passed_time": 157.6030378,
             "remaining_time": 102.0395286,
             "test": [
              0.3342975129
             ]
            },
            {
             "iteration": 607,
             "learn": [
              0.05793733986
             ],
             "passed_time": 157.8317213,
             "remaining_time": 101.7599255,
             "test": [
              0.3343934365
             ]
            },
            {
             "iteration": 608,
             "learn": [
              0.05783740748
             ],
             "passed_time": 158.1047063,
             "remaining_time": 101.508933,
             "test": [
              0.3344275547
             ]
            },
            {
             "iteration": 609,
             "learn": [
              0.05763829799
             ],
             "passed_time": 158.3437068,
             "remaining_time": 101.2361404,
             "test": [
              0.3347216546
             ]
            },
            {
             "iteration": 610,
             "learn": [
              0.05742441909
             ],
             "passed_time": 158.5706906,
             "remaining_time": 100.9558079,
             "test": [
              0.3349216069
             ]
            },
            {
             "iteration": 611,
             "learn": [
              0.0573265477
             ],
             "passed_time": 158.793269,
             "remaining_time": 100.6728568,
             "test": [
              0.3349999108
             ]
            },
            {
             "iteration": 612,
             "learn": [
              0.05718854499
             ],
             "passed_time": 159.0187773,
             "remaining_time": 100.3919524,
             "test": [
              0.3349027755
             ]
            },
            {
             "iteration": 613,
             "learn": [
              0.05710674019
             ],
             "passed_time": 159.3005086,
             "remaining_time": 100.1465738,
             "test": [
              0.3350030297
             ]
            },
            {
             "iteration": 614,
             "learn": [
              0.05704380574
             ],
             "passed_time": 159.5749504,
             "remaining_time": 99.8965137,
             "test": [
              0.3350258841
             ]
            },
            {
             "iteration": 615,
             "learn": [
              0.05693672384
             ],
             "passed_time": 159.8322924,
             "remaining_time": 99.63571474,
             "test": [
              0.3351227066
             ]
            },
            {
             "iteration": 616,
             "learn": [
              0.05678919118
             ],
             "passed_time": 160.1059655,
             "remaining_time": 99.38506446,
             "test": [
              0.3352844056
             ]
            },
            {
             "iteration": 617,
             "learn": [
              0.05670157655
             ],
             "passed_time": 160.4158647,
             "remaining_time": 99.15673191,
             "test": [
              0.335298011
             ]
            },
            {
             "iteration": 618,
             "learn": [
              0.05655154547
             ],
             "passed_time": 160.6485766,
             "remaining_time": 98.88062629,
             "test": [
              0.3353910638
             ]
            },
            {
             "iteration": 619,
             "learn": [
              0.05640547096
             ],
             "passed_time": 160.8935729,
             "remaining_time": 98.61218986,
             "test": [
              0.3356973206
             ]
            },
            {
             "iteration": 620,
             "learn": [
              0.05631370671
             ],
             "passed_time": 161.1681464,
             "remaining_time": 98.36187998,
             "test": [
              0.335743076
             ]
            },
            {
             "iteration": 621,
             "learn": [
              0.0561611923
             ],
             "passed_time": 161.3964219,
             "remaining_time": 98.08335609,
             "test": [
              0.3359384727
             ]
            },
            {
             "iteration": 622,
             "learn": [
              0.05605165172
             ],
             "passed_time": 161.6744831,
             "remaining_time": 97.83512057,
             "test": [
              0.3359558471
             ]
            },
            {
             "iteration": 623,
             "learn": [
              0.05590928814
             ],
             "passed_time": 161.9754203,
             "remaining_time": 97.60057379,
             "test": [
              0.3360215799
             ]
            },
            {
             "iteration": 624,
             "learn": [
              0.05582384838
             ],
             "passed_time": 162.2026762,
             "remaining_time": 97.32160574,
             "test": [
              0.3361398025
             ]
            },
            {
             "iteration": 625,
             "learn": [
              0.05572950593
             ],
             "passed_time": 162.4643416,
             "remaining_time": 97.06336065,
             "test": [
              0.3362946282
             ]
            },
            {
             "iteration": 626,
             "learn": [
              0.0556739531
             ],
             "passed_time": 162.7451824,
             "remaining_time": 96.81651201,
             "test": [
              0.3364134068
             ]
            },
            {
             "iteration": 627,
             "learn": [
              0.05548419931
             ],
             "passed_time": 163.026641,
             "remaining_time": 96.56992109,
             "test": [
              0.3362603757
             ]
            },
            {
             "iteration": 628,
             "learn": [
              0.05545052714
             ],
             "passed_time": 163.2877065,
             "remaining_time": 96.31119099,
             "test": [
              0.3363779618
             ]
            },
            {
             "iteration": 629,
             "learn": [
              0.0553919501
             ],
             "passed_time": 163.510199,
             "remaining_time": 96.0297994,
             "test": [
              0.3363930338
             ]
            },
            {
             "iteration": 630,
             "learn": [
              0.05536872414
             ],
             "passed_time": 163.7823309,
             "remaining_time": 95.77762297,
             "test": [
              0.3363647897
             ]
            },
            {
             "iteration": 631,
             "learn": [
              0.05514485651
             ],
             "passed_time": 164.0137207,
             "remaining_time": 95.50166015,
             "test": [
              0.336667474
             ]
            },
            {
             "iteration": 632,
             "learn": [
              0.05500529662
             ],
             "passed_time": 164.2944505,
             "remaining_time": 95.25444443,
             "test": [
              0.3367571336
             ]
            },
            {
             "iteration": 633,
             "learn": [
              0.05488204639
             ],
             "passed_time": 164.5531902,
             "remaining_time": 94.99442839,
             "test": [
              0.3369006211
             ]
            },
            {
             "iteration": 634,
             "learn": [
              0.05479255726
             ],
             "passed_time": 164.7810823,
             "remaining_time": 94.71668508,
             "test": [
              0.3370337538
             ]
            },
            {
             "iteration": 635,
             "learn": [
              0.05472569814
             ],
             "passed_time": 165.0304426,
             "remaining_time": 94.4513854,
             "test": [
              0.3371313392
             ]
            },
            {
             "iteration": 636,
             "learn": [
              0.05453334589
             ],
             "passed_time": 165.2592783,
             "remaining_time": 94.17443958,
             "test": [
              0.3371767809
             ]
            },
            {
             "iteration": 637,
             "learn": [
              0.05437739391
             ],
             "passed_time": 165.5074624,
             "remaining_time": 93.90862285,
             "test": [
              0.3373379823
             ]
            },
            {
             "iteration": 638,
             "learn": [
              0.05429131045
             ],
             "passed_time": 165.8034607,
             "remaining_time": 93.66987375,
             "test": [
              0.3374882461
             ]
            },
            {
             "iteration": 639,
             "learn": [
              0.05422285384
             ],
             "passed_time": 166.0348913,
             "remaining_time": 93.39462636,
             "test": [
              0.3375211753
             ]
            },
            {
             "iteration": 640,
             "learn": [
              0.05415249711
             ],
             "passed_time": 166.2703958,
             "remaining_time": 93.12179732,
             "test": [
              0.3377171536
             ]
            },
            {
             "iteration": 641,
             "learn": [
              0.05398313649
             ],
             "passed_time": 166.512521,
             "remaining_time": 92.85277648,
             "test": [
              0.3379699731
             ]
            },
            {
             "iteration": 642,
             "learn": [
              0.05394208474
             ],
             "passed_time": 166.7829772,
             "remaining_time": 92.59956899,
             "test": [
              0.3380007849
             ]
            },
            {
             "iteration": 643,
             "learn": [
              0.05381583378
             ],
             "passed_time": 167.0605046,
             "remaining_time": 92.35021683,
             "test": [
              0.338205571
             ]
            },
            {
             "iteration": 644,
             "learn": [
              0.05370397518
             ],
             "passed_time": 167.3574279,
             "remaining_time": 92.11145258,
             "test": [
              0.33819691
             ]
            },
            {
             "iteration": 645,
             "learn": [
              0.05362309668
             ],
             "passed_time": 167.6277339,
             "remaining_time": 91.85792231,
             "test": [
              0.3382133141
             ]
            },
            {
             "iteration": 646,
             "learn": [
              0.05354423925
             ],
             "passed_time": 167.8564612,
             "remaining_time": 91.58165504,
             "test": [
              0.3382766143
             ]
            },
            {
             "iteration": 647,
             "learn": [
              0.05342861618
             ],
             "passed_time": 168.086468,
             "remaining_time": 91.30622952,
             "test": [
              0.338493355
             ]
            },
            {
             "iteration": 648,
             "learn": [
              0.05323985969
             ],
             "passed_time": 168.3160323,
             "remaining_time": 91.03070466,
             "test": [
              0.3389533746
             ]
            },
            {
             "iteration": 649,
             "learn": [
              0.05311571629
             ],
             "passed_time": 168.5717602,
             "remaining_time": 90.76940933,
             "test": [
              0.3390476076
             ]
            },
            {
             "iteration": 650,
             "learn": [
              0.05303253492
             ],
             "passed_time": 168.8641472,
             "remaining_time": 90.52778398,
             "test": [
              0.3390882954
             ]
            },
            {
             "iteration": 651,
             "learn": [
              0.05284868378
             ],
             "passed_time": 169.1380764,
             "remaining_time": 90.27615119,
             "test": [
              0.339339309
             ]
            },
            {
             "iteration": 652,
             "learn": [
              0.05271755332
             ],
             "passed_time": 169.431155,
             "remaining_time": 90.03462599,
             "test": [
              0.339508606
             ]
            },
            {
             "iteration": 653,
             "learn": [
              0.0526305476
             ],
             "passed_time": 169.659252,
             "remaining_time": 89.75856454,
             "test": [
              0.3395738031
             ]
            },
            {
             "iteration": 654,
             "learn": [
              0.05258589547
             ],
             "passed_time": 169.9301,
             "remaining_time": 89.50516718,
             "test": [
              0.3396084438
             ]
            },
            {
             "iteration": 655,
             "learn": [
              0.05252834412
             ],
             "passed_time": 170.1715479,
             "remaining_time": 89.23629951,
             "test": [
              0.3396254778
             ]
            },
            {
             "iteration": 656,
             "learn": [
              0.05245417801
             ],
             "passed_time": 170.4827075,
             "remaining_time": 89.00390969,
             "test": [
              0.3397642099
             ]
            },
            {
             "iteration": 657,
             "learn": [
              0.05236147371
             ],
             "passed_time": 170.7171039,
             "remaining_time": 88.73138229,
             "test": [
              0.3398022676
             ]
            },
            {
             "iteration": 658,
             "learn": [
              0.05229008421
             ],
             "passed_time": 170.9525209,
             "remaining_time": 88.45949867,
             "test": [
              0.3398483189
             ]
            },
            {
             "iteration": 659,
             "learn": [
              0.05222373343
             ],
             "passed_time": 171.1889011,
             "remaining_time": 88.18822177,
             "test": [
              0.3400017904
             ]
            },
            {
             "iteration": 660,
             "learn": [
              0.05220843915
             ],
             "passed_time": 171.4555643,
             "remaining_time": 87.93258139,
             "test": [
              0.3400097541
             ]
            },
            {
             "iteration": 661,
             "learn": [
              0.05211652687
             ],
             "passed_time": 171.6872342,
             "remaining_time": 87.65904105,
             "test": [
              0.34012208
             ]
            },
            {
             "iteration": 662,
             "learn": [
              0.05206487623
             ],
             "passed_time": 171.9486391,
             "remaining_time": 87.40074112,
             "test": [
              0.3402550685
             ]
            },
            {
             "iteration": 663,
             "learn": [
              0.05202721409
             ],
             "passed_time": 172.210098,
             "remaining_time": 87.14245923,
             "test": [
              0.3402654462
             ]
            },
            {
             "iteration": 664,
             "learn": [
              0.05197744504
             ],
             "passed_time": 172.4371845,
             "remaining_time": 86.86685236,
             "test": [
              0.3403833786
             ]
            },
            {
             "iteration": 665,
             "learn": [
              0.05191948949
             ],
             "passed_time": 172.7092821,
             "remaining_time": 86.61396427,
             "test": [
              0.340393732
             ]
            },
            {
             "iteration": 666,
             "learn": [
              0.05180525656
             ],
             "passed_time": 172.9616996,
             "remaining_time": 86.35119338,
             "test": [
              0.3404304821
             ]
            },
            {
             "iteration": 667,
             "learn": [
              0.05170875414
             ],
             "passed_time": 173.2550754,
             "remaining_time": 86.10880992,
             "test": [
              0.3405398673
             ]
            },
            {
             "iteration": 668,
             "learn": [
              0.05158879609
             ],
             "passed_time": 173.5192708,
             "remaining_time": 85.85183653,
             "test": [
              0.340792681
             ]
            },
            {
             "iteration": 669,
             "learn": [
              0.05149118039
             ],
             "passed_time": 173.7478336,
             "remaining_time": 85.57729116,
             "test": [
              0.3408922427
             ]
            },
            {
             "iteration": 670,
             "learn": [
              0.05139261569
             ],
             "passed_time": 174.0219068,
             "remaining_time": 85.32519723,
             "test": [
              0.341094023
             ]
            },
            {
             "iteration": 671,
             "learn": [
              0.05132489937
             ],
             "passed_time": 174.3127479,
             "remaining_time": 85.08122221,
             "test": [
              0.3412565073
             ]
            },
            {
             "iteration": 672,
             "learn": [
              0.05114841914
             ],
             "passed_time": 174.553611,
             "remaining_time": 84.81282434,
             "test": [
              0.3415346258
             ]
            },
            {
             "iteration": 673,
             "learn": [
              0.05103182533
             ],
             "passed_time": 174.8245311,
             "remaining_time": 84.55904618,
             "test": [
              0.3416030711
             ]
            },
            {
             "iteration": 674,
             "learn": [
              0.05096325241
             ],
             "passed_time": 175.1043982,
             "remaining_time": 84.30952508,
             "test": [
              0.3417931119
             ]
            },
            {
             "iteration": 675,
             "learn": [
              0.05088390108
             ],
             "passed_time": 175.4045122,
             "remaining_time": 84.06961827,
             "test": [
              0.3417741158
             ]
            },
            {
             "iteration": 676,
             "learn": [
              0.05082856564
             ],
             "passed_time": 175.6466751,
             "remaining_time": 83.80188489,
             "test": [
              0.3418880014
             ]
            },
            {
             "iteration": 677,
             "learn": [
              0.05072546716
             ],
             "passed_time": 175.8866186,
             "remaining_time": 83.53317286,
             "test": [
              0.3418545013
             ]
            },
            {
             "iteration": 678,
             "learn": [
              0.05068833879
             ],
             "passed_time": 176.1547168,
             "remaining_time": 83.27785578,
             "test": [
              0.341825045
             ]
            },
            {
             "iteration": 679,
             "learn": [
              0.05056732567
             ],
             "passed_time": 176.417385,
             "remaining_time": 83.01994588,
             "test": [
              0.341897654
             ]
            },
            {
             "iteration": 680,
             "learn": [
              0.05041866304
             ],
             "passed_time": 176.6781818,
             "remaining_time": 82.76114536,
             "test": [
              0.3420912725
             ]
            },
            {
             "iteration": 681,
             "learn": [
              0.05037489301
             ],
             "passed_time": 176.9097898,
             "remaining_time": 82.48872897,
             "test": [
              0.3421379432
             ]
            },
            {
             "iteration": 682,
             "learn": [
              0.05028536968
             ],
             "passed_time": 177.1331634,
             "remaining_time": 82.21261025,
             "test": [
              0.3422475746
             ]
            },
            {
             "iteration": 683,
             "learn": [
              0.05020995133
             ],
             "passed_time": 177.4041452,
             "remaining_time": 81.95864016,
             "test": [
              0.3421836147
             ]
            },
            {
             "iteration": 684,
             "learn": [
              0.05013007658
             ],
             "passed_time": 177.6743104,
             "remaining_time": 81.70424495,
             "test": [
              0.3423529308
             ]
            },
            {
             "iteration": 685,
             "learn": [
              0.04999468334
             ],
             "passed_time": 177.9143267,
             "remaining_time": 81.43600377,
             "test": [
              0.3424739113
             ]
            },
            {
             "iteration": 686,
             "learn": [
              0.04985240627
             ],
             "passed_time": 178.1802329,
             "remaining_time": 81.17964033,
             "test": [
              0.3426122786
             ]
            },
            {
             "iteration": 687,
             "learn": [
              0.04976818648
             ],
             "passed_time": 178.4789942,
             "remaining_time": 80.93814854,
             "test": [
              0.3426797363
             ]
            },
            {
             "iteration": 688,
             "learn": [
              0.04972522896
             ],
             "passed_time": 178.7732852,
             "remaining_time": 80.69447273,
             "test": [
              0.3426943999
             ]
            },
            {
             "iteration": 689,
             "learn": [
              0.04963042067
             ],
             "passed_time": 179.0046315,
             "remaining_time": 80.42237069,
             "test": [
              0.342749834
             ]
            },
            {
             "iteration": 690,
             "learn": [
              0.04956293572
             ],
             "passed_time": 179.2854028,
             "remaining_time": 80.17248835,
             "test": [
              0.3429580454
             ]
            },
            {
             "iteration": 691,
             "learn": [
              0.04942561346
             ],
             "passed_time": 179.5084368,
             "remaining_time": 79.89681867,
             "test": [
              0.343161874
             ]
            },
            {
             "iteration": 692,
             "learn": [
              0.04929179898
             ],
             "passed_time": 179.7459172,
             "remaining_time": 79.6277007,
             "test": [
              0.3432321256
             ]
            },
            {
             "iteration": 693,
             "learn": [
              0.04924674498
             ],
             "passed_time": 180.0114256,
             "remaining_time": 79.37103205,
             "test": [
              0.3432790261
             ]
            },
            {
             "iteration": 694,
             "learn": [
              0.04914703419
             ],
             "passed_time": 180.3422228,
             "remaining_time": 79.14298985,
             "test": [
              0.3434305681
             ]
            },
            {
             "iteration": 695,
             "learn": [
              0.04910093169
             ],
             "passed_time": 180.6529151,
             "remaining_time": 78.90587098,
             "test": [
              0.3435318653
             ]
            },
            {
             "iteration": 696,
             "learn": [
              0.0489821216
             ],
             "passed_time": 180.9093255,
             "remaining_time": 78.64494351,
             "test": [
              0.3437729475
             ]
            },
            {
             "iteration": 697,
             "learn": [
              0.04888932187
             ],
             "passed_time": 181.1856317,
             "remaining_time": 78.39263721,
             "test": [
              0.3438658165
             ]
            },
            {
             "iteration": 698,
             "learn": [
              0.04883925692
             ],
             "passed_time": 181.4406432,
             "remaining_time": 78.1310924,
             "test": [
              0.344027501
             ]
            },
            {
             "iteration": 699,
             "learn": [
              0.04870341281
             ],
             "passed_time": 181.7643739,
             "remaining_time": 77.89901737,
             "test": [
              0.3441898043
             ]
            },
            {
             "iteration": 700,
             "learn": [
              0.04863364341
             ],
             "passed_time": 182.1109396,
             "remaining_time": 77.67642072,
             "test": [
              0.3441743322
             ]
            },
            {
             "iteration": 701,
             "learn": [
              0.04856083109
             ],
             "passed_time": 182.4430597,
             "remaining_time": 77.44733872,
             "test": [
              0.3442271061
             ]
            },
            {
             "iteration": 702,
             "learn": [
              0.04848419963
             ],
             "passed_time": 182.7785319,
             "remaining_time": 77.21937975,
             "test": [
              0.3442127828
             ]
            },
            {
             "iteration": 703,
             "learn": [
              0.04839031225
             ],
             "passed_time": 183.1626766,
             "remaining_time": 77.01157994,
             "test": [
              0.3441855516
             ]
            },
            {
             "iteration": 704,
             "learn": [
              0.04835659579
             ],
             "passed_time": 183.4308205,
             "remaining_time": 76.75474049,
             "test": [
              0.3441651675
             ]
            },
            {
             "iteration": 705,
             "learn": [
              0.04824854914
             ],
             "passed_time": 183.6987464,
             "remaining_time": 76.49777826,
             "test": [
              0.3443268784
             ]
            },
            {
             "iteration": 706,
             "learn": [
              0.04817159096
             ],
             "passed_time": 183.9671496,
             "remaining_time": 76.24098281,
             "test": [
              0.3443865266
             ]
            },
            {
             "iteration": 707,
             "learn": [
              0.0480636311
             ],
             "passed_time": 184.2071779,
             "remaining_time": 75.97245189,
             "test": [
              0.3443606095
             ]
            },
            {
             "iteration": 708,
             "learn": [
              0.04796120638
             ],
             "passed_time": 184.4503251,
             "remaining_time": 75.70528155,
             "test": [
              0.3444958709
             ]
            },
            {
             "iteration": 709,
             "learn": [
              0.04791744781
             ],
             "passed_time": 184.7192072,
             "remaining_time": 75.44869026,
             "test": [
              0.3445710446
             ]
            },
            {
             "iteration": 710,
             "learn": [
              0.04783554187
             ],
             "passed_time": 184.964428,
             "remaining_time": 75.18244684,
             "test": [
              0.3444528901
             ]
            },
            {
             "iteration": 711,
             "learn": [
              0.04774797151
             ],
             "passed_time": 185.2291097,
             "remaining_time": 74.92413427,
             "test": [
              0.3445250155
             ]
            },
            {
             "iteration": 712,
             "learn": [
              0.04767388259
             ],
             "passed_time": 185.5045454,
             "remaining_time": 74.67013258,
             "test": [
              0.3447038993
             ]
            },
            {
             "iteration": 713,
             "learn": [
              0.04759674163
             ],
             "passed_time": 185.7329607,
             "remaining_time": 74.39723638,
             "test": [
              0.3448104383
             ]
            },
            {
             "iteration": 714,
             "learn": [
              0.04748275003
             ],
             "passed_time": 186.0109843,
             "remaining_time": 74.14423848,
             "test": [
              0.3447960673
             ]
            },
            {
             "iteration": 715,
             "learn": [
              0.04737050556
             ],
             "passed_time": 186.2351757,
             "remaining_time": 73.8698183,
             "test": [
              0.3449434388
             ]
            },
            {
             "iteration": 716,
             "learn": [
              0.0470812535
             ],
             "passed_time": 186.4993578,
             "remaining_time": 73.61132255,
             "test": [
              0.3450009459
             ]
            },
            {
             "iteration": 717,
             "learn": [
              0.0470191461
             ],
             "passed_time": 186.7687886,
             "remaining_time": 73.35487239,
             "test": [
              0.3450190902
             ]
            },
            {
             "iteration": 718,
             "learn": [
              0.04693684254
             ],
             "passed_time": 187.1132429,
             "remaining_time": 73.12770689,
             "test": [
              0.3451649044
             ]
            },
            {
             "iteration": 719,
             "learn": [
              0.04689125577
             ],
             "passed_time": 187.3600714,
             "remaining_time": 72.86224997,
             "test": [
              0.3451707788
             ]
            },
            {
             "iteration": 720,
             "learn": [
              0.04675031432
             ],
             "passed_time": 187.608842,
             "remaining_time": 72.59759629,
             "test": [
              0.3452626185
             ]
            },
            {
             "iteration": 721,
             "learn": [
              0.04662908187
             ],
             "passed_time": 187.8315641,
             "remaining_time": 72.32295682,
             "test": [
              0.345323882
             ]
            },
            {
             "iteration": 722,
             "learn": [
              0.04656413199
             ],
             "passed_time": 188.0720694,
             "remaining_time": 72.05527418,
             "test": [
              0.3453508417
             ]
            },
            {
             "iteration": 723,
             "learn": [
              0.0465100919
             ],
             "passed_time": 188.2931215,
             "remaining_time": 71.78025073,
             "test": [
              0.3454377305
             ]
            },
            {
             "iteration": 724,
             "learn": [
              0.04647921171
             ],
             "passed_time": 188.5693941,
             "remaining_time": 71.52632192,
             "test": [
              0.3455483277
             ]
            },
            {
             "iteration": 725,
             "learn": [
              0.04639831337
             ],
             "passed_time": 188.8517152,
             "remaining_time": 71.27461426,
             "test": [
              0.3455764821
             ]
            },
            {
             "iteration": 726,
             "learn": [
              0.04636721864
             ],
             "passed_time": 189.1579514,
             "remaining_time": 71.03180292,
             "test": [
              0.3456734934
             ]
            },
            {
             "iteration": 727,
             "learn": [
              0.04625643631
             ],
             "passed_time": 189.380247,
             "remaining_time": 70.75745493,
             "test": [
              0.3458129618
             ]
            },
            {
             "iteration": 728,
             "learn": [
              0.04617134858
             ],
             "passed_time": 189.615222,
             "remaining_time": 70.48796319,
             "test": [
              0.3459214949
             ]
            },
            {
             "iteration": 729,
             "learn": [
              0.04610050653
             ],
             "passed_time": 189.8671779,
             "remaining_time": 70.22484663,
             "test": [
              0.3459767535
             ]
            },
            {
             "iteration": 730,
             "learn": [
              0.04596353711
             ],
             "passed_time": 190.1395908,
             "remaining_time": 69.96928854,
             "test": [
              0.3460326093
             ]
            },
            {
             "iteration": 731,
             "learn": [
              0.04587877508
             ],
             "passed_time": 190.404381,
             "remaining_time": 69.71089358,
             "test": [
              0.3461339262
             ]
            },
            {
             "iteration": 732,
             "learn": [
              0.04581776749
             ],
             "passed_time": 190.6519797,
             "remaining_time": 69.44621909,
             "test": [
              0.3462004124
             ]
            },
            {
             "iteration": 733,
             "learn": [
              0.04578354575
             ],
             "passed_time": 190.9290785,
             "remaining_time": 69.19228187,
             "test": [
              0.346251788
             ]
            },
            {
             "iteration": 734,
             "learn": [
              0.04573831989
             ],
             "passed_time": 191.2090328,
             "remaining_time": 68.93931114,
             "test": [
              0.3463242709
             ]
            },
            {
             "iteration": 735,
             "learn": [
              0.04564612746
             ],
             "passed_time": 191.4830704,
             "remaining_time": 68.68414482,
             "test": [
              0.3463591444
             ]
            },
            {
             "iteration": 736,
             "learn": [
              0.04555897139
             ],
             "passed_time": 191.7056895,
             "remaining_time": 68.41057849,
             "test": [
              0.3463939688
             ]
            },
            {
             "iteration": 737,
             "learn": [
              0.04546371909
             ],
             "passed_time": 191.9464659,
             "remaining_time": 68.14359628,
             "test": [
              0.3463450007
             ]
            },
            {
             "iteration": 738,
             "learn": [
              0.04536445511
             ],
             "passed_time": 192.1843474,
             "remaining_time": 67.87566262,
             "test": [
              0.3462613104
             ]
            },
            {
             "iteration": 739,
             "learn": [
              0.04530534743
             ],
             "passed_time": 192.4591899,
             "remaining_time": 67.62079646,
             "test": [
              0.3462934791
             ]
            },
            {
             "iteration": 740,
             "learn": [
              0.04527850843
             ],
             "passed_time": 192.7371004,
             "remaining_time": 67.36694871,
             "test": [
              0.3463460097
             ]
            },
            {
             "iteration": 741,
             "learn": [
              0.04519279911
             ],
             "passed_time": 192.962293,
             "remaining_time": 67.09470566,
             "test": [
              0.3464068482
             ]
            },
            {
             "iteration": 742,
             "learn": [
              0.04513948178
             ],
             "passed_time": 193.1974258,
             "remaining_time": 66.82602749,
             "test": [
              0.346497241
             ]
            },
            {
             "iteration": 743,
             "learn": [
              0.04507936463
             ],
             "passed_time": 193.4622901,
             "remaining_time": 66.56766971,
             "test": [
              0.346572605
             ]
            },
            {
             "iteration": 744,
             "learn": [
              0.04494006134
             ],
             "passed_time": 193.7379303,
             "remaining_time": 66.31298287,
             "test": [
              0.3468112414
             ]
            },
            {
             "iteration": 745,
             "learn": [
              0.04484581809
             ],
             "passed_time": 193.9708231,
             "remaining_time": 66.04368509,
             "test": [
              0.3468529262
             ]
            },
            {
             "iteration": 746,
             "learn": [
              0.04479368872
             ],
             "passed_time": 194.2239758,
             "remaining_time": 65.78134657,
             "test": [
              0.346832655
             ]
            },
            {
             "iteration": 747,
             "learn": [
              0.04476152269
             ],
             "passed_time": 194.5046899,
             "remaining_time": 65.52831798,
             "test": [
              0.3467874942
             ]
            },
            {
             "iteration": 748,
             "learn": [
              0.04471716847
             ],
             "passed_time": 194.725362,
             "remaining_time": 65.25509461,
             "test": [
              0.3467932419
             ]
            },
            {
             "iteration": 749,
             "learn": [
              0.04467932584
             ],
             "passed_time": 194.9995646,
             "remaining_time": 64.99985486,
             "test": [
              0.3468416121
             ]
            },
            {
             "iteration": 750,
             "learn": [
              0.04462570135
             ],
             "passed_time": 195.2692467,
             "remaining_time": 64.74306581,
             "test": [
              0.3468780793
             ]
            },
            {
             "iteration": 751,
             "learn": [
              0.04452547681
             ],
             "passed_time": 195.5255095,
             "remaining_time": 64.48181697,
             "test": [
              0.3470033387
             ]
            },
            {
             "iteration": 752,
             "learn": [
              0.04445822084
             ],
             "passed_time": 195.7538481,
             "remaining_time": 64.21142161,
             "test": [
              0.3471870222
             ]
            },
            {
             "iteration": 753,
             "learn": [
              0.0443932886
             ],
             "passed_time": 196.0122121,
             "remaining_time": 63.95093391,
             "test": [
              0.3472824875
             ]
            },
            {
             "iteration": 754,
             "learn": [
              0.04430095771
             ],
             "passed_time": 196.2419239,
             "remaining_time": 63.6811541,
             "test": [
              0.3474432783
             ]
            },
            {
             "iteration": 755,
             "learn": [
              0.04424356673
             ],
             "passed_time": 196.5114658,
             "remaining_time": 63.42433552,
             "test": [
              0.3474386256
             ]
            },
            {
             "iteration": 756,
             "learn": [
              0.04417754503
             ],
             "passed_time": 196.7991747,
             "remaining_time": 63.17331499,
             "test": [
              0.3475980574
             ]
            },
            {
             "iteration": 757,
             "learn": [
              0.0441436302
             ],
             "passed_time": 197.0817358,
             "remaining_time": 62.92055419,
             "test": [
              0.3476042074
             ]
            },
            {
             "iteration": 758,
             "learn": [
              0.04409032452
             ],
             "passed_time": 197.3534329,
             "remaining_time": 62.66426526,
             "test": [
              0.3476631208
             ]
            },
            {
             "iteration": 759,
             "learn": [
              0.04405543926
             ],
             "passed_time": 197.614305,
             "remaining_time": 62.40451738,
             "test": [
              0.3476305026
             ]
            },
            {
             "iteration": 760,
             "learn": [
              0.0439815672
             ],
             "passed_time": 197.8730617,
             "remaining_time": 62.14410216,
             "test": [
              0.3477086145
             ]
            },
            {
             "iteration": 761,
             "learn": [
              0.04388001177
             ],
             "passed_time": 198.1448247,
             "remaining_time": 61.88775366,
             "test": [
              0.3478164981
             ]
            },
            {
             "iteration": 762,
             "learn": [
              0.0437642991
             ],
             "passed_time": 198.3851563,
             "remaining_time": 61.62160164,
             "test": [
              0.347886566
             ]
            },
            {
             "iteration": 763,
             "learn": [
              0.04370137097
             ],
             "passed_time": 198.6565692,
             "remaining_time": 61.36511824,
             "test": [
              0.3478887782
             ]
            },
            {
             "iteration": 764,
             "learn": [
              0.04363469647
             ],
             "passed_time": 198.9337651,
             "remaining_time": 61.11037228,
             "test": [
              0.3480717401
             ]
            },
            {
             "iteration": 765,
             "learn": [
              0.04355815379
             ],
             "passed_time": 199.1927061,
             "remaining_time": 60.84999115,
             "test": [
              0.3481254452
             ]
            },
            {
             "iteration": 766,
             "learn": [
              0.04345872665
             ],
             "passed_time": 199.4644683,
             "remaining_time": 60.59350861,
             "test": [
              0.3481321275
             ]
            },
            {
             "iteration": 767,
             "learn": [
              0.04339688684
             ],
             "passed_time": 199.7103644,
             "remaining_time": 60.32917258,
             "test": [
              0.3482288606
             ]
            },
            {
             "iteration": 768,
             "learn": [
              0.04335027212
             ],
             "passed_time": 199.9817251,
             "remaining_time": 60.07253382,
             "test": [
              0.3482505926
             ]
            },
            {
             "iteration": 769,
             "learn": [
              0.04330325541
             ],
             "passed_time": 200.2178518,
             "remaining_time": 59.80533236,
             "test": [
              0.3482838612
             ]
            },
            {
             "iteration": 770,
             "learn": [
              0.04326604894
             ],
             "passed_time": 200.5266537,
             "remaining_time": 59.55979727,
             "test": [
              0.3483171087
             ]
            },
            {
             "iteration": 771,
             "learn": [
              0.04319432274
             ],
             "passed_time": 200.7699911,
             "remaining_time": 59.29476421,
             "test": [
              0.3481903014
             ]
            },
            {
             "iteration": 772,
             "learn": [
              0.04313993213
             ],
             "passed_time": 201.0018108,
             "remaining_time": 59.02640497,
             "test": [
              0.3483315444
             ]
            },
            {
             "iteration": 773,
             "learn": [
              0.0430347357
             ],
             "passed_time": 201.2309633,
             "remaining_time": 58.75736137,
             "test": [
              0.3484390755
             ]
            },
            {
             "iteration": 774,
             "learn": [
              0.04297905657
             ],
             "passed_time": 201.5072526,
             "remaining_time": 58.5021056,
             "test": [
              0.3484638003
             ]
            },
            {
             "iteration": 775,
             "learn": [
              0.04282777278
             ],
             "passed_time": 201.7629572,
             "remaining_time": 58.24085362,
             "test": [
              0.3485497984
             ]
            },
            {
             "iteration": 776,
             "learn": [
              0.0427404073
             ],
             "passed_time": 201.9978989,
             "remaining_time": 57.97365697,
             "test": [
              0.3485801504
             ]
            },
            {
             "iteration": 777,
             "learn": [
              0.04268140585
             ],
             "passed_time": 202.2647157,
             "remaining_time": 57.71563868,
             "test": [
              0.3486714968
             ]
            },
            {
             "iteration": 778,
             "learn": [
              0.0424947161
             ],
             "passed_time": 202.4880415,
             "remaining_time": 57.44525952,
             "test": [
              0.3488403691
             ]
            },
            {
             "iteration": 779,
             "learn": [
              0.04241672815
             ],
             "passed_time": 202.7551405,
             "remaining_time": 57.18734733,
             "test": [
              0.3489402216
             ]
            },
            {
             "iteration": 780,
             "learn": [
              0.0423417825
             ],
             "passed_time": 203.0375989,
             "remaining_time": 56.93371851,
             "test": [
              0.3489139481
             ]
            },
            {
             "iteration": 781,
             "learn": [
              0.04218016271
             ],
             "passed_time": 203.2946367,
             "remaining_time": 56.67292941,
             "test": [
              0.3489494026
             ]
            },
            {
             "iteration": 782,
             "learn": [
              0.04204927542
             ],
             "passed_time": 203.5340701,
             "remaining_time": 56.40727102,
             "test": [
              0.3490813653
             ]
            },
            {
             "iteration": 783,
             "learn": [
              0.04201544023
             ],
             "passed_time": 203.8075727,
             "remaining_time": 56.15106595,
             "test": [
              0.3491223594
             ]
            },
            {
             "iteration": 784,
             "learn": [
              0.04193981931
             ],
             "passed_time": 204.0317164,
             "remaining_time": 55.88129811,
             "test": [
              0.3492498229
             ]
            },
            {
             "iteration": 785,
             "learn": [
              0.04186818414
             ],
             "passed_time": 204.3001414,
             "remaining_time": 55.62370262,
             "test": [
              0.3493364928
             ]
            },
            {
             "iteration": 786,
             "learn": [
              0.04177372609
             ],
             "passed_time": 204.526714,
             "remaining_time": 55.35475233,
             "test": [
              0.3495448197
             ]
            },
            {
             "iteration": 787,
             "learn": [
              0.04170742349
             ],
             "passed_time": 204.8175995,
             "remaining_time": 55.10321206,
             "test": [
              0.3494804769
             ]
            },
            {
             "iteration": 788,
             "learn": [
              0.04165795277
             ],
             "passed_time": 205.0806521,
             "remaining_time": 54.84412876,
             "test": [
              0.3496141309
             ]
            },
            {
             "iteration": 789,
             "learn": [
              0.04157951789
             ],
             "passed_time": 205.3049206,
             "remaining_time": 54.57472574,
             "test": [
              0.3496199892
             ]
            },
            {
             "iteration": 790,
             "learn": [
              0.04152458662
             ],
             "passed_time": 205.588643,
             "remaining_time": 54.32114589,
             "test": [
              0.3497279926
             ]
            },
            {
             "iteration": 791,
             "learn": [
              0.04145430081
             ],
             "passed_time": 205.8550905,
             "remaining_time": 54.06295306,
             "test": [
              0.3497535058
             ]
            },
            {
             "iteration": 792,
             "learn": [
              0.0413829978
             ],
             "passed_time": 206.0784329,
             "remaining_time": 53.79348753,
             "test": [
              0.3498134884
             ]
            },
            {
             "iteration": 793,
             "learn": [
              0.04130478891
             ],
             "passed_time": 206.3012574,
             "remaining_time": 53.5240038,
             "test": [
              0.3498834618
             ]
            },
            {
             "iteration": 794,
             "learn": [
              0.0412037227
             ],
             "passed_time": 206.5977503,
             "remaining_time": 53.27363372,
             "test": [
              0.3500245779
             ]
            },
            {
             "iteration": 795,
             "learn": [
              0.04113645261
             ],
             "passed_time": 206.8336464,
             "remaining_time": 53.00761793,
             "test": [
              0.3500490866
             ]
            },
            {
             "iteration": 796,
             "learn": [
              0.04109613762
             ],
             "passed_time": 207.0662045,
             "remaining_time": 52.74082749,
             "test": [
              0.3500207181
             ]
            },
            {
             "iteration": 797,
             "learn": [
              0.04101638177
             ],
             "passed_time": 207.3281487,
             "remaining_time": 52.48156146,
             "test": [
              0.3502130768
             ]
            },
            {
             "iteration": 798,
             "learn": [
              0.04099661881
             ],
             "passed_time": 207.617961,
             "remaining_time": 52.22929932,
             "test": [
              0.3502553293
             ]
            },
            {
             "iteration": 799,
             "learn": [
              0.04088512407
             ],
             "passed_time": 207.8457778,
             "remaining_time": 51.96144446,
             "test": [
              0.3501433681
             ]
            },
            {
             "iteration": 800,
             "learn": [
              0.04083855384
             ],
             "passed_time": 208.1097152,
             "remaining_time": 51.70266332,
             "test": [
              0.350182011
             ]
            },
            {
             "iteration": 801,
             "learn": [
              0.04076200167
             ],
             "passed_time": 208.3855346,
             "remaining_time": 51.44680281,
             "test": [
              0.3501604928
             ]
            },
            {
             "iteration": 802,
             "learn": [
              0.04070418537
             ],
             "passed_time": 208.6598583,
             "remaining_time": 51.19052564,
             "test": [
              0.3501804057
             ]
            },
            {
             "iteration": 803,
             "learn": [
              0.0405906145
             ],
             "passed_time": 208.8868516,
             "remaining_time": 50.92266531,
             "test": [
              0.3503608239
             ]
            },
            {
             "iteration": 804,
             "learn": [
              0.04052601232
             ],
             "passed_time": 209.1862152,
             "remaining_time": 50.67243723,
             "test": [
              0.3505274908
             ]
            },
            {
             "iteration": 805,
             "learn": [
              0.04048407535
             ],
             "passed_time": 209.4117865,
             "remaining_time": 50.40432578,
             "test": [
              0.350504531
             ]
            },
            {
             "iteration": 806,
             "learn": [
              0.04039897191
             ],
             "passed_time": 209.6888769,
             "remaining_time": 50.14864093,
             "test": [
              0.3505685112
             ]
            },
            {
             "iteration": 807,
             "learn": [
              0.04026188547
             ],
             "passed_time": 209.9649974,
             "remaining_time": 49.89267266,
             "test": [
              0.3506697964
             ]
            },
            {
             "iteration": 808,
             "learn": [
              0.04021282809
             ],
             "passed_time": 210.2723593,
             "remaining_time": 49.64403044,
             "test": [
              0.3506732435
             ]
            },
            {
             "iteration": 809,
             "learn": [
              0.04013160475
             ],
             "passed_time": 210.5223556,
             "remaining_time": 49.38178711,
             "test": [
              0.3507516108
             ]
            },
            {
             "iteration": 810,
             "learn": [
              0.04003147952
             ],
             "passed_time": 210.7988704,
             "remaining_time": 49.12575402,
             "test": [
              0.3508913636
             ]
            },
            {
             "iteration": 811,
             "learn": [
              0.03996415813
             ],
             "passed_time": 211.0269844,
             "remaining_time": 48.85846437,
             "test": [
              0.3510245091
             ]
            },
            {
             "iteration": 812,
             "learn": [
              0.03986830688
             ],
             "passed_time": 211.2818006,
             "remaining_time": 48.59741294,
             "test": [
              0.3510633672
             ]
            },
            {
             "iteration": 813,
             "learn": [
              0.03982868995
             ],
             "passed_time": 211.5328294,
             "remaining_time": 48.3355114,
             "test": [
              0.3510882703
             ]
            },
            {
             "iteration": 814,
             "learn": [
              0.03975625524
             ],
             "passed_time": 211.8367168,
             "remaining_time": 48.08563511,
             "test": [
              0.3511896439
             ]
            },
            {
             "iteration": 815,
             "learn": [
              0.03970684559
             ],
             "passed_time": 212.1206604,
             "remaining_time": 47.83112932,
             "test": [
              0.3512790512
             ]
            },
            {
             "iteration": 816,
             "learn": [
              0.03962093302
             ],
             "passed_time": 212.3924871,
             "remaining_time": 47.57383737,
             "test": [
              0.351318268
             ]
            },
            {
             "iteration": 817,
             "learn": [
              0.0395491739
             ],
             "passed_time": 212.6680287,
             "remaining_time": 47.31733646,
             "test": [
              0.3514622771
             ]
            },
            {
             "iteration": 818,
             "learn": [
              0.03948495127
             ],
             "passed_time": 212.9550451,
             "remaining_time": 47.06332498,
             "test": [
              0.351611801
             ]
            },
            {
             "iteration": 819,
             "learn": [
              0.03941365927
             ],
             "passed_time": 213.1850678,
             "remaining_time": 46.79672219,
             "test": [
              0.3515799421
             ]
            },
            {
             "iteration": 820,
             "learn": [
              0.03931176966
             ],
             "passed_time": 213.4293691,
             "remaining_time": 46.53332163,
             "test": [
              0.3515641386
             ]
            },
            {
             "iteration": 821,
             "learn": [
              0.03923099551
             ],
             "passed_time": 213.744309,
             "remaining_time": 46.28526399,
             "test": [
              0.351883993
             ]
            },
            {
             "iteration": 822,
             "learn": [
              0.03910820855
             ],
             "passed_time": 214.1247022,
             "remaining_time": 46.05112065,
             "test": [
              0.3519176925
             ]
            },
            {
             "iteration": 823,
             "learn": [
              0.03901213194
             ],
             "passed_time": 214.4288355,
             "remaining_time": 45.80033379,
             "test": [
              0.3519260358
             ]
            },
            {
             "iteration": 824,
             "learn": [
              0.03895763772
             ],
             "passed_time": 214.7388752,
             "remaining_time": 45.55067049,
             "test": [
              0.3519789686
             ]
            },
            {
             "iteration": 825,
             "learn": [
              0.03882880339
             ],
             "passed_time": 215.0457619,
             "remaining_time": 45.30019681,
             "test": [
              0.3521838221
             ]
            },
            {
             "iteration": 826,
             "learn": [
              0.03877985237
             ],
             "passed_time": 215.3455187,
             "remaining_time": 45.04809521,
             "test": [
              0.3522196951
             ]
            },
            {
             "iteration": 827,
             "learn": [
              0.03871766821
             ],
             "passed_time": 215.5903711,
             "remaining_time": 44.78447321,
             "test": [
              0.3523695665
             ]
            },
            {
             "iteration": 828,
             "learn": [
              0.03869487685
             ],
             "passed_time": 215.9582949,
             "remaining_time": 44.54628278,
             "test": [
              0.3524698697
             ]
            },
            {
             "iteration": 829,
             "learn": [
              0.03861363579
             ],
             "passed_time": 216.1924038,
             "remaining_time": 44.28037186,
             "test": [
              0.3525194218
             ]
            },
            {
             "iteration": 830,
             "learn": [
              0.03856889907
             ],
             "passed_time": 216.4415777,
             "remaining_time": 44.01760124,
             "test": [
              0.3526887581
             ]
            },
            {
             "iteration": 831,
             "learn": [
              0.03852768303
             ],
             "passed_time": 216.6631498,
             "remaining_time": 43.74928986,
             "test": [
              0.3527438939
             ]
            },
            {
             "iteration": 832,
             "learn": [
              0.03850998969
             ],
             "passed_time": 216.9493921,
             "remaining_time": 43.4940558,
             "test": [
              0.3527037187
             ]
            },
            {
             "iteration": 833,
             "learn": [
              0.03847493802
             ],
             "passed_time": 217.2404713,
             "remaining_time": 43.23971012,
             "test": [
              0.3527743739
             ]
            },
            {
             "iteration": 834,
             "learn": [
              0.03844160331
             ],
             "passed_time": 217.4837883,
             "remaining_time": 42.97583841,
             "test": [
              0.3528571933
             ]
            },
            {
             "iteration": 835,
             "learn": [
              0.03838845459
             ],
             "passed_time": 217.7079161,
             "remaining_time": 42.70825149,
             "test": [
              0.3529353816
             ]
            },
            {
             "iteration": 836,
             "learn": [
              0.03832345763
             ],
             "passed_time": 217.9670065,
             "remaining_time": 42.44757713,
             "test": [
              0.3530311222
             ]
            },
            {
             "iteration": 837,
             "learn": [
              0.03827641296
             ],
             "passed_time": 218.2545748,
             "remaining_time": 42.19241183,
             "test": [
              0.3529724662
             ]
            },
            {
             "iteration": 838,
             "learn": [
              0.03825478776
             ],
             "passed_time": 218.5542648,
             "remaining_time": 41.9394954,
             "test": [
              0.3531167413
             ]
            },
            {
             "iteration": 839,
             "learn": [
              0.03816318261
             ],
             "passed_time": 218.7872864,
             "remaining_time": 41.67376884,
             "test": [
              0.3532669519
             ]
            },
            {
             "iteration": 840,
             "learn": [
              0.03810283946
             ],
             "passed_time": 219.033386,
             "remaining_time": 41.41059259,
             "test": [
              0.3533023787
             ]
            },
            {
             "iteration": 841,
             "learn": [
              0.03803293668
             ],
             "passed_time": 219.2938716,
             "remaining_time": 41.15015643,
             "test": [
              0.3534795298
             ]
            },
            {
             "iteration": 842,
             "learn": [
              0.03800896979
             ],
             "passed_time": 219.5555455,
             "remaining_time": 40.88994145,
             "test": [
              0.3535975747
             ]
            },
            {
             "iteration": 843,
             "learn": [
              0.0379660086
             ],
             "passed_time": 219.8329976,
             "remaining_time": 40.63263936,
             "test": [
              0.3536571451
             ]
            },
            {
             "iteration": 844,
             "learn": [
              0.03793513645
             ],
             "passed_time": 220.1548035,
             "remaining_time": 40.38342549,
             "test": [
              0.3537430477
             ]
            },
            {
             "iteration": 845,
             "learn": [
              0.03790551289
             ],
             "passed_time": 220.4089905,
             "remaining_time": 40.12173114,
             "test": [
              0.3538160159
             ]
            },
            {
             "iteration": 846,
             "learn": [
              0.03786209859
             ],
             "passed_time": 220.6428447,
             "remaining_time": 39.85638162,
             "test": [
              0.3538784487
             ]
            },
            {
             "iteration": 847,
             "learn": [
              0.03777328501
             ],
             "passed_time": 220.8698765,
             "remaining_time": 39.58988352,
             "test": [
              0.3540362485
             ]
            },
            {
             "iteration": 848,
             "learn": [
              0.03771719143
             ],
             "passed_time": 221.1120163,
             "remaining_time": 39.32616544,
             "test": [
              0.3541305863
             ]
            },
            {
             "iteration": 849,
             "learn": [
              0.03761153173
             ],
             "passed_time": 221.3353617,
             "remaining_time": 39.05918148,
             "test": [
              0.3542441906
             ]
            },
            {
             "iteration": 850,
             "learn": [
              0.03756923859
             ],
             "passed_time": 221.5567832,
             "remaining_time": 38.79196321,
             "test": [
              0.3542745105
             ]
            },
            {
             "iteration": 851,
             "learn": [
              0.03751662794
             ],
             "passed_time": 221.7843467,
             "remaining_time": 38.52591938,
             "test": [
              0.3543457408
             ]
            },
            {
             "iteration": 852,
             "learn": [
              0.03745607615
             ],
             "passed_time": 222.0124927,
             "remaining_time": 38.26006616,
             "test": [
              0.3544823713
             ]
            },
            {
             "iteration": 853,
             "learn": [
              0.03735675982
             ],
             "passed_time": 222.2655697,
             "remaining_time": 37.99856343,
             "test": [
              0.3546278112
             ]
            },
            {
             "iteration": 854,
             "learn": [
              0.03729172541
             ],
             "passed_time": 222.5287305,
             "remaining_time": 37.73879055,
             "test": [
              0.3546060627
             ]
            },
            {
             "iteration": 855,
             "learn": [
              0.03724907685
             ],
             "passed_time": 222.8081706,
             "remaining_time": 37.48174832,
             "test": [
              0.354601848
             ]
            },
            {
             "iteration": 856,
             "learn": [
              0.03720064974
             ],
             "passed_time": 223.0445994,
             "remaining_time": 37.21747691,
             "test": [
              0.3547226716
             ]
            },
            {
             "iteration": 857,
             "learn": [
              0.03712141504
             ],
             "passed_time": 223.2900926,
             "remaining_time": 36.95477057,
             "test": [
              0.3546710639
             ]
            },
            {
             "iteration": 858,
             "learn": [
              0.03708494281
             ],
             "passed_time": 223.5165143,
             "remaining_time": 36.68897382,
             "test": [
              0.3547560139
             ]
            },
            {
             "iteration": 859,
             "learn": [
              0.03699421946
             ],
             "passed_time": 223.7752035,
             "remaining_time": 36.4285215,
             "test": [
              0.3549201248
             ]
            },
            {
             "iteration": 860,
             "learn": [
              0.03694854384
             ],
             "passed_time": 224.0480069,
             "remaining_time": 36.17035187,
             "test": [
              0.355091826
             ]
            },
            {
             "iteration": 861,
             "learn": [
              0.03684997784
             ],
             "passed_time": 224.2847776,
             "remaining_time": 35.9063797,
             "test": [
              0.355146005
             ]
            },
            {
             "iteration": 862,
             "learn": [
              0.03683255588
             ],
             "passed_time": 224.550062,
             "remaining_time": 35.6469971,
             "test": [
              0.3550950661
             ]
            },
            {
             "iteration": 863,
             "learn": [
              0.03674707766
             ],
             "passed_time": 224.7781059,
             "remaining_time": 35.3817389,
             "test": [
              0.3552127633
             ]
            },
            {
             "iteration": 864,
             "learn": [
              0.03666874623
             ],
             "passed_time": 225.0008526,
             "remaining_time": 35.11574,
             "test": [
              0.3553845318
             ]
            },
            {
             "iteration": 865,
             "learn": [
              0.03663346287
             ],
             "passed_time": 225.2902793,
             "remaining_time": 34.86015869,
             "test": [
              0.3554920763
             ]
            },
            {
             "iteration": 866,
             "learn": [
              0.03655513409
             ],
             "passed_time": 225.5511548,
             "remaining_time": 34.60011948,
             "test": [
              0.3556037709
             ]
            },
            {
             "iteration": 867,
             "learn": [
              0.03653967573
             ],
             "passed_time": 225.8265085,
             "remaining_time": 34.3422801,
             "test": [
              0.3556081804
             ]
            },
            {
             "iteration": 868,
             "learn": [
              0.0365152367
             ],
             "passed_time": 226.0997291,
             "remaining_time": 34.08407884,
             "test": [
              0.355666384
             ]
            },
            {
             "iteration": 869,
             "learn": [
              0.03644467639
             ],
             "passed_time": 226.3739919,
             "remaining_time": 33.82599879,
             "test": [
              0.3555749116
             ]
            },
            {
             "iteration": 870,
             "learn": [
              0.03638190052
             ],
             "passed_time": 226.6018277,
             "remaining_time": 33.56100548,
             "test": [
              0.355651915
             ]
            },
            {
             "iteration": 871,
             "learn": [
              0.03632074697
             ],
             "passed_time": 226.8599872,
             "remaining_time": 33.30054858,
             "test": [
              0.3556635408
             ]
            },
            {
             "iteration": 872,
             "learn": [
              0.03623886913
             ],
             "passed_time": 227.0894923,
             "remaining_time": 33.03592844,
             "test": [
              0.3557458986
             ]
            },
            {
             "iteration": 873,
             "learn": [
              0.03619196232
             ],
             "passed_time": 227.3377901,
             "remaining_time": 32.77409788,
             "test": [
              0.3559818343
             ]
            },
            {
             "iteration": 874,
             "learn": [
              0.03615648864
             ],
             "passed_time": 227.6060764,
             "remaining_time": 32.51515377,
             "test": [
              0.3560364397
             ]
            },
            {
             "iteration": 875,
             "learn": [
              0.03612015493
             ],
             "passed_time": 227.8590683,
             "remaining_time": 32.25402336,
             "test": [
              0.355983624
             ]
            },
            {
             "iteration": 876,
             "learn": [
              0.03605587678
             ],
             "passed_time": 228.1194823,
             "remaining_time": 31.99395247,
             "test": [
              0.3560539925
             ]
            },
            {
             "iteration": 877,
             "learn": [
              0.03604124844
             ],
             "passed_time": 228.3735296,
             "remaining_time": 31.73299614,
             "test": [
              0.3560665985
             ]
            },
            {
             "iteration": 878,
             "learn": [
              0.03599479943
             ],
             "passed_time": 228.608765,
             "remaining_time": 31.46946595,
             "test": [
              0.3561879759
             ]
            },
            {
             "iteration": 879,
             "learn": [
              0.03591225394
             ],
             "passed_time": 228.8366193,
             "remaining_time": 31.20499354,
             "test": [
              0.3563375423
             ]
            },
            {
             "iteration": 880,
             "learn": [
              0.0358541381
             ],
             "passed_time": 229.0815368,
             "remaining_time": 30.94290906,
             "test": [
              0.3565063288
             ]
            },
            {
             "iteration": 881,
             "learn": [
              0.03576665978
             ],
             "passed_time": 229.3285404,
             "remaining_time": 30.68114259,
             "test": [
              0.3566351522
             ]
            },
            {
             "iteration": 882,
             "learn": [
              0.03574559876
             ],
             "passed_time": 229.6184771,
             "remaining_time": 30.42509832,
             "test": [
              0.3566958275
             ]
            },
            {
             "iteration": 883,
             "learn": [
              0.03569526369
             ],
             "passed_time": 229.8525578,
             "remaining_time": 30.16164786,
             "test": [
              0.3568554959
             ]
            },
            {
             "iteration": 884,
             "learn": [
              0.03567017267
             ],
             "passed_time": 230.159483,
             "remaining_time": 29.90772943,
             "test": [
              0.3570781276
             ]
            },
            {
             "iteration": 885,
             "learn": [
              0.03559560673
             ],
             "passed_time": 230.4711044,
             "remaining_time": 29.6542956,
             "test": [
              0.357196961
             ]
            },
            {
             "iteration": 886,
             "learn": [
              0.0355583979
             ],
             "passed_time": 230.7460032,
             "remaining_time": 29.39605226,
             "test": [
              0.357223891
             ]
            },
            {
             "iteration": 887,
             "learn": [
              0.03551028392
             ],
             "passed_time": 230.9744401,
             "remaining_time": 29.13191136,
             "test": [
              0.3572975519
             ]
            },
            {
             "iteration": 888,
             "learn": [
              0.03543420638
             ],
             "passed_time": 231.2567034,
             "remaining_time": 28.87457151,
             "test": [
              0.3571301015
             ]
            },
            {
             "iteration": 889,
             "learn": [
              0.0353766099
             ],
             "passed_time": 231.5069596,
             "remaining_time": 28.61321973,
             "test": [
              0.3571939027
             ]
            },
            {
             "iteration": 890,
             "learn": [
              0.03534063917
             ],
             "passed_time": 231.7866085,
             "remaining_time": 28.35548859,
             "test": [
              0.3572267856
             ]
            },
            {
             "iteration": 891,
             "learn": [
              0.03526608325
             ],
             "passed_time": 232.0286913,
             "remaining_time": 28.09315993,
             "test": [
              0.3574057372
             ]
            },
            {
             "iteration": 892,
             "learn": [
              0.03523539767
             ],
             "passed_time": 232.3095798,
             "remaining_time": 27.83552636,
             "test": [
              0.3575022418
             ]
            },
            {
             "iteration": 893,
             "learn": [
              0.03519709919
             ],
             "passed_time": 232.5988558,
             "remaining_time": 27.57883525,
             "test": [
              0.3576598301
             ]
            },
            {
             "iteration": 894,
             "learn": [
              0.03514455788
             ],
             "passed_time": 232.824078,
             "remaining_time": 27.31455664,
             "test": [
              0.3576302338
             ]
            },
            {
             "iteration": 895,
             "learn": [
              0.03512568014
             ],
             "passed_time": 233.0931094,
             "remaining_time": 27.0554502,
             "test": [
              0.3576279213
             ]
            },
            {
             "iteration": 896,
             "learn": [
              0.03507708873
             ],
             "passed_time": 233.3724828,
             "remaining_time": 26.79750917,
             "test": [
              0.3577525441
             ]
            },
            {
             "iteration": 897,
             "learn": [
              0.03503420203
             ],
             "passed_time": 233.6384181,
             "remaining_time": 26.53799403,
             "test": [
              0.3576861957
             ]
            },
            {
             "iteration": 898,
             "learn": [
              0.03500268499
             ],
             "passed_time": 233.8908474,
             "remaining_time": 26.27694726,
             "test": [
              0.3576781514
             ]
            },
            {
             "iteration": 899,
             "learn": [
              0.03493745081
             ],
             "passed_time": 234.1870965,
             "remaining_time": 26.0207885,
             "test": [
              0.3578520652
             ]
            },
            {
             "iteration": 900,
             "learn": [
              0.03489438457
             ],
             "passed_time": 234.4188865,
             "remaining_time": 25.75745812,
             "test": [
              0.3579931979
             ]
            },
            {
             "iteration": 901,
             "learn": [
              0.03484070392
             ],
             "passed_time": 234.6646372,
             "remaining_time": 25.49571446,
             "test": [
              0.3580899131
             ]
            },
            {
             "iteration": 902,
             "learn": [
              0.03477375547
             ],
             "passed_time": 234.9053697,
             "remaining_time": 25.23346718,
             "test": [
              0.3582491908
             ]
            },
            {
             "iteration": 903,
             "learn": [
              0.03474535689
             ],
             "passed_time": 235.1703606,
             "remaining_time": 24.97384361,
             "test": [
              0.3582505713
             ]
            },
            {
             "iteration": 904,
             "learn": [
              0.03466749579
             ],
             "passed_time": 235.4315103,
             "remaining_time": 24.71380495,
             "test": [
              0.3582748415
             ]
            },
            {
             "iteration": 905,
             "learn": [
              0.03460109297
             ],
             "passed_time": 235.7813654,
             "remaining_time": 24.46296727,
             "test": [
              0.3582721482
             ]
            },
            {
             "iteration": 906,
             "learn": [
              0.03452492436
             ],
             "passed_time": 236.0381842,
             "remaining_time": 24.2023717,
             "test": [
              0.3583182761
             ]
            },
            {
             "iteration": 907,
             "learn": [
              0.03448726812
             ],
             "passed_time": 236.2660523,
             "remaining_time": 23.93885111,
             "test": [
              0.3583992445
             ]
            },
            {
             "iteration": 908,
             "learn": [
              0.034431544
             ],
             "passed_time": 236.4880407,
             "remaining_time": 23.67482036,
             "test": [
              0.3585493768
             ]
            },
            {
             "iteration": 909,
             "learn": [
              0.03439661287
             ],
             "passed_time": 236.7543869,
             "remaining_time": 23.41526903,
             "test": [
              0.3585763834
             ]
            },
            {
             "iteration": 910,
             "learn": [
              0.03435637415
             ],
             "passed_time": 236.9941342,
             "remaining_time": 23.15310422,
             "test": [
              0.358506641
             ]
            },
            {
             "iteration": 911,
             "learn": [
              0.03428507281
             ],
             "passed_time": 237.2502894,
             "remaining_time": 22.89257179,
             "test": [
              0.3586518161
             ]
            },
            {
             "iteration": 912,
             "learn": [
              0.03427281585
             ],
             "passed_time": 237.5480187,
             "remaining_time": 22.63601054,
             "test": [
              0.3586919505
             ]
            },
            {
             "iteration": 913,
             "learn": [
              0.03422868636
             ],
             "passed_time": 237.8026653,
             "remaining_time": 22.37530549,
             "test": [
              0.3588072464
             ]
            },
            {
             "iteration": 914,
             "learn": [
              0.03419041974
             ],
             "passed_time": 238.0742709,
             "remaining_time": 22.1161891,
             "test": [
              0.3588459478
             ]
            },
            {
             "iteration": 915,
             "learn": [
              0.03413008578
             ],
             "passed_time": 238.337951,
             "remaining_time": 21.85631865,
             "test": [
              0.3589802526
             ]
            },
            {
             "iteration": 916,
             "learn": [
              0.03408956301
             ],
             "passed_time": 238.5638125,
             "remaining_time": 21.59301683,
             "test": [
              0.3590696937
             ]
            },
            {
             "iteration": 917,
             "learn": [
              0.03404686962
             ],
             "passed_time": 238.8849895,
             "remaining_time": 21.33831061,
             "test": [
              0.3591296979
             ]
            },
            {
             "iteration": 918,
             "learn": [
              0.03388721858
             ],
             "passed_time": 239.128031,
             "remaining_time": 21.07657292,
             "test": [
              0.3594080597
             ]
            },
            {
             "iteration": 919,
             "learn": [
              0.03385430073
             ],
             "passed_time": 239.3801442,
             "remaining_time": 20.81566471,
             "test": [
              0.3594161553
             ]
            },
            {
             "iteration": 920,
             "learn": [
              0.03380675748
             ],
             "passed_time": 239.6068166,
             "remaining_time": 20.55259339,
             "test": [
              0.3594008254
             ]
            },
            {
             "iteration": 921,
             "learn": [
              0.03376749912
             ],
             "passed_time": 239.8350127,
             "remaining_time": 20.28972992,
             "test": [
              0.359488883
             ]
            },
            {
             "iteration": 922,
             "learn": [
              0.03370574827
             ],
             "passed_time": 240.1261063,
             "remaining_time": 20.03218871,
             "test": [
              0.359669119
             ]
            },
            {
             "iteration": 923,
             "learn": [
              0.03364808836
             ],
             "passed_time": 240.4244733,
             "remaining_time": 19.77517313,
             "test": [
              0.3598363859
             ]
            },
            {
             "iteration": 924,
             "learn": [
              0.03358737488
             ],
             "passed_time": 240.6689336,
             "remaining_time": 19.51369732,
             "test": [
              0.3599460125
             ]
            },
            {
             "iteration": 925,
             "learn": [
              0.03356655885
             ],
             "passed_time": 240.9594508,
             "remaining_time": 19.25593883,
             "test": [
              0.3599335774
             ]
            },
            {
             "iteration": 926,
             "learn": [
              0.03352766798
             ],
             "passed_time": 241.2237825,
             "remaining_time": 18.99604759,
             "test": [
              0.359932778
             ]
            },
            {
             "iteration": 927,
             "learn": [
              0.03349183705
             ],
             "passed_time": 241.4453728,
             "remaining_time": 18.73283065,
             "test": [
              0.3599119761
             ]
            },
            {
             "iteration": 928,
             "learn": [
              0.03343360926
             ],
             "passed_time": 241.7062342,
             "remaining_time": 18.47270466,
             "test": [
              0.3600497943
             ]
            },
            {
             "iteration": 929,
             "learn": [
              0.0333687314
             ],
             "passed_time": 241.9420342,
             "remaining_time": 18.21069075,
             "test": [
              0.36012669
             ]
            },
            {
             "iteration": 930,
             "learn": [
              0.03334836347
             ],
             "passed_time": 242.2016159,
             "remaining_time": 17.9504957,
             "test": [
              0.3602200509
             ]
            },
            {
             "iteration": 931,
             "learn": [
              0.03331454683
             ],
             "passed_time": 242.4570707,
             "remaining_time": 17.69000087,
             "test": [
              0.3602354601
             ]
            },
            {
             "iteration": 932,
             "learn": [
              0.03329471599
             ],
             "passed_time": 242.7264794,
             "remaining_time": 17.43051888,
             "test": [
              0.3602110227
             ]
            },
            {
             "iteration": 933,
             "learn": [
              0.0332459952
             ],
             "passed_time": 242.994549,
             "remaining_time": 17.17092102,
             "test": [
              0.3602536267
             ]
            },
            {
             "iteration": 934,
             "learn": [
              0.03316790807
             ],
             "passed_time": 243.2422612,
             "remaining_time": 16.90988982,
             "test": [
              0.3603722777
             ]
            },
            {
             "iteration": 935,
             "learn": [
              0.03308766507
             ],
             "passed_time": 243.4703822,
             "remaining_time": 16.6475475,
             "test": [
              0.360453049
             ]
            },
            {
             "iteration": 936,
             "learn": [
              0.03301794385
             ],
             "passed_time": 243.6981217,
             "remaining_time": 16.38525258,
             "test": [
              0.3604927373
             ]
            },
            {
             "iteration": 937,
             "learn": [
              0.03299147487
             ],
             "passed_time": 243.9990766,
             "remaining_time": 16.12787073,
             "test": [
              0.3605328475
             ]
            },
            {
             "iteration": 938,
             "learn": [
              0.03297235785
             ],
             "passed_time": 244.2856826,
             "remaining_time": 15.86946394,
             "test": [
              0.360501877
             ]
            },
            {
             "iteration": 939,
             "learn": [
              0.03293363986
             ],
             "passed_time": 244.5279828,
             "remaining_time": 15.60816912,
             "test": [
              0.3605495112
             ]
            },
            {
             "iteration": 940,
             "learn": [
              0.03290416647
             ],
             "passed_time": 244.7962785,
             "remaining_time": 15.34854456,
             "test": [
              0.3606093778
             ]
            },
            {
             "iteration": 941,
             "learn": [
              0.03279274852
             ],
             "passed_time": 245.0525605,
             "remaining_time": 15.0881619,
             "test": [
              0.3607746917
             ]
            },
            {
             "iteration": 942,
             "learn": [
              0.03276291889
             ],
             "passed_time": 245.3056855,
             "remaining_time": 14.82759711,
             "test": [
              0.3607487528
             ]
            },
            {
             "iteration": 943,
             "learn": [
              0.03271348562
             ],
             "passed_time": 245.5603273,
             "remaining_time": 14.56713806,
             "test": [
              0.3608189101
             ]
            },
            {
             "iteration": 944,
             "learn": [
              0.03264072687
             ],
             "passed_time": 245.7896311,
             "remaining_time": 14.30521663,
             "test": [
              0.3610260713
             ]
            },
            {
             "iteration": 945,
             "learn": [
              0.03257989974
             ],
             "passed_time": 246.1040283,
             "remaining_time": 14.04822149,
             "test": [
              0.3611810796
             ]
            },
            {
             "iteration": 946,
             "learn": [
              0.03250973201
             ],
             "passed_time": 246.4723109,
             "remaining_time": 13.79412088,
             "test": [
              0.3613255618
             ]
            },
            {
             "iteration": 947,
             "learn": [
              0.03247116125
             ],
             "passed_time": 246.8320253,
             "remaining_time": 13.53930941,
             "test": [
              0.3612932107
             ]
            },
            {
             "iteration": 948,
             "learn": [
              0.03241483036
             ],
             "passed_time": 247.1419753,
             "remaining_time": 13.28160247,
             "test": [
              0.3613287652
             ]
            },
            {
             "iteration": 949,
             "learn": [
              0.03235869387
             ],
             "passed_time": 247.4677275,
             "remaining_time": 13.02461724,
             "test": [
              0.3614515721
             ]
            },
            {
             "iteration": 950,
             "learn": [
              0.03232271929
             ],
             "passed_time": 247.7996394,
             "remaining_time": 12.76780476,
             "test": [
              0.361423603
             ]
            },
            {
             "iteration": 951,
             "learn": [
              0.03227346684
             ],
             "passed_time": 248.0695957,
             "remaining_time": 12.50771071,
             "test": [
              0.3614037461
             ]
            },
            {
             "iteration": 952,
             "learn": [
              0.0322094307
             ],
             "passed_time": 248.3419031,
             "remaining_time": 12.2477119,
             "test": [
              0.3615002511
             ]
            },
            {
             "iteration": 953,
             "learn": [
              0.03217141958
             ],
             "passed_time": 248.6185532,
             "remaining_time": 11.9878967,
             "test": [
              0.3615064418
             ]
            },
            {
             "iteration": 954,
             "learn": [
              0.03215757476
             ],
             "passed_time": 248.8888799,
             "remaining_time": 11.72774827,
             "test": [
              0.3615466903
             ]
            },
            {
             "iteration": 955,
             "learn": [
              0.03212517663
             ],
             "passed_time": 249.1480386,
             "remaining_time": 11.46706454,
             "test": [
              0.3616981559
             ]
            },
            {
             "iteration": 956,
             "learn": [
              0.03204377427
             ],
             "passed_time": 249.3958418,
             "remaining_time": 11.20587377,
             "test": [
              0.3619335136
             ]
            },
            {
             "iteration": 957,
             "learn": [
              0.0320147457
             ],
             "passed_time": 249.6622406,
             "remaining_time": 10.94552621,
             "test": [
              0.362076671
             ]
            },
            {
             "iteration": 958,
             "learn": [
              0.03197248682
             ],
             "passed_time": 249.8922605,
             "remaining_time": 10.68361072,
             "test": [
              0.3621365136
             ]
            },
            {
             "iteration": 959,
             "learn": [
              0.03191238554
             ],
             "passed_time": 250.1488274,
             "remaining_time": 10.42286781,
             "test": [
              0.3621716549
             ]
            },
            {
             "iteration": 960,
             "learn": [
              0.03185940426
             ],
             "passed_time": 250.4422495,
             "remaining_time": 10.16362927,
             "test": [
              0.3623267006
             ]
            },
            {
             "iteration": 961,
             "learn": [
              0.03181340619
             ],
             "passed_time": 250.6693731,
             "remaining_time": 9.901700809,
             "test": [
              0.3623453685
             ]
            },
            {
             "iteration": 962,
             "learn": [
              0.03179782874
             ],
             "passed_time": 250.9440023,
             "remaining_time": 9.64166987,
             "test": [
              0.3623697664
             ]
            },
            {
             "iteration": 963,
             "learn": [
              0.03169677631
             ],
             "passed_time": 251.2720694,
             "remaining_time": 9.38360425,
             "test": [
              0.3625983306
             ]
            },
            {
             "iteration": 964,
             "learn": [
              0.0316348868
             ],
             "passed_time": 251.5008714,
             "remaining_time": 9.121793262,
             "test": [
              0.3627036295
             ]
            },
            {
             "iteration": 965,
             "learn": [
              0.03160481723
             ],
             "passed_time": 251.7638197,
             "remaining_time": 8.861252452,
             "test": [
              0.3627763503
             ]
            },
            {
             "iteration": 966,
             "learn": [
              0.03156395881
             ],
             "passed_time": 252.0331862,
             "remaining_time": 8.600925692,
             "test": [
              0.3628400536
             ]
            },
            {
             "iteration": 967,
             "learn": [
              0.03149870729
             ],
             "passed_time": 252.3082887,
             "remaining_time": 8.340769875,
             "test": [
              0.3629515839
             ]
            },
            {
             "iteration": 968,
             "learn": [
              0.0314694241
             ],
             "passed_time": 252.6055372,
             "remaining_time": 8.081291697,
             "test": [
              0.3629456841
             ]
            },
            {
             "iteration": 969,
             "learn": [
              0.0314251853
             ],
             "passed_time": 252.862502,
             "remaining_time": 7.820489753,
             "test": [
              0.3631112014
             ]
            },
            {
             "iteration": 970,
             "learn": [
              0.03136134298
             ],
             "passed_time": 253.1295514,
             "remaining_time": 7.559996899,
             "test": [
              0.3631289669
             ]
            },
            {
             "iteration": 971,
             "learn": [
              0.0313108726
             ],
             "passed_time": 253.428051,
             "remaining_time": 7.300396532,
             "test": [
              0.363120606
             ]
            },
            {
             "iteration": 972,
             "learn": [
              0.03128509374
             ],
             "passed_time": 253.6959038,
             "remaining_time": 7.039865778,
             "test": [
              0.3632222072
             ]
            },
            {
             "iteration": 973,
             "learn": [
              0.03123461712
             ],
             "passed_time": 253.9736763,
             "remaining_time": 6.779584788,
             "test": [
              0.3632528892
             ]
            },
            {
             "iteration": 974,
             "learn": [
              0.03122025652
             ],
             "passed_time": 254.231457,
             "remaining_time": 6.518755308,
             "test": [
              0.3632731688
             ]
            },
            {
             "iteration": 975,
             "learn": [
              0.03116873153
             ],
             "passed_time": 254.584217,
             "remaining_time": 6.260267631,
             "test": [
              0.363296452
             ]
            },
            {
             "iteration": 976,
             "learn": [
              0.03114389742
             ],
             "passed_time": 254.8328343,
             "remaining_time": 5.9991353,
             "test": [
              0.3633921916
             ]
            },
            {
             "iteration": 977,
             "learn": [
              0.0311159228
             ],
             "passed_time": 255.1055577,
             "remaining_time": 5.738570828,
             "test": [
              0.363377698
             ]
            },
            {
             "iteration": 978,
             "learn": [
              0.03103634163
             ],
             "passed_time": 255.3959491,
             "remaining_time": 5.478360501,
             "test": [
              0.3635424327
             ]
            },
            {
             "iteration": 979,
             "learn": [
              0.03101175423
             ],
             "passed_time": 255.6683788,
             "remaining_time": 5.217722017,
             "test": [
              0.3635233943
             ]
            },
            {
             "iteration": 980,
             "learn": [
              0.03097717434
             ],
             "passed_time": 255.9562231,
             "remaining_time": 4.957358042,
             "test": [
              0.363723665
             ]
            },
            {
             "iteration": 981,
             "learn": [
              0.03095062193
             ],
             "passed_time": 256.256301,
             "remaining_time": 4.69716234,
             "test": [
              0.3637038143
             ]
            },
            {
             "iteration": 982,
             "learn": [
              0.03090007394
             ],
             "passed_time": 256.5204151,
             "remaining_time": 4.436263537,
             "test": [
              0.3636978892
             ]
            },
            {
             "iteration": 983,
             "learn": [
              0.03086657485
             ],
             "passed_time": 256.7626446,
             "remaining_time": 4.17500235,
             "test": [
              0.3637195803
             ]
            },
            {
             "iteration": 984,
             "learn": [
              0.03083097354
             ],
             "passed_time": 256.986432,
             "remaining_time": 3.913498964,
             "test": [
              0.3637053471
             ]
            },
            {
             "iteration": 985,
             "learn": [
              0.03080523211
             ],
             "passed_time": 257.2165264,
             "remaining_time": 3.652161633,
             "test": [
              0.3638013139
             ]
            },
            {
             "iteration": 986,
             "learn": [
              0.03071171238
             ],
             "passed_time": 257.4445328,
             "remaining_time": 3.390860107,
             "test": [
              0.3639265933
             ]
            },
            {
             "iteration": 987,
             "learn": [
              0.03067449848
             ],
             "passed_time": 257.6862239,
             "remaining_time": 3.129792193,
             "test": [
              0.3640637508
             ]
            },
            {
             "iteration": 988,
             "learn": [
              0.03061234451
             ],
             "passed_time": 257.9228685,
             "remaining_time": 2.868707334,
             "test": [
              0.3642045294
             ]
            },
            {
             "iteration": 989,
             "learn": [
              0.03059449594
             ],
             "passed_time": 258.2062152,
             "remaining_time": 2.608143588,
             "test": [
              0.3642613471
             ]
            },
            {
             "iteration": 990,
             "learn": [
              0.03053995542
             ],
             "passed_time": 258.4702472,
             "remaining_time": 2.347358451,
             "test": [
              0.3643714077
             ]
            },
            {
             "iteration": 991,
             "learn": [
              0.03047896803
             ],
             "passed_time": 258.7641515,
             "remaining_time": 2.086807673,
             "test": [
              0.3644474503
             ]
            },
            {
             "iteration": 992,
             "learn": [
              0.03043966644
             ],
             "passed_time": 259.0319877,
             "remaining_time": 1.826005956,
             "test": [
              0.3644735368
             ]
            },
            {
             "iteration": 993,
             "learn": [
              0.03040228247
             ],
             "passed_time": 259.3215682,
             "remaining_time": 1.565321337,
             "test": [
              0.3644392731
             ]
            },
            {
             "iteration": 994,
             "learn": [
              0.03036432001
             ],
             "passed_time": 259.5489069,
             "remaining_time": 1.304265864,
             "test": [
              0.3644854508
             ]
            },
            {
             "iteration": 995,
             "learn": [
              0.03029710923
             ],
             "passed_time": 259.825901,
             "remaining_time": 1.043477514,
             "test": [
              0.3645867118
             ]
            },
            {
             "iteration": 996,
             "learn": [
              0.03027092579
             ],
             "passed_time": 260.0852785,
             "remaining_time": 0.7826036465,
             "test": [
              0.3646094121
             ]
            },
            {
             "iteration": 997,
             "learn": [
              0.03023066494
             ],
             "passed_time": 260.3291567,
             "remaining_time": 0.5217017168,
             "test": [
              0.3647770671
             ]
            },
            {
             "iteration": 998,
             "learn": [
              0.03018410523
             ],
             "passed_time": 260.5976724,
             "remaining_time": 0.2608585309,
             "test": [
              0.3647861679
             ]
            },
            {
             "iteration": 999,
             "learn": [
              0.03013794735
             ],
             "passed_time": 260.8397875,
             "remaining_time": 0,
             "test": [
              0.3647558346
             ]
            }
           ],
           "meta": {
            "iteration_count": 1000,
            "launch_mode": "Train",
            "learn_metrics": [
             {
              "best_value": "Min",
              "name": "MultiClass"
             }
            ],
            "learn_sets": [
             "learn"
            ],
            "name": "experiment",
            "parameters": "",
            "test_metrics": [
             {
              "best_value": "Min",
              "name": "MultiClass"
             }
            ],
            "test_sets": [
             "test"
            ]
           }
          },
          "passed_iterations": 999,
          "total_iterations": 1000
         },
         "name": "catboost_info",
         "path": "catboost_info"
        }
       },
       "layout": "IPY_MODEL_51ccd0990cd14b8ea345e32e4e3a2518"
      }
     }
    },
    "version_major": 2,
    "version_minor": 0
   }
  }
 },
 "nbformat": 4,
 "nbformat_minor": 5
}
